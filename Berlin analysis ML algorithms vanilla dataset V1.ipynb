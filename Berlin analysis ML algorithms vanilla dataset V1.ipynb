{
 "cells": [
  {
   "cell_type": "code",
   "execution_count": 150,
   "id": "lovely-springer",
   "metadata": {},
   "outputs": [],
   "source": [
    "import numpy as np\n",
    "import pandas as pd\n",
    "import networkx as nx\n",
    "from sklearn.model_selection import train_test_split\n",
    "from sklearn.ensemble import RandomForestRegressor\n",
    "import xgboost as xgb\n",
    "import sklearn\n",
    "from sklearn import linear_model\n",
    "from sklearn.metrics import mean_squared_error\n",
    "import matplotlib.pyplot as plt"
   ]
  },
  {
   "cell_type": "code",
   "execution_count": 59,
   "id": "stone-accent",
   "metadata": {},
   "outputs": [],
   "source": [
    "edges = pd.read_csv(\"berlin_digraph_edges.csv\")\n",
    "nodes = pd.read_csv(\"berlin_digraph_nodes.csv\")"
   ]
  },
  {
   "cell_type": "markdown",
   "id": "proper-employment",
   "metadata": {},
   "source": [
    "#### Rename the source and target columns to 'source' and 'target', respectively"
   ]
  },
  {
   "cell_type": "code",
   "execution_count": 60,
   "id": "fiscal-hostel",
   "metadata": {},
   "outputs": [],
   "source": [
    "edges = edges.rename(columns = {'Unnamed: 0':'source', 'Unnamed: 1':'target'})"
   ]
  },
  {
   "cell_type": "code",
   "execution_count": 61,
   "id": "alternate-script",
   "metadata": {},
   "outputs": [
    {
     "data": {
      "text/plain": [
       "Index(['source', 'target', 'osmid', 'name', 'highway', 'maxspeed', 'oneway',\n",
       "       'length', 'geometry', 'hour_of_day', 'speed_kph_mean',\n",
       "       'speed_kph_stddev', 'est_width'],\n",
       "      dtype='object')"
      ]
     },
     "execution_count": 61,
     "metadata": {},
     "output_type": "execute_result"
    }
   ],
   "source": [
    "edges.columns"
   ]
  },
  {
   "cell_type": "code",
   "execution_count": 62,
   "id": "federal-schedule",
   "metadata": {},
   "outputs": [
    {
     "data": {
      "text/plain": [
       "(9012, 13)"
      ]
     },
     "execution_count": 62,
     "metadata": {},
     "output_type": "execute_result"
    }
   ],
   "source": [
    "edges.shape"
   ]
  },
  {
   "cell_type": "code",
   "execution_count": 63,
   "id": "ranking-output",
   "metadata": {},
   "outputs": [
    {
     "data": {
      "text/html": [
       "<div>\n",
       "<style scoped>\n",
       "    .dataframe tbody tr th:only-of-type {\n",
       "        vertical-align: middle;\n",
       "    }\n",
       "\n",
       "    .dataframe tbody tr th {\n",
       "        vertical-align: top;\n",
       "    }\n",
       "\n",
       "    .dataframe thead th {\n",
       "        text-align: right;\n",
       "    }\n",
       "</style>\n",
       "<table border=\"1\" class=\"dataframe\">\n",
       "  <thead>\n",
       "    <tr style=\"text-align: right;\">\n",
       "      <th></th>\n",
       "      <th>source</th>\n",
       "      <th>target</th>\n",
       "      <th>osmid</th>\n",
       "      <th>name</th>\n",
       "      <th>highway</th>\n",
       "      <th>maxspeed</th>\n",
       "      <th>oneway</th>\n",
       "      <th>length</th>\n",
       "      <th>geometry</th>\n",
       "      <th>hour_of_day</th>\n",
       "      <th>speed_kph_mean</th>\n",
       "      <th>speed_kph_stddev</th>\n",
       "      <th>est_width</th>\n",
       "    </tr>\n",
       "  </thead>\n",
       "  <tbody>\n",
       "    <tr>\n",
       "      <th>0</th>\n",
       "      <td>172546</td>\n",
       "      <td>530313</td>\n",
       "      <td>24295532</td>\n",
       "      <td>Emmentaler Straße</td>\n",
       "      <td>secondary</td>\n",
       "      <td>50</td>\n",
       "      <td>False</td>\n",
       "      <td>29.733</td>\n",
       "      <td>LINESTRING (13.3522545 52.567738, 13.3526642 5...</td>\n",
       "      <td>9</td>\n",
       "      <td>45.276</td>\n",
       "      <td>6.04</td>\n",
       "      <td>NaN</td>\n",
       "    </tr>\n",
       "  </tbody>\n",
       "</table>\n",
       "</div>"
      ],
      "text/plain": [
       "   source  target     osmid               name    highway maxspeed  oneway  \\\n",
       "0  172546  530313  24295532  Emmentaler Straße  secondary       50   False   \n",
       "\n",
       "   length                                           geometry  hour_of_day  \\\n",
       "0  29.733  LINESTRING (13.3522545 52.567738, 13.3526642 5...            9   \n",
       "\n",
       "   speed_kph_mean  speed_kph_stddev  est_width  \n",
       "0          45.276              6.04        NaN  "
      ]
     },
     "execution_count": 63,
     "metadata": {},
     "output_type": "execute_result"
    }
   ],
   "source": [
    "edges.head(1)"
   ]
  },
  {
   "cell_type": "markdown",
   "id": "revolutionary-missile",
   "metadata": {},
   "source": [
    "#### Drop 'osmid', 'name', 'geometry' columns\n",
    "\n",
    "These columns are not predictive of mean speed"
   ]
  },
  {
   "cell_type": "code",
   "execution_count": 64,
   "id": "asian-exclusion",
   "metadata": {},
   "outputs": [
    {
     "data": {
      "text/html": [
       "<div>\n",
       "<style scoped>\n",
       "    .dataframe tbody tr th:only-of-type {\n",
       "        vertical-align: middle;\n",
       "    }\n",
       "\n",
       "    .dataframe tbody tr th {\n",
       "        vertical-align: top;\n",
       "    }\n",
       "\n",
       "    .dataframe thead th {\n",
       "        text-align: right;\n",
       "    }\n",
       "</style>\n",
       "<table border=\"1\" class=\"dataframe\">\n",
       "  <thead>\n",
       "    <tr style=\"text-align: right;\">\n",
       "      <th></th>\n",
       "      <th>source</th>\n",
       "      <th>target</th>\n",
       "      <th>highway</th>\n",
       "      <th>maxspeed</th>\n",
       "      <th>oneway</th>\n",
       "      <th>length</th>\n",
       "      <th>hour_of_day</th>\n",
       "      <th>speed_kph_mean</th>\n",
       "      <th>speed_kph_stddev</th>\n",
       "      <th>est_width</th>\n",
       "    </tr>\n",
       "  </thead>\n",
       "  <tbody>\n",
       "    <tr>\n",
       "      <th>0</th>\n",
       "      <td>172546</td>\n",
       "      <td>530313</td>\n",
       "      <td>secondary</td>\n",
       "      <td>50</td>\n",
       "      <td>False</td>\n",
       "      <td>29.733</td>\n",
       "      <td>9</td>\n",
       "      <td>45.276</td>\n",
       "      <td>6.040</td>\n",
       "      <td>NaN</td>\n",
       "    </tr>\n",
       "    <tr>\n",
       "      <th>1</th>\n",
       "      <td>172546</td>\n",
       "      <td>28345850</td>\n",
       "      <td>secondary</td>\n",
       "      <td>50</td>\n",
       "      <td>True</td>\n",
       "      <td>64.155</td>\n",
       "      <td>9</td>\n",
       "      <td>14.532</td>\n",
       "      <td>14.245</td>\n",
       "      <td>NaN</td>\n",
       "    </tr>\n",
       "    <tr>\n",
       "      <th>2</th>\n",
       "      <td>530313</td>\n",
       "      <td>172546</td>\n",
       "      <td>secondary</td>\n",
       "      <td>50</td>\n",
       "      <td>False</td>\n",
       "      <td>29.733</td>\n",
       "      <td>7</td>\n",
       "      <td>35.007</td>\n",
       "      <td>11.342</td>\n",
       "      <td>NaN</td>\n",
       "    </tr>\n",
       "    <tr>\n",
       "      <th>3</th>\n",
       "      <td>28345850</td>\n",
       "      <td>35244866</td>\n",
       "      <td>secondary</td>\n",
       "      <td>50</td>\n",
       "      <td>True</td>\n",
       "      <td>19.106</td>\n",
       "      <td>8</td>\n",
       "      <td>35.756</td>\n",
       "      <td>11.516</td>\n",
       "      <td>NaN</td>\n",
       "    </tr>\n",
       "    <tr>\n",
       "      <th>4</th>\n",
       "      <td>28345850</td>\n",
       "      <td>29492967</td>\n",
       "      <td>secondary</td>\n",
       "      <td>50</td>\n",
       "      <td>True</td>\n",
       "      <td>197.683</td>\n",
       "      <td>8</td>\n",
       "      <td>46.770</td>\n",
       "      <td>5.457</td>\n",
       "      <td>NaN</td>\n",
       "    </tr>\n",
       "  </tbody>\n",
       "</table>\n",
       "</div>"
      ],
      "text/plain": [
       "     source    target    highway maxspeed  oneway   length  hour_of_day  \\\n",
       "0    172546    530313  secondary       50   False   29.733            9   \n",
       "1    172546  28345850  secondary       50    True   64.155            9   \n",
       "2    530313    172546  secondary       50   False   29.733            7   \n",
       "3  28345850  35244866  secondary       50    True   19.106            8   \n",
       "4  28345850  29492967  secondary       50    True  197.683            8   \n",
       "\n",
       "   speed_kph_mean  speed_kph_stddev  est_width  \n",
       "0          45.276             6.040        NaN  \n",
       "1          14.532            14.245        NaN  \n",
       "2          35.007            11.342        NaN  \n",
       "3          35.756            11.516        NaN  \n",
       "4          46.770             5.457        NaN  "
      ]
     },
     "execution_count": 64,
     "metadata": {},
     "output_type": "execute_result"
    }
   ],
   "source": [
    "edges = edges[['source', 'target', 'highway', 'maxspeed', 'oneway', 'length', 'hour_of_day', 'speed_kph_mean', 'speed_kph_stddev', 'est_width']]\n",
    "edges.head()"
   ]
  },
  {
   "cell_type": "markdown",
   "id": "renewable-macintosh",
   "metadata": {},
   "source": [
    "#### All but two values in the 'est_width' column are null, so drop that column too"
   ]
  },
  {
   "cell_type": "code",
   "execution_count": 68,
   "id": "bright-madness",
   "metadata": {},
   "outputs": [
    {
     "data": {
      "text/plain": [
       "9010"
      ]
     },
     "execution_count": 68,
     "metadata": {},
     "output_type": "execute_result"
    }
   ],
   "source": [
    "edges['est_width'].isnull().sum()"
   ]
  },
  {
   "cell_type": "code",
   "execution_count": 69,
   "id": "editorial-collection",
   "metadata": {},
   "outputs": [
    {
     "data": {
      "text/html": [
       "<div>\n",
       "<style scoped>\n",
       "    .dataframe tbody tr th:only-of-type {\n",
       "        vertical-align: middle;\n",
       "    }\n",
       "\n",
       "    .dataframe tbody tr th {\n",
       "        vertical-align: top;\n",
       "    }\n",
       "\n",
       "    .dataframe thead th {\n",
       "        text-align: right;\n",
       "    }\n",
       "</style>\n",
       "<table border=\"1\" class=\"dataframe\">\n",
       "  <thead>\n",
       "    <tr style=\"text-align: right;\">\n",
       "      <th></th>\n",
       "      <th>source</th>\n",
       "      <th>target</th>\n",
       "      <th>highway</th>\n",
       "      <th>maxspeed</th>\n",
       "      <th>oneway</th>\n",
       "      <th>length</th>\n",
       "      <th>hour_of_day</th>\n",
       "      <th>speed_kph_mean</th>\n",
       "      <th>speed_kph_stddev</th>\n",
       "    </tr>\n",
       "  </thead>\n",
       "  <tbody>\n",
       "    <tr>\n",
       "      <th>0</th>\n",
       "      <td>172546</td>\n",
       "      <td>530313</td>\n",
       "      <td>secondary</td>\n",
       "      <td>50</td>\n",
       "      <td>False</td>\n",
       "      <td>29.733</td>\n",
       "      <td>9</td>\n",
       "      <td>45.276</td>\n",
       "      <td>6.040</td>\n",
       "    </tr>\n",
       "    <tr>\n",
       "      <th>1</th>\n",
       "      <td>172546</td>\n",
       "      <td>28345850</td>\n",
       "      <td>secondary</td>\n",
       "      <td>50</td>\n",
       "      <td>True</td>\n",
       "      <td>64.155</td>\n",
       "      <td>9</td>\n",
       "      <td>14.532</td>\n",
       "      <td>14.245</td>\n",
       "    </tr>\n",
       "    <tr>\n",
       "      <th>2</th>\n",
       "      <td>530313</td>\n",
       "      <td>172546</td>\n",
       "      <td>secondary</td>\n",
       "      <td>50</td>\n",
       "      <td>False</td>\n",
       "      <td>29.733</td>\n",
       "      <td>7</td>\n",
       "      <td>35.007</td>\n",
       "      <td>11.342</td>\n",
       "    </tr>\n",
       "    <tr>\n",
       "      <th>3</th>\n",
       "      <td>28345850</td>\n",
       "      <td>35244866</td>\n",
       "      <td>secondary</td>\n",
       "      <td>50</td>\n",
       "      <td>True</td>\n",
       "      <td>19.106</td>\n",
       "      <td>8</td>\n",
       "      <td>35.756</td>\n",
       "      <td>11.516</td>\n",
       "    </tr>\n",
       "    <tr>\n",
       "      <th>4</th>\n",
       "      <td>28345850</td>\n",
       "      <td>29492967</td>\n",
       "      <td>secondary</td>\n",
       "      <td>50</td>\n",
       "      <td>True</td>\n",
       "      <td>197.683</td>\n",
       "      <td>8</td>\n",
       "      <td>46.770</td>\n",
       "      <td>5.457</td>\n",
       "    </tr>\n",
       "  </tbody>\n",
       "</table>\n",
       "</div>"
      ],
      "text/plain": [
       "     source    target    highway maxspeed  oneway   length  hour_of_day  \\\n",
       "0    172546    530313  secondary       50   False   29.733            9   \n",
       "1    172546  28345850  secondary       50    True   64.155            9   \n",
       "2    530313    172546  secondary       50   False   29.733            7   \n",
       "3  28345850  35244866  secondary       50    True   19.106            8   \n",
       "4  28345850  29492967  secondary       50    True  197.683            8   \n",
       "\n",
       "   speed_kph_mean  speed_kph_stddev  \n",
       "0          45.276             6.040  \n",
       "1          14.532            14.245  \n",
       "2          35.007            11.342  \n",
       "3          35.756            11.516  \n",
       "4          46.770             5.457  "
      ]
     },
     "execution_count": 69,
     "metadata": {},
     "output_type": "execute_result"
    }
   ],
   "source": [
    "edges = edges[['source', 'target', 'highway', 'maxspeed', 'oneway', 'length', 'hour_of_day', 'speed_kph_mean', 'speed_kph_stddev']]\n",
    "edges.head()"
   ]
  },
  {
   "cell_type": "code",
   "execution_count": 91,
   "id": "standard-military",
   "metadata": {},
   "outputs": [
    {
     "data": {
      "text/plain": [
       "source                int64\n",
       "target                int64\n",
       "highway              object\n",
       "maxspeed             object\n",
       "oneway                 bool\n",
       "length              float64\n",
       "hour_of_day           int64\n",
       "speed_kph_mean      float64\n",
       "speed_kph_stddev    float64\n",
       "dtype: object"
      ]
     },
     "execution_count": 91,
     "metadata": {},
     "output_type": "execute_result"
    }
   ],
   "source": [
    "edges.dtypes"
   ]
  },
  {
   "cell_type": "markdown",
   "id": "changed-telephone",
   "metadata": {},
   "source": [
    "#### 250 rows have a null 'maxspeed' value"
   ]
  },
  {
   "cell_type": "code",
   "execution_count": 74,
   "id": "dietary-lebanon",
   "metadata": {},
   "outputs": [
    {
     "data": {
      "text/plain": [
       "250"
      ]
     },
     "execution_count": 74,
     "metadata": {},
     "output_type": "execute_result"
    }
   ],
   "source": [
    "edges['maxspeed'].isnull().sum()"
   ]
  },
  {
   "cell_type": "code",
   "execution_count": 80,
   "id": "numeric-creator",
   "metadata": {},
   "outputs": [
    {
     "data": {
      "text/plain": [
       "50              6120\n",
       "30              2444\n",
       "60               101\n",
       "10                43\n",
       "80                32\n",
       "20                18\n",
       "['50', '30']       2\n",
       "70                 1\n",
       "40                 1\n",
       "Name: maxspeed, dtype: int64"
      ]
     },
     "execution_count": 80,
     "metadata": {},
     "output_type": "execute_result"
    }
   ],
   "source": [
    "edges['maxspeed'].value_counts()"
   ]
  },
  {
   "cell_type": "markdown",
   "id": "nervous-target",
   "metadata": {},
   "source": [
    "#### Replace nulls with the mode 'maxspeed' value"
   ]
  },
  {
   "cell_type": "code",
   "execution_count": 82,
   "id": "viral-domestic",
   "metadata": {},
   "outputs": [],
   "source": [
    "edges['maxspeed'].fillna(edges['maxspeed'].mode()[0], inplace=True)"
   ]
  },
  {
   "cell_type": "code",
   "execution_count": 88,
   "id": "sufficient-envelope",
   "metadata": {},
   "outputs": [
    {
     "data": {
      "text/plain": [
       "0"
      ]
     },
     "execution_count": 88,
     "metadata": {},
     "output_type": "execute_result"
    }
   ],
   "source": [
    "edges['maxspeed'].isnull().sum()"
   ]
  },
  {
   "cell_type": "code",
   "execution_count": 93,
   "id": "delayed-story",
   "metadata": {},
   "outputs": [
    {
     "data": {
      "text/plain": [
       "source                int64\n",
       "target                int64\n",
       "highway              object\n",
       "maxspeed             object\n",
       "oneway                 bool\n",
       "length              float64\n",
       "hour_of_day           int64\n",
       "speed_kph_mean      float64\n",
       "speed_kph_stddev    float64\n",
       "dtype: object"
      ]
     },
     "execution_count": 93,
     "metadata": {},
     "output_type": "execute_result"
    }
   ],
   "source": [
    "edges.dtypes"
   ]
  },
  {
   "cell_type": "code",
   "execution_count": 109,
   "id": "valuable-dubai",
   "metadata": {},
   "outputs": [
    {
     "data": {
      "text/plain": [
       "50              6370\n",
       "30              2444\n",
       "60               101\n",
       "10                43\n",
       "80                32\n",
       "20                18\n",
       "['50', '30']       2\n",
       "70                 1\n",
       "40                 1\n",
       "Name: maxspeed, dtype: int64"
      ]
     },
     "execution_count": 109,
     "metadata": {},
     "output_type": "execute_result"
    }
   ],
   "source": [
    "edges['maxspeed'].value_counts()"
   ]
  },
  {
   "cell_type": "markdown",
   "id": "adult-circuit",
   "metadata": {},
   "source": [
    "#### Get rid of the two annoying '['50', '30']' values and replace them with '50'"
   ]
  },
  {
   "cell_type": "code",
   "execution_count": 116,
   "id": "verbal-intervention",
   "metadata": {},
   "outputs": [],
   "source": [
    "edges['maxspeed'] = edges['maxspeed'].replace(\"['50', '30']\", '50')"
   ]
  },
  {
   "cell_type": "code",
   "execution_count": 117,
   "id": "civilian-consciousness",
   "metadata": {},
   "outputs": [
    {
     "data": {
      "text/plain": [
       "50    6372\n",
       "30    2444\n",
       "60     101\n",
       "10      43\n",
       "80      32\n",
       "20      18\n",
       "70       1\n",
       "40       1\n",
       "Name: maxspeed, dtype: int64"
      ]
     },
     "execution_count": 117,
     "metadata": {},
     "output_type": "execute_result"
    }
   ],
   "source": [
    "edges['maxspeed'].value_counts()"
   ]
  },
  {
   "cell_type": "markdown",
   "id": "pacific-literature",
   "metadata": {},
   "source": [
    "#### Convert the 'maxspeed' column from categorical to integer"
   ]
  },
  {
   "cell_type": "code",
   "execution_count": 118,
   "id": "athletic-lottery",
   "metadata": {},
   "outputs": [],
   "source": [
    "edges['maxspeed'] = edges['maxspeed'].astype(str).astype(int)"
   ]
  },
  {
   "cell_type": "code",
   "execution_count": 119,
   "id": "thorough-consultancy",
   "metadata": {},
   "outputs": [
    {
     "data": {
      "text/plain": [
       "source                int64\n",
       "target                int64\n",
       "highway              object\n",
       "maxspeed              int32\n",
       "oneway                 bool\n",
       "length              float64\n",
       "hour_of_day           int64\n",
       "speed_kph_mean      float64\n",
       "speed_kph_stddev    float64\n",
       "dtype: object"
      ]
     },
     "execution_count": 119,
     "metadata": {},
     "output_type": "execute_result"
    }
   ],
   "source": [
    "edges.dtypes"
   ]
  },
  {
   "cell_type": "markdown",
   "id": "happy-conversion",
   "metadata": {},
   "source": [
    "#### One-hot encode the 'highway' categorical column"
   ]
  },
  {
   "cell_type": "code",
   "execution_count": 125,
   "id": "sixth-newspaper",
   "metadata": {},
   "outputs": [
    {
     "data": {
      "text/html": [
       "<div>\n",
       "<style scoped>\n",
       "    .dataframe tbody tr th:only-of-type {\n",
       "        vertical-align: middle;\n",
       "    }\n",
       "\n",
       "    .dataframe tbody tr th {\n",
       "        vertical-align: top;\n",
       "    }\n",
       "\n",
       "    .dataframe thead th {\n",
       "        text-align: right;\n",
       "    }\n",
       "</style>\n",
       "<table border=\"1\" class=\"dataframe\">\n",
       "  <thead>\n",
       "    <tr style=\"text-align: right;\">\n",
       "      <th></th>\n",
       "      <th>source</th>\n",
       "      <th>target</th>\n",
       "      <th>maxspeed</th>\n",
       "      <th>oneway</th>\n",
       "      <th>length</th>\n",
       "      <th>hour_of_day</th>\n",
       "      <th>speed_kph_mean</th>\n",
       "      <th>speed_kph_stddev</th>\n",
       "      <th>highway_['residential', 'living_street']</th>\n",
       "      <th>highway_living_street</th>\n",
       "      <th>...</th>\n",
       "      <th>highway_motorway_link</th>\n",
       "      <th>highway_primary</th>\n",
       "      <th>highway_primary_link</th>\n",
       "      <th>highway_residential</th>\n",
       "      <th>highway_secondary</th>\n",
       "      <th>highway_secondary_link</th>\n",
       "      <th>highway_tertiary</th>\n",
       "      <th>highway_tertiary_link</th>\n",
       "      <th>highway_trunk_link</th>\n",
       "      <th>highway_unclassified</th>\n",
       "    </tr>\n",
       "  </thead>\n",
       "  <tbody>\n",
       "    <tr>\n",
       "      <th>0</th>\n",
       "      <td>172546</td>\n",
       "      <td>530313</td>\n",
       "      <td>50</td>\n",
       "      <td>False</td>\n",
       "      <td>29.733</td>\n",
       "      <td>9</td>\n",
       "      <td>45.276</td>\n",
       "      <td>6.040</td>\n",
       "      <td>0</td>\n",
       "      <td>0</td>\n",
       "      <td>...</td>\n",
       "      <td>0</td>\n",
       "      <td>0</td>\n",
       "      <td>0</td>\n",
       "      <td>0</td>\n",
       "      <td>1</td>\n",
       "      <td>0</td>\n",
       "      <td>0</td>\n",
       "      <td>0</td>\n",
       "      <td>0</td>\n",
       "      <td>0</td>\n",
       "    </tr>\n",
       "    <tr>\n",
       "      <th>1</th>\n",
       "      <td>172546</td>\n",
       "      <td>28345850</td>\n",
       "      <td>50</td>\n",
       "      <td>True</td>\n",
       "      <td>64.155</td>\n",
       "      <td>9</td>\n",
       "      <td>14.532</td>\n",
       "      <td>14.245</td>\n",
       "      <td>0</td>\n",
       "      <td>0</td>\n",
       "      <td>...</td>\n",
       "      <td>0</td>\n",
       "      <td>0</td>\n",
       "      <td>0</td>\n",
       "      <td>0</td>\n",
       "      <td>1</td>\n",
       "      <td>0</td>\n",
       "      <td>0</td>\n",
       "      <td>0</td>\n",
       "      <td>0</td>\n",
       "      <td>0</td>\n",
       "    </tr>\n",
       "    <tr>\n",
       "      <th>2</th>\n",
       "      <td>530313</td>\n",
       "      <td>172546</td>\n",
       "      <td>50</td>\n",
       "      <td>False</td>\n",
       "      <td>29.733</td>\n",
       "      <td>7</td>\n",
       "      <td>35.007</td>\n",
       "      <td>11.342</td>\n",
       "      <td>0</td>\n",
       "      <td>0</td>\n",
       "      <td>...</td>\n",
       "      <td>0</td>\n",
       "      <td>0</td>\n",
       "      <td>0</td>\n",
       "      <td>0</td>\n",
       "      <td>1</td>\n",
       "      <td>0</td>\n",
       "      <td>0</td>\n",
       "      <td>0</td>\n",
       "      <td>0</td>\n",
       "      <td>0</td>\n",
       "    </tr>\n",
       "    <tr>\n",
       "      <th>3</th>\n",
       "      <td>28345850</td>\n",
       "      <td>35244866</td>\n",
       "      <td>50</td>\n",
       "      <td>True</td>\n",
       "      <td>19.106</td>\n",
       "      <td>8</td>\n",
       "      <td>35.756</td>\n",
       "      <td>11.516</td>\n",
       "      <td>0</td>\n",
       "      <td>0</td>\n",
       "      <td>...</td>\n",
       "      <td>0</td>\n",
       "      <td>0</td>\n",
       "      <td>0</td>\n",
       "      <td>0</td>\n",
       "      <td>1</td>\n",
       "      <td>0</td>\n",
       "      <td>0</td>\n",
       "      <td>0</td>\n",
       "      <td>0</td>\n",
       "      <td>0</td>\n",
       "    </tr>\n",
       "    <tr>\n",
       "      <th>4</th>\n",
       "      <td>28345850</td>\n",
       "      <td>29492967</td>\n",
       "      <td>50</td>\n",
       "      <td>True</td>\n",
       "      <td>197.683</td>\n",
       "      <td>8</td>\n",
       "      <td>46.770</td>\n",
       "      <td>5.457</td>\n",
       "      <td>0</td>\n",
       "      <td>0</td>\n",
       "      <td>...</td>\n",
       "      <td>0</td>\n",
       "      <td>0</td>\n",
       "      <td>0</td>\n",
       "      <td>0</td>\n",
       "      <td>1</td>\n",
       "      <td>0</td>\n",
       "      <td>0</td>\n",
       "      <td>0</td>\n",
       "      <td>0</td>\n",
       "      <td>0</td>\n",
       "    </tr>\n",
       "  </tbody>\n",
       "</table>\n",
       "<p>5 rows × 21 columns</p>\n",
       "</div>"
      ],
      "text/plain": [
       "     source    target  maxspeed  oneway   length  hour_of_day  speed_kph_mean  \\\n",
       "0    172546    530313        50   False   29.733            9          45.276   \n",
       "1    172546  28345850        50    True   64.155            9          14.532   \n",
       "2    530313    172546        50   False   29.733            7          35.007   \n",
       "3  28345850  35244866        50    True   19.106            8          35.756   \n",
       "4  28345850  29492967        50    True  197.683            8          46.770   \n",
       "\n",
       "   speed_kph_stddev  highway_['residential', 'living_street']  \\\n",
       "0             6.040                                         0   \n",
       "1            14.245                                         0   \n",
       "2            11.342                                         0   \n",
       "3            11.516                                         0   \n",
       "4             5.457                                         0   \n",
       "\n",
       "   highway_living_street  ...  highway_motorway_link  highway_primary  \\\n",
       "0                      0  ...                      0                0   \n",
       "1                      0  ...                      0                0   \n",
       "2                      0  ...                      0                0   \n",
       "3                      0  ...                      0                0   \n",
       "4                      0  ...                      0                0   \n",
       "\n",
       "   highway_primary_link  highway_residential  highway_secondary  \\\n",
       "0                     0                    0                  1   \n",
       "1                     0                    0                  1   \n",
       "2                     0                    0                  1   \n",
       "3                     0                    0                  1   \n",
       "4                     0                    0                  1   \n",
       "\n",
       "   highway_secondary_link  highway_tertiary  highway_tertiary_link  \\\n",
       "0                       0                 0                      0   \n",
       "1                       0                 0                      0   \n",
       "2                       0                 0                      0   \n",
       "3                       0                 0                      0   \n",
       "4                       0                 0                      0   \n",
       "\n",
       "   highway_trunk_link  highway_unclassified  \n",
       "0                   0                     0  \n",
       "1                   0                     0  \n",
       "2                   0                     0  \n",
       "3                   0                     0  \n",
       "4                   0                     0  \n",
       "\n",
       "[5 rows x 21 columns]"
      ]
     },
     "execution_count": 125,
     "metadata": {},
     "output_type": "execute_result"
    }
   ],
   "source": [
    "modeldf = pd.get_dummies(edges)\n",
    "modeldf.head()"
   ]
  },
  {
   "cell_type": "code",
   "execution_count": 126,
   "id": "downtown-chuck",
   "metadata": {},
   "outputs": [
    {
     "data": {
      "text/plain": [
       "source                                        int64\n",
       "target                                        int64\n",
       "maxspeed                                      int32\n",
       "oneway                                         bool\n",
       "length                                      float64\n",
       "hour_of_day                                   int64\n",
       "speed_kph_mean                              float64\n",
       "speed_kph_stddev                            float64\n",
       "highway_['residential', 'living_street']      uint8\n",
       "highway_living_street                         uint8\n",
       "highway_motorway                              uint8\n",
       "highway_motorway_link                         uint8\n",
       "highway_primary                               uint8\n",
       "highway_primary_link                          uint8\n",
       "highway_residential                           uint8\n",
       "highway_secondary                             uint8\n",
       "highway_secondary_link                        uint8\n",
       "highway_tertiary                              uint8\n",
       "highway_tertiary_link                         uint8\n",
       "highway_trunk_link                            uint8\n",
       "highway_unclassified                          uint8\n",
       "dtype: object"
      ]
     },
     "execution_count": 126,
     "metadata": {},
     "output_type": "execute_result"
    }
   ],
   "source": [
    "modeldf.dtypes"
   ]
  },
  {
   "cell_type": "markdown",
   "id": "muslim-terminal",
   "metadata": {},
   "source": [
    "#### Drop the 'speed_kph_stddev' column because it's a function of 'speed_kph_mean'"
   ]
  },
  {
   "cell_type": "code",
   "execution_count": 135,
   "id": "adjustable-kingdom",
   "metadata": {},
   "outputs": [],
   "source": [
    "modeldf = modeldf.drop(['speed_kph_stddev'], axis=1)"
   ]
  },
  {
   "cell_type": "code",
   "execution_count": 139,
   "id": "compressed-windsor",
   "metadata": {},
   "outputs": [
    {
     "data": {
      "text/plain": [
       "source                                        int64\n",
       "target                                        int64\n",
       "maxspeed                                      int32\n",
       "oneway                                         bool\n",
       "length                                      float64\n",
       "hour_of_day                                   int64\n",
       "speed_kph_mean                              float64\n",
       "highway_['residential', 'living_street']      uint8\n",
       "highway_living_street                         uint8\n",
       "highway_motorway                              uint8\n",
       "highway_motorway_link                         uint8\n",
       "highway_primary                               uint8\n",
       "highway_primary_link                          uint8\n",
       "highway_residential                           uint8\n",
       "highway_secondary                             uint8\n",
       "highway_secondary_link                        uint8\n",
       "highway_tertiary                              uint8\n",
       "highway_tertiary_link                         uint8\n",
       "highway_trunk_link                            uint8\n",
       "highway_unclassified                          uint8\n",
       "dtype: object"
      ]
     },
     "execution_count": 139,
     "metadata": {},
     "output_type": "execute_result"
    }
   ],
   "source": [
    "modeldf.dtypes"
   ]
  },
  {
   "cell_type": "code",
   "execution_count": 136,
   "id": "hazardous-junior",
   "metadata": {},
   "outputs": [],
   "source": [
    "y = modeldf['speed_kph_mean']"
   ]
  },
  {
   "cell_type": "code",
   "execution_count": 137,
   "id": "numerous-thriller",
   "metadata": {},
   "outputs": [],
   "source": [
    "X = modeldf.drop(['speed_kph_mean'], axis=1)"
   ]
  },
  {
   "cell_type": "code",
   "execution_count": 138,
   "id": "therapeutic-stevens",
   "metadata": {},
   "outputs": [
    {
     "data": {
      "text/html": [
       "<div>\n",
       "<style scoped>\n",
       "    .dataframe tbody tr th:only-of-type {\n",
       "        vertical-align: middle;\n",
       "    }\n",
       "\n",
       "    .dataframe tbody tr th {\n",
       "        vertical-align: top;\n",
       "    }\n",
       "\n",
       "    .dataframe thead th {\n",
       "        text-align: right;\n",
       "    }\n",
       "</style>\n",
       "<table border=\"1\" class=\"dataframe\">\n",
       "  <thead>\n",
       "    <tr style=\"text-align: right;\">\n",
       "      <th></th>\n",
       "      <th>source</th>\n",
       "      <th>target</th>\n",
       "      <th>maxspeed</th>\n",
       "      <th>oneway</th>\n",
       "      <th>length</th>\n",
       "      <th>hour_of_day</th>\n",
       "      <th>highway_['residential', 'living_street']</th>\n",
       "      <th>highway_living_street</th>\n",
       "      <th>highway_motorway</th>\n",
       "      <th>highway_motorway_link</th>\n",
       "      <th>highway_primary</th>\n",
       "      <th>highway_primary_link</th>\n",
       "      <th>highway_residential</th>\n",
       "      <th>highway_secondary</th>\n",
       "      <th>highway_secondary_link</th>\n",
       "      <th>highway_tertiary</th>\n",
       "      <th>highway_tertiary_link</th>\n",
       "      <th>highway_trunk_link</th>\n",
       "      <th>highway_unclassified</th>\n",
       "    </tr>\n",
       "  </thead>\n",
       "  <tbody>\n",
       "    <tr>\n",
       "      <th>0</th>\n",
       "      <td>172546</td>\n",
       "      <td>530313</td>\n",
       "      <td>50</td>\n",
       "      <td>False</td>\n",
       "      <td>29.733</td>\n",
       "      <td>9</td>\n",
       "      <td>0</td>\n",
       "      <td>0</td>\n",
       "      <td>0</td>\n",
       "      <td>0</td>\n",
       "      <td>0</td>\n",
       "      <td>0</td>\n",
       "      <td>0</td>\n",
       "      <td>1</td>\n",
       "      <td>0</td>\n",
       "      <td>0</td>\n",
       "      <td>0</td>\n",
       "      <td>0</td>\n",
       "      <td>0</td>\n",
       "    </tr>\n",
       "    <tr>\n",
       "      <th>1</th>\n",
       "      <td>172546</td>\n",
       "      <td>28345850</td>\n",
       "      <td>50</td>\n",
       "      <td>True</td>\n",
       "      <td>64.155</td>\n",
       "      <td>9</td>\n",
       "      <td>0</td>\n",
       "      <td>0</td>\n",
       "      <td>0</td>\n",
       "      <td>0</td>\n",
       "      <td>0</td>\n",
       "      <td>0</td>\n",
       "      <td>0</td>\n",
       "      <td>1</td>\n",
       "      <td>0</td>\n",
       "      <td>0</td>\n",
       "      <td>0</td>\n",
       "      <td>0</td>\n",
       "      <td>0</td>\n",
       "    </tr>\n",
       "    <tr>\n",
       "      <th>2</th>\n",
       "      <td>530313</td>\n",
       "      <td>172546</td>\n",
       "      <td>50</td>\n",
       "      <td>False</td>\n",
       "      <td>29.733</td>\n",
       "      <td>7</td>\n",
       "      <td>0</td>\n",
       "      <td>0</td>\n",
       "      <td>0</td>\n",
       "      <td>0</td>\n",
       "      <td>0</td>\n",
       "      <td>0</td>\n",
       "      <td>0</td>\n",
       "      <td>1</td>\n",
       "      <td>0</td>\n",
       "      <td>0</td>\n",
       "      <td>0</td>\n",
       "      <td>0</td>\n",
       "      <td>0</td>\n",
       "    </tr>\n",
       "    <tr>\n",
       "      <th>3</th>\n",
       "      <td>28345850</td>\n",
       "      <td>35244866</td>\n",
       "      <td>50</td>\n",
       "      <td>True</td>\n",
       "      <td>19.106</td>\n",
       "      <td>8</td>\n",
       "      <td>0</td>\n",
       "      <td>0</td>\n",
       "      <td>0</td>\n",
       "      <td>0</td>\n",
       "      <td>0</td>\n",
       "      <td>0</td>\n",
       "      <td>0</td>\n",
       "      <td>1</td>\n",
       "      <td>0</td>\n",
       "      <td>0</td>\n",
       "      <td>0</td>\n",
       "      <td>0</td>\n",
       "      <td>0</td>\n",
       "    </tr>\n",
       "    <tr>\n",
       "      <th>4</th>\n",
       "      <td>28345850</td>\n",
       "      <td>29492967</td>\n",
       "      <td>50</td>\n",
       "      <td>True</td>\n",
       "      <td>197.683</td>\n",
       "      <td>8</td>\n",
       "      <td>0</td>\n",
       "      <td>0</td>\n",
       "      <td>0</td>\n",
       "      <td>0</td>\n",
       "      <td>0</td>\n",
       "      <td>0</td>\n",
       "      <td>0</td>\n",
       "      <td>1</td>\n",
       "      <td>0</td>\n",
       "      <td>0</td>\n",
       "      <td>0</td>\n",
       "      <td>0</td>\n",
       "      <td>0</td>\n",
       "    </tr>\n",
       "  </tbody>\n",
       "</table>\n",
       "</div>"
      ],
      "text/plain": [
       "     source    target  maxspeed  oneway   length  hour_of_day  \\\n",
       "0    172546    530313        50   False   29.733            9   \n",
       "1    172546  28345850        50    True   64.155            9   \n",
       "2    530313    172546        50   False   29.733            7   \n",
       "3  28345850  35244866        50    True   19.106            8   \n",
       "4  28345850  29492967        50    True  197.683            8   \n",
       "\n",
       "   highway_['residential', 'living_street']  highway_living_street  \\\n",
       "0                                         0                      0   \n",
       "1                                         0                      0   \n",
       "2                                         0                      0   \n",
       "3                                         0                      0   \n",
       "4                                         0                      0   \n",
       "\n",
       "   highway_motorway  highway_motorway_link  highway_primary  \\\n",
       "0                 0                      0                0   \n",
       "1                 0                      0                0   \n",
       "2                 0                      0                0   \n",
       "3                 0                      0                0   \n",
       "4                 0                      0                0   \n",
       "\n",
       "   highway_primary_link  highway_residential  highway_secondary  \\\n",
       "0                     0                    0                  1   \n",
       "1                     0                    0                  1   \n",
       "2                     0                    0                  1   \n",
       "3                     0                    0                  1   \n",
       "4                     0                    0                  1   \n",
       "\n",
       "   highway_secondary_link  highway_tertiary  highway_tertiary_link  \\\n",
       "0                       0                 0                      0   \n",
       "1                       0                 0                      0   \n",
       "2                       0                 0                      0   \n",
       "3                       0                 0                      0   \n",
       "4                       0                 0                      0   \n",
       "\n",
       "   highway_trunk_link  highway_unclassified  \n",
       "0                   0                     0  \n",
       "1                   0                     0  \n",
       "2                   0                     0  \n",
       "3                   0                     0  \n",
       "4                   0                     0  "
      ]
     },
     "execution_count": 138,
     "metadata": {},
     "output_type": "execute_result"
    }
   ],
   "source": [
    "X.head()"
   ]
  },
  {
   "cell_type": "markdown",
   "id": "molecular-timing",
   "metadata": {},
   "source": [
    "#### Split the dataframe into train, test and split"
   ]
  },
  {
   "cell_type": "code",
   "execution_count": 132,
   "id": "touched-segment",
   "metadata": {},
   "outputs": [],
   "source": [
    "X_train, X_test, y_train, y_test = train_test_split(X, y, test_size=0.25, random_state=13)"
   ]
  },
  {
   "cell_type": "markdown",
   "id": "suffering-kelly",
   "metadata": {},
   "source": [
    "#### Fit a linear regression model"
   ]
  },
  {
   "cell_type": "code",
   "execution_count": 156,
   "id": "hazardous-boring",
   "metadata": {},
   "outputs": [],
   "source": [
    "regr = linear_model.LinearRegression().fit(X_train, y_train)\n",
    "y_pred = regr.predict(X_test)"
   ]
  },
  {
   "cell_type": "code",
   "execution_count": 161,
   "id": "laden-separate",
   "metadata": {},
   "outputs": [
    {
     "name": "stdout",
     "output_type": "stream",
     "text": [
      "Coefficients: \n",
      " [ 1.36104243e-10  4.64771140e-10  2.26043472e-01  4.31497673e-01\n",
      "  2.13138847e-02 -7.66700777e-01 -9.52310457e-01 -8.99561892e+00\n",
      " -1.60656737e+01  2.98988921e+01  6.71840545e+00  6.31328930e+00\n",
      " -3.49757674e+00 -5.93640421e+00  3.66655091e+00 -4.27897308e+00\n",
      "  2.08222534e-01 -6.27859128e+00  0.00000000e+00 -1.75252235e+00]\n"
     ]
    }
   ],
   "source": [
    "# The coefficients\n",
    "# carried over from a homework notebook; not super crucial\n",
    "print('Coefficients: \\n', regr.coef_)"
   ]
  },
  {
   "cell_type": "code",
   "execution_count": 158,
   "id": "speaking-conditioning",
   "metadata": {},
   "outputs": [
    {
     "name": "stdout",
     "output_type": "stream",
     "text": [
      "Mean squared error: 63.34\n"
     ]
    }
   ],
   "source": [
    "# Mean squared error\n",
    "print('Mean squared error: %.2f'\n",
    "      % mean_squared_error(y_test, y_pred))"
   ]
  },
  {
   "cell_type": "markdown",
   "id": "pediatric-subdivision",
   "metadata": {},
   "source": [
    "#### Can't get the plot to work, but not super important"
   ]
  },
  {
   "cell_type": "code",
   "execution_count": null,
   "id": "signed-clinic",
   "metadata": {},
   "outputs": [],
   "source": [
    "# Plot outputs\n",
    "plt.scatter(X_test, y_test, color='black')\n",
    "plt.plot(X_test, y_pred, color='blue', linewidth=3)\n",
    "\n",
    "plt.xticks(())\n",
    "plt.yticks(())\n",
    "\n",
    "plt.show()"
   ]
  },
  {
   "cell_type": "code",
   "execution_count": 154,
   "id": "ceramic-assault",
   "metadata": {},
   "outputs": [
    {
     "name": "stdout",
     "output_type": "stream",
     "text": [
      "(2253, 20) (2253,) (2253,)\n"
     ]
    }
   ],
   "source": [
    "print(X_test.shape, y_test.shape, y_pred.shape)"
   ]
  },
  {
   "cell_type": "markdown",
   "id": "maritime-variety",
   "metadata": {},
   "source": [
    "#### Fit a random forest regression model"
   ]
  },
  {
   "cell_type": "code",
   "execution_count": 159,
   "id": "valued-guitar",
   "metadata": {},
   "outputs": [],
   "source": [
    "RFregressor = RandomForestRegressor(n_estimators = 100, random_state = 0).fit(X_train, y_train)\n",
    "y_pred = RFregressor.predict(X_test)"
   ]
  },
  {
   "cell_type": "code",
   "execution_count": 160,
   "id": "finished-simulation",
   "metadata": {},
   "outputs": [
    {
     "name": "stdout",
     "output_type": "stream",
     "text": [
      "Mean squared error: 53.87\n"
     ]
    }
   ],
   "source": [
    "# Mean squared error\n",
    "print('Mean squared error: %.2f'\n",
    "      % mean_squared_error(y_test, y_pred))"
   ]
  },
  {
   "cell_type": "markdown",
   "id": "shared-license",
   "metadata": {},
   "source": [
    "## Now I'll try dropping the two node columns (source, target) to see if the MSE improves"
   ]
  },
  {
   "cell_type": "code",
   "execution_count": 162,
   "id": "advisory-bulgaria",
   "metadata": {},
   "outputs": [],
   "source": [
    "X = modeldf.drop(['source', 'target'], axis=1)"
   ]
  },
  {
   "cell_type": "code",
   "execution_count": 163,
   "id": "ancient-january",
   "metadata": {},
   "outputs": [
    {
     "data": {
      "text/html": [
       "<div>\n",
       "<style scoped>\n",
       "    .dataframe tbody tr th:only-of-type {\n",
       "        vertical-align: middle;\n",
       "    }\n",
       "\n",
       "    .dataframe tbody tr th {\n",
       "        vertical-align: top;\n",
       "    }\n",
       "\n",
       "    .dataframe thead th {\n",
       "        text-align: right;\n",
       "    }\n",
       "</style>\n",
       "<table border=\"1\" class=\"dataframe\">\n",
       "  <thead>\n",
       "    <tr style=\"text-align: right;\">\n",
       "      <th></th>\n",
       "      <th>maxspeed</th>\n",
       "      <th>oneway</th>\n",
       "      <th>length</th>\n",
       "      <th>hour_of_day</th>\n",
       "      <th>speed_kph_mean</th>\n",
       "      <th>highway_['residential', 'living_street']</th>\n",
       "      <th>highway_living_street</th>\n",
       "      <th>highway_motorway</th>\n",
       "      <th>highway_motorway_link</th>\n",
       "      <th>highway_primary</th>\n",
       "      <th>highway_primary_link</th>\n",
       "      <th>highway_residential</th>\n",
       "      <th>highway_secondary</th>\n",
       "      <th>highway_secondary_link</th>\n",
       "      <th>highway_tertiary</th>\n",
       "      <th>highway_tertiary_link</th>\n",
       "      <th>highway_trunk_link</th>\n",
       "      <th>highway_unclassified</th>\n",
       "    </tr>\n",
       "  </thead>\n",
       "  <tbody>\n",
       "    <tr>\n",
       "      <th>0</th>\n",
       "      <td>50</td>\n",
       "      <td>False</td>\n",
       "      <td>29.733</td>\n",
       "      <td>9</td>\n",
       "      <td>45.276</td>\n",
       "      <td>0</td>\n",
       "      <td>0</td>\n",
       "      <td>0</td>\n",
       "      <td>0</td>\n",
       "      <td>0</td>\n",
       "      <td>0</td>\n",
       "      <td>0</td>\n",
       "      <td>1</td>\n",
       "      <td>0</td>\n",
       "      <td>0</td>\n",
       "      <td>0</td>\n",
       "      <td>0</td>\n",
       "      <td>0</td>\n",
       "    </tr>\n",
       "    <tr>\n",
       "      <th>1</th>\n",
       "      <td>50</td>\n",
       "      <td>True</td>\n",
       "      <td>64.155</td>\n",
       "      <td>9</td>\n",
       "      <td>14.532</td>\n",
       "      <td>0</td>\n",
       "      <td>0</td>\n",
       "      <td>0</td>\n",
       "      <td>0</td>\n",
       "      <td>0</td>\n",
       "      <td>0</td>\n",
       "      <td>0</td>\n",
       "      <td>1</td>\n",
       "      <td>0</td>\n",
       "      <td>0</td>\n",
       "      <td>0</td>\n",
       "      <td>0</td>\n",
       "      <td>0</td>\n",
       "    </tr>\n",
       "    <tr>\n",
       "      <th>2</th>\n",
       "      <td>50</td>\n",
       "      <td>False</td>\n",
       "      <td>29.733</td>\n",
       "      <td>7</td>\n",
       "      <td>35.007</td>\n",
       "      <td>0</td>\n",
       "      <td>0</td>\n",
       "      <td>0</td>\n",
       "      <td>0</td>\n",
       "      <td>0</td>\n",
       "      <td>0</td>\n",
       "      <td>0</td>\n",
       "      <td>1</td>\n",
       "      <td>0</td>\n",
       "      <td>0</td>\n",
       "      <td>0</td>\n",
       "      <td>0</td>\n",
       "      <td>0</td>\n",
       "    </tr>\n",
       "    <tr>\n",
       "      <th>3</th>\n",
       "      <td>50</td>\n",
       "      <td>True</td>\n",
       "      <td>19.106</td>\n",
       "      <td>8</td>\n",
       "      <td>35.756</td>\n",
       "      <td>0</td>\n",
       "      <td>0</td>\n",
       "      <td>0</td>\n",
       "      <td>0</td>\n",
       "      <td>0</td>\n",
       "      <td>0</td>\n",
       "      <td>0</td>\n",
       "      <td>1</td>\n",
       "      <td>0</td>\n",
       "      <td>0</td>\n",
       "      <td>0</td>\n",
       "      <td>0</td>\n",
       "      <td>0</td>\n",
       "    </tr>\n",
       "    <tr>\n",
       "      <th>4</th>\n",
       "      <td>50</td>\n",
       "      <td>True</td>\n",
       "      <td>197.683</td>\n",
       "      <td>8</td>\n",
       "      <td>46.770</td>\n",
       "      <td>0</td>\n",
       "      <td>0</td>\n",
       "      <td>0</td>\n",
       "      <td>0</td>\n",
       "      <td>0</td>\n",
       "      <td>0</td>\n",
       "      <td>0</td>\n",
       "      <td>1</td>\n",
       "      <td>0</td>\n",
       "      <td>0</td>\n",
       "      <td>0</td>\n",
       "      <td>0</td>\n",
       "      <td>0</td>\n",
       "    </tr>\n",
       "  </tbody>\n",
       "</table>\n",
       "</div>"
      ],
      "text/plain": [
       "   maxspeed  oneway   length  hour_of_day  speed_kph_mean  \\\n",
       "0        50   False   29.733            9          45.276   \n",
       "1        50    True   64.155            9          14.532   \n",
       "2        50   False   29.733            7          35.007   \n",
       "3        50    True   19.106            8          35.756   \n",
       "4        50    True  197.683            8          46.770   \n",
       "\n",
       "   highway_['residential', 'living_street']  highway_living_street  \\\n",
       "0                                         0                      0   \n",
       "1                                         0                      0   \n",
       "2                                         0                      0   \n",
       "3                                         0                      0   \n",
       "4                                         0                      0   \n",
       "\n",
       "   highway_motorway  highway_motorway_link  highway_primary  \\\n",
       "0                 0                      0                0   \n",
       "1                 0                      0                0   \n",
       "2                 0                      0                0   \n",
       "3                 0                      0                0   \n",
       "4                 0                      0                0   \n",
       "\n",
       "   highway_primary_link  highway_residential  highway_secondary  \\\n",
       "0                     0                    0                  1   \n",
       "1                     0                    0                  1   \n",
       "2                     0                    0                  1   \n",
       "3                     0                    0                  1   \n",
       "4                     0                    0                  1   \n",
       "\n",
       "   highway_secondary_link  highway_tertiary  highway_tertiary_link  \\\n",
       "0                       0                 0                      0   \n",
       "1                       0                 0                      0   \n",
       "2                       0                 0                      0   \n",
       "3                       0                 0                      0   \n",
       "4                       0                 0                      0   \n",
       "\n",
       "   highway_trunk_link  highway_unclassified  \n",
       "0                   0                     0  \n",
       "1                   0                     0  \n",
       "2                   0                     0  \n",
       "3                   0                     0  \n",
       "4                   0                     0  "
      ]
     },
     "execution_count": 163,
     "metadata": {},
     "output_type": "execute_result"
    }
   ],
   "source": [
    "X.head()"
   ]
  },
  {
   "cell_type": "code",
   "execution_count": 164,
   "id": "imported-reward",
   "metadata": {},
   "outputs": [],
   "source": [
    "X_train, X_test, y_train, y_test = train_test_split(X, y, test_size=0.25, random_state=13)"
   ]
  },
  {
   "cell_type": "markdown",
   "id": "spatial-pixel",
   "metadata": {},
   "source": [
    "#### Fit a linear regression model"
   ]
  },
  {
   "cell_type": "code",
   "execution_count": 165,
   "id": "gothic-developer",
   "metadata": {},
   "outputs": [],
   "source": [
    "regr = linear_model.LinearRegression().fit(X_train, y_train)\n",
    "y_pred = regr.predict(X_test)"
   ]
  },
  {
   "cell_type": "code",
   "execution_count": 166,
   "id": "strong-recorder",
   "metadata": {},
   "outputs": [
    {
     "name": "stdout",
     "output_type": "stream",
     "text": [
      "Coefficients: \n",
      " [ 3.74027809e-16 -3.02457505e-15  1.26841636e-17  1.84966072e-16\n",
      "  1.00000000e+00 -3.88467772e-15  1.72676830e-16 -3.00752217e-15\n",
      "  3.73718181e-16  8.35713308e-16  6.61644201e-16  8.18320028e-16\n",
      "  7.02963990e-16  9.73015334e-16  8.56043900e-16  1.06105006e-15\n",
      "  0.00000000e+00  4.32298607e-16]\n"
     ]
    }
   ],
   "source": [
    "# The coefficients\n",
    "# carried over from a homework notebook; not super crucial\n",
    "print('Coefficients: \\n', regr.coef_)"
   ]
  },
  {
   "cell_type": "code",
   "execution_count": 167,
   "id": "bottom-soldier",
   "metadata": {},
   "outputs": [
    {
     "name": "stdout",
     "output_type": "stream",
     "text": [
      "Mean squared error: 0.00\n"
     ]
    }
   ],
   "source": [
    "# Mean squared error\n",
    "print('Mean squared error: %.2f'\n",
    "      % mean_squared_error(y_test, y_pred))"
   ]
  },
  {
   "cell_type": "markdown",
   "id": "searching-freedom",
   "metadata": {},
   "source": [
    "#### Can't get the plot to work, but not super important"
   ]
  },
  {
   "cell_type": "code",
   "execution_count": null,
   "id": "serious-encyclopedia",
   "metadata": {},
   "outputs": [],
   "source": [
    "# Plot outputs\n",
    "plt.scatter(X_test, y_test, color='black')\n",
    "plt.plot(X_test, y_pred, color='blue', linewidth=3)\n",
    "\n",
    "plt.xticks(())\n",
    "plt.yticks(())\n",
    "\n",
    "plt.show()"
   ]
  },
  {
   "cell_type": "code",
   "execution_count": 154,
   "id": "juvenile-utilization",
   "metadata": {},
   "outputs": [
    {
     "name": "stdout",
     "output_type": "stream",
     "text": [
      "(2253, 20) (2253,) (2253,)\n"
     ]
    }
   ],
   "source": [
    "print(X_test.shape, y_test.shape, y_pred.shape)"
   ]
  },
  {
   "cell_type": "markdown",
   "id": "infinite-greene",
   "metadata": {},
   "source": [
    "#### Fit a random forest regression model"
   ]
  },
  {
   "cell_type": "code",
   "execution_count": 168,
   "id": "precise-purple",
   "metadata": {},
   "outputs": [],
   "source": [
    "RFregressor = RandomForestRegressor(n_estimators = 100, random_state = 0).fit(X_train, y_train)\n",
    "y_pred = RFregressor.predict(X_test)"
   ]
  },
  {
   "cell_type": "code",
   "execution_count": 169,
   "id": "greatest-vision",
   "metadata": {},
   "outputs": [
    {
     "name": "stdout",
     "output_type": "stream",
     "text": [
      "Mean squared error: 0.00\n"
     ]
    }
   ],
   "source": [
    "# Mean squared error\n",
    "print('Mean squared error: %.2f'\n",
    "      % mean_squared_error(y_test, y_pred))"
   ]
  },
  {
   "cell_type": "code",
   "execution_count": null,
   "id": "living-judges",
   "metadata": {},
   "outputs": [],
   "source": []
  },
  {
   "cell_type": "code",
   "execution_count": null,
   "id": "trained-freedom",
   "metadata": {},
   "outputs": [],
   "source": []
  },
  {
   "cell_type": "code",
   "execution_count": null,
   "id": "contained-particular",
   "metadata": {},
   "outputs": [],
   "source": []
  },
  {
   "cell_type": "code",
   "execution_count": null,
   "id": "brief-cable",
   "metadata": {},
   "outputs": [],
   "source": []
  },
  {
   "cell_type": "code",
   "execution_count": null,
   "id": "ranking-recovery",
   "metadata": {},
   "outputs": [],
   "source": []
  },
  {
   "cell_type": "code",
   "execution_count": null,
   "id": "streaming-mineral",
   "metadata": {},
   "outputs": [],
   "source": []
  },
  {
   "cell_type": "code",
   "execution_count": null,
   "id": "relative-berry",
   "metadata": {},
   "outputs": [],
   "source": []
  },
  {
   "cell_type": "code",
   "execution_count": null,
   "id": "knowing-neighbor",
   "metadata": {},
   "outputs": [],
   "source": []
  },
  {
   "cell_type": "code",
   "execution_count": null,
   "id": "complete-stadium",
   "metadata": {},
   "outputs": [],
   "source": []
  },
  {
   "cell_type": "code",
   "execution_count": null,
   "id": "young-geometry",
   "metadata": {},
   "outputs": [],
   "source": []
  },
  {
   "cell_type": "code",
   "execution_count": null,
   "id": "alien-telling",
   "metadata": {},
   "outputs": [],
   "source": []
  },
  {
   "cell_type": "code",
   "execution_count": null,
   "id": "complete-process",
   "metadata": {},
   "outputs": [],
   "source": []
  }
 ],
 "metadata": {
  "kernelspec": {
   "display_name": "Python 3",
   "language": "python",
   "name": "python3"
  },
  "language_info": {
   "codemirror_mode": {
    "name": "ipython",
    "version": 3
   },
   "file_extension": ".py",
   "mimetype": "text/x-python",
   "name": "python",
   "nbconvert_exporter": "python",
   "pygments_lexer": "ipython3",
   "version": "3.8.1"
  }
 },
 "nbformat": 4,
 "nbformat_minor": 5
}
