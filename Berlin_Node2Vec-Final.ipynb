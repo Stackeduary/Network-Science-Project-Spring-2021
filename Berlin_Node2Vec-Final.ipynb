{
 "cells": [
  {
   "cell_type": "code",
   "execution_count": 39,
   "metadata": {},
   "outputs": [],
   "source": [
    "import numpy as np\n",
    "import pandas as pd\n",
    "import matplotlib.pyplot as plt\n",
    "\n",
    "from node2vec import Node2Vec\n",
    "import networkx as nx\n",
    "\n",
    "import sklearn\n",
    "from sklearn import linear_model\n",
    "from sklearn.model_selection import train_test_split\n",
    "from sklearn.ensemble import RandomForestRegressor\n",
    "from sklearn.metrics import mean_squared_error\n",
    "from sklearn.preprocessing import StandardScaler"
   ]
  },
  {
   "cell_type": "code",
   "execution_count": 2,
   "metadata": {},
   "outputs": [],
   "source": [
    "edges = pd.read_csv(\"berlin_digraph_edges.csv\")\n",
    "nodes = pd.read_csv(\"berlin_digraph_nodes.csv\")\n",
    "\n",
    "edges = edges.rename(columns = {'Unnamed: 0':'source', 'Unnamed: 1':'target'})\n",
    "nodes = nodes.rename(columns = {'Unnamed: 0':'node id'})"
   ]
  },
  {
   "cell_type": "code",
   "execution_count": 3,
   "metadata": {},
   "outputs": [
    {
     "data": {
      "text/html": [
       "<div>\n",
       "<style scoped>\n",
       "    .dataframe tbody tr th:only-of-type {\n",
       "        vertical-align: middle;\n",
       "    }\n",
       "\n",
       "    .dataframe tbody tr th {\n",
       "        vertical-align: top;\n",
       "    }\n",
       "\n",
       "    .dataframe thead th {\n",
       "        text-align: right;\n",
       "    }\n",
       "</style>\n",
       "<table border=\"1\" class=\"dataframe\">\n",
       "  <thead>\n",
       "    <tr style=\"text-align: right;\">\n",
       "      <th></th>\n",
       "      <th>node id</th>\n",
       "      <th>y</th>\n",
       "      <th>x</th>\n",
       "      <th>street_count</th>\n",
       "      <th>ref</th>\n",
       "      <th>highway</th>\n",
       "    </tr>\n",
       "  </thead>\n",
       "  <tbody>\n",
       "    <tr>\n",
       "      <th>0</th>\n",
       "      <td>172546</td>\n",
       "      <td>52.567738</td>\n",
       "      <td>13.352255</td>\n",
       "      <td>3</td>\n",
       "      <td>NaN</td>\n",
       "      <td>NaN</td>\n",
       "    </tr>\n",
       "    <tr>\n",
       "      <th>1</th>\n",
       "      <td>530313</td>\n",
       "      <td>52.567835</td>\n",
       "      <td>13.352664</td>\n",
       "      <td>3</td>\n",
       "      <td>NaN</td>\n",
       "      <td>NaN</td>\n",
       "    </tr>\n",
       "    <tr>\n",
       "      <th>2</th>\n",
       "      <td>28345850</td>\n",
       "      <td>52.567623</td>\n",
       "      <td>13.351325</td>\n",
       "      <td>4</td>\n",
       "      <td>NaN</td>\n",
       "      <td>NaN</td>\n",
       "    </tr>\n",
       "  </tbody>\n",
       "</table>\n",
       "</div>"
      ],
      "text/plain": [
       "    node id          y          x  street_count  ref highway\n",
       "0    172546  52.567738  13.352255             3  NaN     NaN\n",
       "1    530313  52.567835  13.352664             3  NaN     NaN\n",
       "2  28345850  52.567623  13.351325             4  NaN     NaN"
      ]
     },
     "metadata": {},
     "output_type": "display_data"
    },
    {
     "name": "stdout",
     "output_type": "stream",
     "text": [
      "----------------------------------------------------------------------------------------------------\n",
      "----------------------------------------------------------------------------------------------------\n"
     ]
    },
    {
     "data": {
      "text/html": [
       "<div>\n",
       "<style scoped>\n",
       "    .dataframe tbody tr th:only-of-type {\n",
       "        vertical-align: middle;\n",
       "    }\n",
       "\n",
       "    .dataframe tbody tr th {\n",
       "        vertical-align: top;\n",
       "    }\n",
       "\n",
       "    .dataframe thead th {\n",
       "        text-align: right;\n",
       "    }\n",
       "</style>\n",
       "<table border=\"1\" class=\"dataframe\">\n",
       "  <thead>\n",
       "    <tr style=\"text-align: right;\">\n",
       "      <th></th>\n",
       "      <th>source</th>\n",
       "      <th>target</th>\n",
       "      <th>osmid</th>\n",
       "      <th>name</th>\n",
       "      <th>highway</th>\n",
       "      <th>maxspeed</th>\n",
       "      <th>oneway</th>\n",
       "      <th>length</th>\n",
       "      <th>geometry</th>\n",
       "      <th>hour_of_day</th>\n",
       "      <th>speed_kph_mean</th>\n",
       "      <th>speed_kph_stddev</th>\n",
       "      <th>est_width</th>\n",
       "    </tr>\n",
       "  </thead>\n",
       "  <tbody>\n",
       "    <tr>\n",
       "      <th>0</th>\n",
       "      <td>172546</td>\n",
       "      <td>530313</td>\n",
       "      <td>24295532</td>\n",
       "      <td>Emmentaler Straße</td>\n",
       "      <td>secondary</td>\n",
       "      <td>50</td>\n",
       "      <td>False</td>\n",
       "      <td>29.733</td>\n",
       "      <td>LINESTRING (13.3522545 52.567738, 13.3526642 5...</td>\n",
       "      <td>9</td>\n",
       "      <td>45.276</td>\n",
       "      <td>6.040</td>\n",
       "      <td>NaN</td>\n",
       "    </tr>\n",
       "    <tr>\n",
       "      <th>1</th>\n",
       "      <td>172546</td>\n",
       "      <td>28345850</td>\n",
       "      <td>4638312</td>\n",
       "      <td>Emmentaler Straße</td>\n",
       "      <td>secondary</td>\n",
       "      <td>50</td>\n",
       "      <td>True</td>\n",
       "      <td>64.155</td>\n",
       "      <td>LINESTRING (13.3522545 52.567738, 13.3520655 5...</td>\n",
       "      <td>9</td>\n",
       "      <td>14.532</td>\n",
       "      <td>14.245</td>\n",
       "      <td>NaN</td>\n",
       "    </tr>\n",
       "    <tr>\n",
       "      <th>2</th>\n",
       "      <td>530313</td>\n",
       "      <td>172546</td>\n",
       "      <td>24295532</td>\n",
       "      <td>Emmentaler Straße</td>\n",
       "      <td>secondary</td>\n",
       "      <td>50</td>\n",
       "      <td>False</td>\n",
       "      <td>29.733</td>\n",
       "      <td>LINESTRING (13.3526642 52.5678354, 13.3522545 ...</td>\n",
       "      <td>7</td>\n",
       "      <td>35.007</td>\n",
       "      <td>11.342</td>\n",
       "      <td>NaN</td>\n",
       "    </tr>\n",
       "  </tbody>\n",
       "</table>\n",
       "</div>"
      ],
      "text/plain": [
       "   source    target     osmid               name    highway maxspeed  oneway  \\\n",
       "0  172546    530313  24295532  Emmentaler Straße  secondary       50   False   \n",
       "1  172546  28345850   4638312  Emmentaler Straße  secondary       50    True   \n",
       "2  530313    172546  24295532  Emmentaler Straße  secondary       50   False   \n",
       "\n",
       "   length                                           geometry  hour_of_day  \\\n",
       "0  29.733  LINESTRING (13.3522545 52.567738, 13.3526642 5...            9   \n",
       "1  64.155  LINESTRING (13.3522545 52.567738, 13.3520655 5...            9   \n",
       "2  29.733  LINESTRING (13.3526642 52.5678354, 13.3522545 ...            7   \n",
       "\n",
       "   speed_kph_mean  speed_kph_stddev  est_width  \n",
       "0          45.276             6.040        NaN  \n",
       "1          14.532            14.245        NaN  \n",
       "2          35.007            11.342        NaN  "
      ]
     },
     "metadata": {},
     "output_type": "display_data"
    }
   ],
   "source": [
    "display(nodes.head(3))\n",
    "print('-'*100)\n",
    "print('-'*100)\n",
    "display(edges.head(3))"
   ]
  },
  {
   "cell_type": "code",
   "execution_count": 4,
   "metadata": {},
   "outputs": [],
   "source": [
    "edges_simplified = edges[['source', 'target', 'osmid', 'highway', 'maxspeed', 'oneway', \n",
    "                          'length', 'geometry', 'hour_of_day', 'speed_kph_mean']]"
   ]
  },
  {
   "cell_type": "code",
   "execution_count": 10,
   "metadata": {},
   "outputs": [],
   "source": [
    "G_data = nx.from_pandas_edgelist(df = edges_simplified, source = \"source\", target = \"target\", \n",
    "                                 edge_attr = True, create_using=nx.DiGraph())"
   ]
  },
  {
   "cell_type": "code",
   "execution_count": 19,
   "metadata": {},
   "outputs": [
    {
     "data": {
      "text/html": [
       "<div>\n",
       "<style scoped>\n",
       "    .dataframe tbody tr th:only-of-type {\n",
       "        vertical-align: middle;\n",
       "    }\n",
       "\n",
       "    .dataframe tbody tr th {\n",
       "        vertical-align: top;\n",
       "    }\n",
       "\n",
       "    .dataframe thead th {\n",
       "        text-align: right;\n",
       "    }\n",
       "</style>\n",
       "<table border=\"1\" class=\"dataframe\">\n",
       "  <thead>\n",
       "    <tr style=\"text-align: right;\">\n",
       "      <th></th>\n",
       "      <th>source</th>\n",
       "      <th>target</th>\n",
       "      <th>maxspeed</th>\n",
       "      <th>hour_of_day</th>\n",
       "      <th>highway</th>\n",
       "      <th>osmid</th>\n",
       "      <th>oneway</th>\n",
       "      <th>speed_kph_mean</th>\n",
       "      <th>length</th>\n",
       "      <th>geometry</th>\n",
       "    </tr>\n",
       "  </thead>\n",
       "  <tbody>\n",
       "    <tr>\n",
       "      <th>0</th>\n",
       "      <td>172546</td>\n",
       "      <td>530313</td>\n",
       "      <td>50</td>\n",
       "      <td>9</td>\n",
       "      <td>secondary</td>\n",
       "      <td>24295532</td>\n",
       "      <td>False</td>\n",
       "      <td>45.276</td>\n",
       "      <td>29.733</td>\n",
       "      <td>LINESTRING (13.3522545 52.567738, 13.3526642 5...</td>\n",
       "    </tr>\n",
       "    <tr>\n",
       "      <th>1</th>\n",
       "      <td>172546</td>\n",
       "      <td>28345850</td>\n",
       "      <td>50</td>\n",
       "      <td>9</td>\n",
       "      <td>secondary</td>\n",
       "      <td>4638312</td>\n",
       "      <td>True</td>\n",
       "      <td>14.532</td>\n",
       "      <td>64.155</td>\n",
       "      <td>LINESTRING (13.3522545 52.567738, 13.3520655 5...</td>\n",
       "    </tr>\n",
       "    <tr>\n",
       "      <th>2</th>\n",
       "      <td>530313</td>\n",
       "      <td>172546</td>\n",
       "      <td>50</td>\n",
       "      <td>7</td>\n",
       "      <td>secondary</td>\n",
       "      <td>24295532</td>\n",
       "      <td>False</td>\n",
       "      <td>35.007</td>\n",
       "      <td>29.733</td>\n",
       "      <td>LINESTRING (13.3526642 52.5678354, 13.3522545 ...</td>\n",
       "    </tr>\n",
       "    <tr>\n",
       "      <th>3</th>\n",
       "      <td>28345850</td>\n",
       "      <td>35244866</td>\n",
       "      <td>50</td>\n",
       "      <td>8</td>\n",
       "      <td>secondary</td>\n",
       "      <td>4638312</td>\n",
       "      <td>True</td>\n",
       "      <td>35.756</td>\n",
       "      <td>19.106</td>\n",
       "      <td>LINESTRING (13.351325 52.5676227, 13.35105 52....</td>\n",
       "    </tr>\n",
       "    <tr>\n",
       "      <th>4</th>\n",
       "      <td>28345850</td>\n",
       "      <td>29492967</td>\n",
       "      <td>50</td>\n",
       "      <td>8</td>\n",
       "      <td>secondary</td>\n",
       "      <td>4638317</td>\n",
       "      <td>True</td>\n",
       "      <td>46.770</td>\n",
       "      <td>197.683</td>\n",
       "      <td>LINESTRING (13.351325 52.5676227, 13.351286 52...</td>\n",
       "    </tr>\n",
       "  </tbody>\n",
       "</table>\n",
       "</div>"
      ],
      "text/plain": [
       "     source    target maxspeed  hour_of_day    highway     osmid  oneway  \\\n",
       "0    172546    530313       50            9  secondary  24295532   False   \n",
       "1    172546  28345850       50            9  secondary   4638312    True   \n",
       "2    530313    172546       50            7  secondary  24295532   False   \n",
       "3  28345850  35244866       50            8  secondary   4638312    True   \n",
       "4  28345850  29492967       50            8  secondary   4638317    True   \n",
       "\n",
       "   speed_kph_mean   length                                           geometry  \n",
       "0          45.276   29.733  LINESTRING (13.3522545 52.567738, 13.3526642 5...  \n",
       "1          14.532   64.155  LINESTRING (13.3522545 52.567738, 13.3520655 5...  \n",
       "2          35.007   29.733  LINESTRING (13.3526642 52.5678354, 13.3522545 ...  \n",
       "3          35.756   19.106  LINESTRING (13.351325 52.5676227, 13.35105 52....  \n",
       "4          46.770  197.683  LINESTRING (13.351325 52.5676227, 13.351286 52...  "
      ]
     },
     "metadata": {},
     "output_type": "display_data"
    },
    {
     "name": "stdout",
     "output_type": "stream",
     "text": [
      "\n"
     ]
    },
    {
     "data": {
      "text/html": [
       "<div>\n",
       "<style scoped>\n",
       "    .dataframe tbody tr th:only-of-type {\n",
       "        vertical-align: middle;\n",
       "    }\n",
       "\n",
       "    .dataframe tbody tr th {\n",
       "        vertical-align: top;\n",
       "    }\n",
       "\n",
       "    .dataframe thead th {\n",
       "        text-align: right;\n",
       "    }\n",
       "</style>\n",
       "<table border=\"1\" class=\"dataframe\">\n",
       "  <thead>\n",
       "    <tr style=\"text-align: right;\">\n",
       "      <th></th>\n",
       "      <th></th>\n",
       "      <th>osmid</th>\n",
       "      <th>highway</th>\n",
       "      <th>maxspeed</th>\n",
       "      <th>oneway</th>\n",
       "      <th>length</th>\n",
       "      <th>geometry</th>\n",
       "      <th>hour_of_day</th>\n",
       "      <th>speed_kph_mean</th>\n",
       "    </tr>\n",
       "  </thead>\n",
       "  <tbody>\n",
       "    <tr>\n",
       "      <th rowspan=\"2\" valign=\"top\">172546</th>\n",
       "      <th>530313</th>\n",
       "      <td>24295532</td>\n",
       "      <td>secondary</td>\n",
       "      <td>50</td>\n",
       "      <td>False</td>\n",
       "      <td>29.733</td>\n",
       "      <td>LINESTRING (13.3522545 52.567738, 13.3526642 5...</td>\n",
       "      <td>9</td>\n",
       "      <td>45.276</td>\n",
       "    </tr>\n",
       "    <tr>\n",
       "      <th>28345850</th>\n",
       "      <td>4638312</td>\n",
       "      <td>secondary</td>\n",
       "      <td>50</td>\n",
       "      <td>True</td>\n",
       "      <td>64.155</td>\n",
       "      <td>LINESTRING (13.3522545 52.567738, 13.3520655 5...</td>\n",
       "      <td>9</td>\n",
       "      <td>14.532</td>\n",
       "    </tr>\n",
       "    <tr>\n",
       "      <th>530313</th>\n",
       "      <th>172546</th>\n",
       "      <td>24295532</td>\n",
       "      <td>secondary</td>\n",
       "      <td>50</td>\n",
       "      <td>False</td>\n",
       "      <td>29.733</td>\n",
       "      <td>LINESTRING (13.3526642 52.5678354, 13.3522545 ...</td>\n",
       "      <td>7</td>\n",
       "      <td>35.007</td>\n",
       "    </tr>\n",
       "    <tr>\n",
       "      <th rowspan=\"2\" valign=\"top\">28345850</th>\n",
       "      <th>35244866</th>\n",
       "      <td>4638312</td>\n",
       "      <td>secondary</td>\n",
       "      <td>50</td>\n",
       "      <td>True</td>\n",
       "      <td>19.106</td>\n",
       "      <td>LINESTRING (13.351325 52.5676227, 13.35105 52....</td>\n",
       "      <td>8</td>\n",
       "      <td>35.756</td>\n",
       "    </tr>\n",
       "    <tr>\n",
       "      <th>29492967</th>\n",
       "      <td>4638317</td>\n",
       "      <td>secondary</td>\n",
       "      <td>50</td>\n",
       "      <td>True</td>\n",
       "      <td>197.683</td>\n",
       "      <td>LINESTRING (13.351325 52.5676227, 13.351286 52...</td>\n",
       "      <td>8</td>\n",
       "      <td>46.770</td>\n",
       "    </tr>\n",
       "  </tbody>\n",
       "</table>\n",
       "</div>"
      ],
      "text/plain": [
       "                      osmid    highway maxspeed  oneway   length  \\\n",
       "172546   530313    24295532  secondary       50   False   29.733   \n",
       "         28345850   4638312  secondary       50    True   64.155   \n",
       "530313   172546    24295532  secondary       50   False   29.733   \n",
       "28345850 35244866   4638312  secondary       50    True   19.106   \n",
       "         29492967   4638317  secondary       50    True  197.683   \n",
       "\n",
       "                                                            geometry  \\\n",
       "172546   530313    LINESTRING (13.3522545 52.567738, 13.3526642 5...   \n",
       "         28345850  LINESTRING (13.3522545 52.567738, 13.3520655 5...   \n",
       "530313   172546    LINESTRING (13.3526642 52.5678354, 13.3522545 ...   \n",
       "28345850 35244866  LINESTRING (13.351325 52.5676227, 13.35105 52....   \n",
       "         29492967  LINESTRING (13.351325 52.5676227, 13.351286 52...   \n",
       "\n",
       "                   hour_of_day  speed_kph_mean  \n",
       "172546   530313              9          45.276  \n",
       "         28345850            9          14.532  \n",
       "530313   172546              7          35.007  \n",
       "28345850 35244866            8          35.756  \n",
       "         29492967            8          46.770  "
      ]
     },
     "metadata": {},
     "output_type": "display_data"
    },
    {
     "name": "stdout",
     "output_type": "stream",
     "text": [
      "<class 'networkx.classes.digraph.DiGraph'>\n"
     ]
    }
   ],
   "source": [
    "# Checks\n",
    "df = nx.to_pandas_edgelist(G_data)\n",
    "display(df.head(5))\n",
    "print()\n",
    "display(pd.DataFrame.from_dict(G_data.edges(), orient='index').head(5))\n",
    "print(type(G_data))"
   ]
  },
  {
   "cell_type": "code",
   "execution_count": 22,
   "metadata": {},
   "outputs": [
    {
     "data": {
      "application/vnd.jupyter.widget-view+json": {
       "model_id": "33d5a4df2acb4b62a8caf088cec9760d",
       "version_major": 2,
       "version_minor": 0
      },
      "text/plain": [
       "HBox(children=(HTML(value='Computing transition probabilities'), FloatProgress(value=0.0, max=8292.0), HTML(va…"
      ]
     },
     "metadata": {},
     "output_type": "display_data"
    },
    {
     "name": "stderr",
     "output_type": "stream",
     "text": [
      "\n",
      "\n",
      "Generating walks (CPU: 1):   0%|                                                                                                                                             | 0/50 [00:00<?, ?it/s]\u001b[A\u001b[A"
     ]
    },
    {
     "name": "stdout",
     "output_type": "stream",
     "text": [
      "\n"
     ]
    },
    {
     "name": "stderr",
     "output_type": "stream",
     "text": [
      "\n",
      "\n",
      "Generating walks (CPU: 1):   4%|█████▎                                                                                                                               | 2/50 [00:02<01:09,  1.44s/it]\u001b[A\u001b[A\n",
      "\n",
      "Generating walks (CPU: 1):   6%|███████▉                                                                                                                             | 3/50 [00:05<01:18,  1.66s/it]\u001b[A\u001b[A\n",
      "\n",
      "Generating walks (CPU: 1):   8%|██████████▋                                                                                                                          | 4/50 [00:06<01:17,  1.69s/it]\u001b[A\u001b[A\n",
      "\n",
      "Generating walks (CPU: 1):  10%|█████████████▎                                                                                                                       | 5/50 [00:08<01:16,  1.71s/it]\u001b[A\u001b[A\n",
      "\n",
      "Generating walks (CPU: 1):  12%|███████████████▉                                                                                                                     | 6/50 [00:10<01:17,  1.76s/it]\u001b[A\u001b[A\n",
      "\n",
      "Generating walks (CPU: 1):   2%|██▌                                                                                                                              | 2/100 [08:32<6:58:46, 256.39s/it]\u001b[A\u001b[A\n",
      "\n",
      "\n",
      "Generating walks (CPU: 1):  16%|█████████████████████▎                                                                                                               | 8/50 [00:32<04:58,  7.12s/it]\u001b[A\u001b[A\n",
      "\n",
      "Generating walks (CPU: 1):  18%|███████████████████████▉                                                                                                             | 9/50 [00:35<04:02,  5.91s/it]\u001b[A\u001b[A\n",
      "\n",
      "Generating walks (CPU: 1):  20%|██████████████████████████▍                                                                                                         | 10/50 [00:38<03:23,  5.09s/it]\u001b[A\u001b[A\n",
      "\n",
      "Generating walks (CPU: 1):  22%|█████████████████████████████                                                                                                       | 11/50 [00:42<03:06,  4.79s/it]\u001b[A\u001b[A\n",
      "\n",
      "Generating walks (CPU: 1):  24%|███████████████████████████████▋                                                                                                    | 12/50 [00:46<02:47,  4.40s/it]\u001b[A\u001b[A\n",
      "\n",
      "Generating walks (CPU: 1):  26%|██████████████████████████████████▎                                                                                                 | 13/50 [00:49<02:27,  3.98s/it]\u001b[A\u001b[A\n",
      "\n",
      "Generating walks (CPU: 1):  28%|████████████████████████████████████▉                                                                                               | 14/50 [00:51<02:03,  3.44s/it]\u001b[A\u001b[A\n",
      "\n",
      "Generating walks (CPU: 1):  30%|███████████████████████████████████████▌                                                                                            | 15/50 [00:53<01:48,  3.11s/it]\u001b[A\u001b[A\n",
      "\n",
      "Generating walks (CPU: 1):  32%|██████████████████████████████████████████▏                                                                                         | 16/50 [00:56<01:38,  2.91s/it]\u001b[A\u001b[A\n",
      "\n",
      "Generating walks (CPU: 1):  34%|████████████████████████████████████████████▉                                                                                       | 17/50 [00:58<01:32,  2.82s/it]\u001b[A\u001b[A\n",
      "\n",
      "Generating walks (CPU: 1):  36%|███████████████████████████████████████████████▌                                                                                    | 18/50 [01:01<01:24,  2.65s/it]\u001b[A\u001b[A\n",
      "\n",
      "Generating walks (CPU: 1):  38%|██████████████████████████████████████████████████▏                                                                                 | 19/50 [01:03<01:18,  2.54s/it]\u001b[A\u001b[A\n",
      "\n",
      "Generating walks (CPU: 1):  40%|████████████████████████████████████████████████████▊                                                                               | 20/50 [01:05<01:15,  2.50s/it]\u001b[A\u001b[A\n",
      "\n",
      "Generating walks (CPU: 1):  42%|███████████████████████████████████████████████████████▍                                                                            | 21/50 [01:08<01:09,  2.41s/it]\u001b[A\u001b[A\n",
      "\n",
      "Generating walks (CPU: 1):  44%|██████████████████████████████████████████████████████████                                                                          | 22/50 [01:10<01:06,  2.38s/it]\u001b[A\u001b[A\n",
      "\n",
      "Generating walks (CPU: 1):  46%|████████████████████████████████████████████████████████████▋                                                                       | 23/50 [01:12<01:02,  2.31s/it]\u001b[A\u001b[A\n",
      "\n",
      "Generating walks (CPU: 1):  48%|███████████████████████████████████████████████████████████████▎                                                                    | 24/50 [01:14<01:00,  2.34s/it]\u001b[A\u001b[A\n",
      "\n",
      "Generating walks (CPU: 1):  50%|██████████████████████████████████████████████████████████████████                                                                  | 25/50 [01:17<01:01,  2.47s/it]\u001b[A\u001b[A\n",
      "\n",
      "Generating walks (CPU: 1):  52%|████████████████████████████████████████████████████████████████████▋                                                               | 26/50 [01:20<01:00,  2.52s/it]\u001b[A\u001b[A\n",
      "\n",
      "Generating walks (CPU: 1):  54%|███████████████████████████████████████████████████████████████████████▎                                                            | 27/50 [01:23<00:59,  2.60s/it]\u001b[A\u001b[A\n",
      "\n",
      "Generating walks (CPU: 1):  56%|█████████████████████████████████████████████████████████████████████████▉                                                          | 28/50 [01:26<01:02,  2.85s/it]\u001b[A\u001b[A\n",
      "\n",
      "Generating walks (CPU: 1):  58%|████████████████████████████████████████████████████████████████████████████▌                                                       | 29/50 [01:29<00:57,  2.75s/it]\u001b[A\u001b[A\n",
      "\n",
      "Generating walks (CPU: 1):  60%|███████████████████████████████████████████████████████████████████████████████▏                                                    | 30/50 [01:31<00:53,  2.67s/it]\u001b[A\u001b[A\n",
      "\n",
      "Generating walks (CPU: 1):  62%|█████████████████████████████████████████████████████████████████████████████████▊                                                  | 31/50 [01:33<00:49,  2.59s/it]\u001b[A\u001b[A\n",
      "\n",
      "Generating walks (CPU: 1):  64%|████████████████████████████████████████████████████████████████████████████████████▍                                               | 32/50 [01:36<00:44,  2.50s/it]\u001b[A\u001b[A\n",
      "\n",
      "Generating walks (CPU: 1):  66%|███████████████████████████████████████████████████████████████████████████████████████                                             | 33/50 [01:38<00:43,  2.55s/it]\u001b[A\u001b[A\n",
      "\n",
      "Generating walks (CPU: 1):  68%|█████████████████████████████████████████████████████████████████████████████████████████▊                                          | 34/50 [01:41<00:41,  2.62s/it]\u001b[A\u001b[A\n",
      "\n",
      "Generating walks (CPU: 1):  70%|████████████████████████████████████████████████████████████████████████████████████████████▍                                       | 35/50 [01:44<00:40,  2.73s/it]\u001b[A\u001b[A\n",
      "\n",
      "Generating walks (CPU: 1):  72%|███████████████████████████████████████████████████████████████████████████████████████████████                                     | 36/50 [01:47<00:37,  2.65s/it]\u001b[A\u001b[A\n",
      "\n",
      "Generating walks (CPU: 1):  74%|█████████████████████████████████████████████████████████████████████████████████████████████████▋                                  | 37/50 [01:49<00:33,  2.54s/it]\u001b[A\u001b[A\n",
      "\n",
      "Generating walks (CPU: 1):  76%|████████████████████████████████████████████████████████████████████████████████████████████████████▎                               | 38/50 [01:57<00:51,  4.30s/it]\u001b[A\u001b[A\n",
      "\n",
      "Generating walks (CPU: 1):  78%|██████████████████████████████████████████████████████████████████████████████████████████████████████▉                             | 39/50 [02:01<00:44,  4.05s/it]\u001b[A\u001b[A\n",
      "\n",
      "Generating walks (CPU: 1):  80%|█████████████████████████████████████████████████████████████████████████████████████████████████████████▌                          | 40/50 [02:04<00:37,  3.78s/it]\u001b[A\u001b[A\n",
      "\n",
      "Generating walks (CPU: 1):  82%|████████████████████████████████████████████████████████████████████████████████████████████████████████████▏                       | 41/50 [02:06<00:30,  3.34s/it]\u001b[A\u001b[A\n",
      "\n"
     ]
    },
    {
     "name": "stderr",
     "output_type": "stream",
     "text": [
      "Generating walks (CPU: 1):  84%|██████████████████████████████████████████████████████████████████████████████████████████████████████████████▉                     | 42/50 [02:09<00:24,  3.05s/it]\u001b[A\u001b[A\n",
      "\n",
      "Generating walks (CPU: 1):  86%|█████████████████████████████████████████████████████████████████████████████████████████████████████████████████▌                  | 43/50 [02:11<00:20,  2.97s/it]\u001b[A\u001b[A\n",
      "\n",
      "Generating walks (CPU: 1):  88%|████████████████████████████████████████████████████████████████████████████████████████████████████████████████████▏               | 44/50 [02:14<00:17,  2.96s/it]\u001b[A\u001b[A\n",
      "\n",
      "Generating walks (CPU: 1):  90%|██████████████████████████████████████████████████████████████████████████████████████████████████████████████████████▊             | 45/50 [02:17<00:14,  2.99s/it]\u001b[A\u001b[A\n",
      "\n",
      "Generating walks (CPU: 1):  92%|█████████████████████████████████████████████████████████████████████████████████████████████████████████████████████████▍          | 46/50 [02:21<00:12,  3.09s/it]\u001b[A\u001b[A\n",
      "\n",
      "Generating walks (CPU: 1):  94%|████████████████████████████████████████████████████████████████████████████████████████████████████████████████████████████        | 47/50 [02:23<00:08,  2.92s/it]\u001b[A\u001b[A\n",
      "\n",
      "Generating walks (CPU: 1):  96%|██████████████████████████████████████████████████████████████████████████████████████████████████████████████████████████████▋     | 48/50 [02:25<00:05,  2.69s/it]\u001b[A\u001b[A\n",
      "\n",
      "Generating walks (CPU: 1):  98%|█████████████████████████████████████████████████████████████████████████████████████████████████████████████████████████████████▎  | 49/50 [02:28<00:02,  2.70s/it]\u001b[A\u001b[A\n",
      "\n",
      "Generating walks (CPU: 1): 100%|████████████████████████████████████████████████████████████████████████████████████████████████████████████████████████████████████| 50/50 [02:34<00:00,  3.09s/it]\u001b[A\u001b[A\n"
     ]
    }
   ],
   "source": [
    "node2vec = Node2Vec(G_data, dimensions=30, walk_length=7, num_walks=50, workers = 1, p = 10, q = 0.25)"
   ]
  },
  {
   "cell_type": "code",
   "execution_count": 23,
   "metadata": {},
   "outputs": [],
   "source": [
    "model = node2vec.fit(window=10, min_count=1) "
   ]
  },
  {
   "cell_type": "code",
   "execution_count": 24,
   "metadata": {},
   "outputs": [
    {
     "name": "stderr",
     "output_type": "stream",
     "text": [
      "<ipython-input-24-ca5ae6c45503>:1: DeprecationWarning: Call to deprecated `__getitem__` (Method will be removed in 4.0.0, use self.wv.__getitem__() instead).\n",
      "  model['172546']\n"
     ]
    },
    {
     "data": {
      "text/plain": [
       "array([ 1.2259401 , -0.2618795 , -1.5824711 , -0.7380643 ,  1.7189546 ,\n",
       "       -1.3138628 ,  0.15870473,  0.12895451, -0.7979673 ,  1.1153505 ,\n",
       "       -2.152818  , -0.71310806,  0.4883935 ,  0.5049538 ,  1.2767116 ,\n",
       "       -0.8088286 ,  0.19628453,  0.8560546 , -0.9179689 ,  1.785974  ,\n",
       "        1.9957111 , -0.09563167, -0.14332326,  0.19446622, -0.33670878,\n",
       "       -0.20018202, -0.5220272 , -0.7945271 , -0.59697086, -1.2696252 ],\n",
       "      dtype=float32)"
      ]
     },
     "execution_count": 24,
     "metadata": {},
     "output_type": "execute_result"
    }
   ],
   "source": [
    "model['172546']"
   ]
  },
  {
   "cell_type": "code",
   "execution_count": 25,
   "metadata": {},
   "outputs": [
    {
     "data": {
      "text/plain": [
       "[('530313', 0.998839259147644),\n",
       " ('28345850', 0.9972468018531799),\n",
       " ('29492967', 0.9965168833732605),\n",
       " ('35359625', 0.9958294034004211),\n",
       " ('530312', 0.991866409778595),\n",
       " ('35244866', 0.9863973259925842),\n",
       " ('29492954', 0.9706072807312012),\n",
       " ('29492968', 0.9701778888702393),\n",
       " ('29492956', 0.9620769023895264),\n",
       " ('271370539', 0.9510524272918701)]"
      ]
     },
     "execution_count": 25,
     "metadata": {},
     "output_type": "execute_result"
    }
   ],
   "source": [
    "# Unsurprisingly, the neighbor nodes we saw a couple lines above are in the top 2.\n",
    "model.wv.most_similar('172546')"
   ]
  },
  {
   "cell_type": "code",
   "execution_count": 26,
   "metadata": {},
   "outputs": [
    {
     "data": {
      "text/plain": [
       "[('35359625', 0.9981916546821594),\n",
       " ('29492967', 0.9979572296142578),\n",
       " ('530313', 0.9975138902664185),\n",
       " ('172546', 0.9972468018531799),\n",
       " ('530312', 0.9959478974342346),\n",
       " ('35244866', 0.9937652945518494),\n",
       " ('29492968', 0.9825006127357483),\n",
       " ('29492954', 0.9773008227348328),\n",
       " ('29492956', 0.9723113179206848),\n",
       " ('271370539', 0.9681207537651062)]"
      ]
     },
     "execution_count": 26,
     "metadata": {},
     "output_type": "execute_result"
    }
   ],
   "source": [
    "model.wv.most_similar('28345850')"
   ]
  },
  {
   "cell_type": "code",
   "execution_count": 27,
   "metadata": {},
   "outputs": [],
   "source": [
    "model.wv.save_word2vec_format('embedding2.csv')\n",
    "model.save('model2')"
   ]
  },
  {
   "cell_type": "code",
   "execution_count": 28,
   "metadata": {},
   "outputs": [],
   "source": [
    "node_ids = model.wv.index2word   # list of node IDs\n",
    "node_embeddings = model.wv.vectors"
   ]
  },
  {
   "cell_type": "code",
   "execution_count": 29,
   "metadata": {},
   "outputs": [
    {
     "name": "stderr",
     "output_type": "stream",
     "text": [
      "<ipython-input-29-4b8ef390ff52>:5: DeprecationWarning: Call to deprecated `__getitem__` (Method will be removed in 4.0.0, use self.wv.__getitem__() instead).\n",
      "  source_embedding = model[str(node_id)]\n",
      "<ipython-input-29-4b8ef390ff52>:9: DeprecationWarning: Call to deprecated `__getitem__` (Method will be removed in 4.0.0, use self.wv.__getitem__() instead).\n",
      "  target_embedding = model[str(node_id)]\n"
     ]
    }
   ],
   "source": [
    "source_embeddings = []\n",
    "target_embeddings = []\n",
    "\n",
    "for node_id in list(edges.source.values):\n",
    "    source_embedding = model[str(node_id)]\n",
    "    source_embeddings.append(source_embedding)\n",
    "\n",
    "for node_id in edges.target.values:\n",
    "    target_embedding = model[str(node_id)]\n",
    "    target_embeddings.append(target_embedding)"
   ]
  },
  {
   "cell_type": "code",
   "execution_count": 30,
   "metadata": {
    "scrolled": true
   },
   "outputs": [
    {
     "name": "stdout",
     "output_type": "stream",
     "text": [
      "[ True  True  True  True  True  True  True  True  True  True  True  True\n",
      "  True  True  True  True  True  True  True  True  True  True  True  True\n",
      "  True  True  True  True  True  True]\n",
      "[ True  True  True  True  True  True  True  True  True  True  True  True\n",
      "  True  True  True  True  True  True  True  True  True  True  True  True\n",
      "  True  True  True  True  True  True]\n",
      "9012\n"
     ]
    }
   ],
   "source": [
    "# Checks\n",
    "print(source_embeddings[0] == source_embeddings[1])\n",
    "print(target_embeddings[0] == source_embeddings[2])\n",
    "\n",
    "print(len(source_embeddings))"
   ]
  },
  {
   "cell_type": "markdown",
   "metadata": {},
   "source": [
    "### Node2Vec: First Run"
   ]
  },
  {
   "cell_type": "code",
   "execution_count": 33,
   "metadata": {},
   "outputs": [
    {
     "name": "stderr",
     "output_type": "stream",
     "text": [
      "<ipython-input-33-39b5759aad01>:1: DeprecationWarning: Call to deprecated `__getitem__` (Method will be removed in 4.0.0, use self.wv.__getitem__() instead).\n",
      "  X = [(model[str(i)]+model[str(j)]) for i,j in zip(edges['source'], edges['target'])]\n"
     ]
    }
   ],
   "source": [
    "X = [(model[str(i)]+model[str(j)]) for i,j in zip(edges['source'], edges['target'])]\n",
    "y = edges['speed_kph_mean']"
   ]
  },
  {
   "cell_type": "code",
   "execution_count": 34,
   "metadata": {},
   "outputs": [
    {
     "name": "stderr",
     "output_type": "stream",
     "text": [
      "<ipython-input-34-55cc4e5e8037>:2: DeprecationWarning: Call to deprecated `__getitem__` (Method will be removed in 4.0.0, use self.wv.__getitem__() instead).\n",
      "  model['172546'] + model['530313'] == X[0]\n"
     ]
    },
    {
     "data": {
      "text/plain": [
       "array([ True,  True,  True,  True,  True,  True,  True,  True,  True,\n",
       "        True,  True,  True,  True,  True,  True,  True,  True,  True,\n",
       "        True,  True,  True,  True,  True,  True,  True,  True,  True,\n",
       "        True,  True,  True])"
      ]
     },
     "execution_count": 34,
     "metadata": {},
     "output_type": "execute_result"
    }
   ],
   "source": [
    "# Check\n",
    "model['172546'] + model['530313'] == X[0]"
   ]
  },
  {
   "cell_type": "code",
   "execution_count": 35,
   "metadata": {},
   "outputs": [],
   "source": [
    "X_train, X_test, y_train, y_test = train_test_split(np.array(X), y, \n",
    "                                                test_size = 0.25, \n",
    "                                                random_state = 13)"
   ]
  },
  {
   "cell_type": "code",
   "execution_count": 37,
   "metadata": {},
   "outputs": [
    {
     "name": "stdout",
     "output_type": "stream",
     "text": [
      "Mean squared error for linear regression: 99.82\n",
      "Mean squared error for random forest: 83.31\n"
     ]
    }
   ],
   "source": [
    "lr = linear_model.LinearRegression().fit(X_train, y_train)\n",
    "y_pred_lr = lr.predict(X_test)\n",
    "\n",
    "rf = RandomForestRegressor(n_estimators = 100, random_state = 0).fit(X_train, y_train)\n",
    "y_pred_rf = rf.predict(X_test)\n",
    "\n",
    "# Mean squared error\n",
    "print('Mean squared error for linear regression: %.2f' % mean_squared_error(y_test, y_pred_lr))\n",
    "print('Mean squared error for random forest: %.2f' % mean_squared_error(y_test, y_pred_rf))"
   ]
  },
  {
   "cell_type": "code",
   "execution_count": 40,
   "metadata": {},
   "outputs": [],
   "source": [
    "feature_scaler = StandardScaler()\n",
    "X_train = feature_scaler.fit_transform(X_train)\n",
    "X_test = feature_scaler.transform(X_test)"
   ]
  },
  {
   "cell_type": "code",
   "execution_count": 41,
   "metadata": {},
   "outputs": [
    {
     "name": "stdout",
     "output_type": "stream",
     "text": [
      "Mean squared error for linear regression: 99.82\n",
      "Mean squared error for random forest: 83.23\n"
     ]
    }
   ],
   "source": [
    "lr = linear_model.LinearRegression().fit(X_train, y_train)\n",
    "y_pred_lr = lr.predict(X_test)\n",
    "\n",
    "rf = RandomForestRegressor(n_estimators = 100, random_state = 0).fit(X_train, y_train)\n",
    "y_pred_rf = rf.predict(X_test)\n",
    "\n",
    "# Mean squared error\n",
    "print('Mean squared error for linear regression: %.2f' % mean_squared_error(y_test, y_pred_lr))\n",
    "print('Mean squared error for random forest: %.2f' % mean_squared_error(y_test, y_pred_rf))"
   ]
  },
  {
   "cell_type": "markdown",
   "metadata": {},
   "source": [
    "### Second Run: Using only the mean_speed attribute before fitting node2vec"
   ]
  },
  {
   "cell_type": "code",
   "execution_count": 42,
   "metadata": {},
   "outputs": [
    {
     "data": {
      "text/html": [
       "<div>\n",
       "<style scoped>\n",
       "    .dataframe tbody tr th:only-of-type {\n",
       "        vertical-align: middle;\n",
       "    }\n",
       "\n",
       "    .dataframe tbody tr th {\n",
       "        vertical-align: top;\n",
       "    }\n",
       "\n",
       "    .dataframe thead th {\n",
       "        text-align: right;\n",
       "    }\n",
       "</style>\n",
       "<table border=\"1\" class=\"dataframe\">\n",
       "  <thead>\n",
       "    <tr style=\"text-align: right;\">\n",
       "      <th></th>\n",
       "      <th>source</th>\n",
       "      <th>target</th>\n",
       "      <th>speed_kph_mean</th>\n",
       "    </tr>\n",
       "  </thead>\n",
       "  <tbody>\n",
       "    <tr>\n",
       "      <th>0</th>\n",
       "      <td>172546</td>\n",
       "      <td>530313</td>\n",
       "      <td>45.276</td>\n",
       "    </tr>\n",
       "    <tr>\n",
       "      <th>1</th>\n",
       "      <td>172546</td>\n",
       "      <td>28345850</td>\n",
       "      <td>14.532</td>\n",
       "    </tr>\n",
       "    <tr>\n",
       "      <th>2</th>\n",
       "      <td>530313</td>\n",
       "      <td>172546</td>\n",
       "      <td>35.007</td>\n",
       "    </tr>\n",
       "    <tr>\n",
       "      <th>3</th>\n",
       "      <td>28345850</td>\n",
       "      <td>35244866</td>\n",
       "      <td>35.756</td>\n",
       "    </tr>\n",
       "    <tr>\n",
       "      <th>4</th>\n",
       "      <td>28345850</td>\n",
       "      <td>29492967</td>\n",
       "      <td>46.770</td>\n",
       "    </tr>\n",
       "  </tbody>\n",
       "</table>\n",
       "</div>"
      ],
      "text/plain": [
       "     source    target  speed_kph_mean\n",
       "0    172546    530313          45.276\n",
       "1    172546  28345850          14.532\n",
       "2    530313    172546          35.007\n",
       "3  28345850  35244866          35.756\n",
       "4  28345850  29492967          46.770"
      ]
     },
     "metadata": {},
     "output_type": "display_data"
    },
    {
     "name": "stdout",
     "output_type": "stream",
     "text": [
      "\n"
     ]
    },
    {
     "data": {
      "text/html": [
       "<div>\n",
       "<style scoped>\n",
       "    .dataframe tbody tr th:only-of-type {\n",
       "        vertical-align: middle;\n",
       "    }\n",
       "\n",
       "    .dataframe tbody tr th {\n",
       "        vertical-align: top;\n",
       "    }\n",
       "\n",
       "    .dataframe thead th {\n",
       "        text-align: right;\n",
       "    }\n",
       "</style>\n",
       "<table border=\"1\" class=\"dataframe\">\n",
       "  <thead>\n",
       "    <tr style=\"text-align: right;\">\n",
       "      <th></th>\n",
       "      <th></th>\n",
       "      <th>speed_kph_mean</th>\n",
       "    </tr>\n",
       "  </thead>\n",
       "  <tbody>\n",
       "    <tr>\n",
       "      <th rowspan=\"2\" valign=\"top\">172546</th>\n",
       "      <th>530313</th>\n",
       "      <td>45.276</td>\n",
       "    </tr>\n",
       "    <tr>\n",
       "      <th>28345850</th>\n",
       "      <td>14.532</td>\n",
       "    </tr>\n",
       "    <tr>\n",
       "      <th>172547</th>\n",
       "      <th>34694265</th>\n",
       "      <td>42.437</td>\n",
       "    </tr>\n",
       "    <tr>\n",
       "      <th>172558</th>\n",
       "      <th>530225</th>\n",
       "      <td>17.602</td>\n",
       "    </tr>\n",
       "    <tr>\n",
       "      <th>172562</th>\n",
       "      <th>530351</th>\n",
       "      <td>33.422</td>\n",
       "    </tr>\n",
       "  </tbody>\n",
       "</table>\n",
       "</div>"
      ],
      "text/plain": [
       "                 speed_kph_mean\n",
       "172546 530313            45.276\n",
       "       28345850          14.532\n",
       "172547 34694265          42.437\n",
       "172558 530225            17.602\n",
       "172562 530351            33.422"
      ]
     },
     "metadata": {},
     "output_type": "display_data"
    },
    {
     "name": "stdout",
     "output_type": "stream",
     "text": [
      "<class 'networkx.classes.digraph.DiGraph'>\n"
     ]
    }
   ],
   "source": [
    "edges_simplified = edges[['source', 'target', 'osmid', 'highway', 'maxspeed', 'oneway', \n",
    "                          'length', 'geometry', 'hour_of_day', 'speed_kph_mean']]\n",
    "\n",
    "G_data = nx.from_pandas_edgelist(df = edges_simplified, source = \"source\", target = \"target\", \n",
    "                                 edge_attr = 'speed_kph_mean', create_using=nx.DiGraph())\n",
    "\n",
    "df = nx.to_pandas_edgelist(G_data)\n",
    "display(df.head(5))\n",
    "print()\n",
    "display(pd.DataFrame.from_dict(G_data.edges(), orient='index').head(5))\n",
    "print(type(G_data))"
   ]
  },
  {
   "cell_type": "code",
   "execution_count": 43,
   "metadata": {},
   "outputs": [
    {
     "data": {
      "application/vnd.jupyter.widget-view+json": {
       "model_id": "e75e4021511840cd85c9b18ea2e3d4f7",
       "version_major": 2,
       "version_minor": 0
      },
      "text/plain": [
       "HBox(children=(HTML(value='Computing transition probabilities'), FloatProgress(value=0.0, max=8292.0), HTML(va…"
      ]
     },
     "metadata": {},
     "output_type": "display_data"
    },
    {
     "name": "stderr",
     "output_type": "stream",
     "text": [
      "\r",
      "Generating walks (CPU: 1):   0%|                                                                                                                                             | 0/50 [00:00<?, ?it/s]"
     ]
    },
    {
     "name": "stdout",
     "output_type": "stream",
     "text": [
      "\n"
     ]
    },
    {
     "name": "stderr",
     "output_type": "stream",
     "text": [
      "Generating walks (CPU: 1):   8%|█████████▉                                                                                                                      | 78/1000 [35:20<6:57:39, 27.18s/it]\n",
      "Generating walks (CPU: 1): 100%|████████████████████████████████████████████████████████████████████████████████████████████████████████████████████████████████████| 50/50 [02:06<00:00,  2.54s/it]\n"
     ]
    }
   ],
   "source": [
    "node2vec = Node2Vec(G_data, dimensions=30, walk_length=7, num_walks=50, workers = 1, p = 10, q = 0.25)"
   ]
  },
  {
   "cell_type": "code",
   "execution_count": 44,
   "metadata": {},
   "outputs": [],
   "source": [
    "model = node2vec.fit(window=10, min_count=1)"
   ]
  },
  {
   "cell_type": "code",
   "execution_count": 45,
   "metadata": {},
   "outputs": [
    {
     "name": "stderr",
     "output_type": "stream",
     "text": [
      "<ipython-input-45-73bc0344e123>:8: DeprecationWarning: Call to deprecated `__getitem__` (Method will be removed in 4.0.0, use self.wv.__getitem__() instead).\n",
      "  source_embedding = model[str(node_id)]\n",
      "<ipython-input-45-73bc0344e123>:12: DeprecationWarning: Call to deprecated `__getitem__` (Method will be removed in 4.0.0, use self.wv.__getitem__() instead).\n",
      "  target_embedding = model[str(node_id)]\n"
     ]
    }
   ],
   "source": [
    "node_ids = model.wv.index2word   # list of node IDs\n",
    "node_embeddings = model.wv.vectors\n",
    "\n",
    "source_embeddings = []\n",
    "target_embeddings = []\n",
    "\n",
    "for node_id in list(edges.source.values):\n",
    "    source_embedding = model[str(node_id)]\n",
    "    source_embeddings.append(source_embedding)\n",
    "\n",
    "for node_id in edges.target.values:\n",
    "    target_embedding = model[str(node_id)]\n",
    "    target_embeddings.append(target_embedding)\n",
    "    \n",
    "edges['source_embedding'] = source_embeddings\n",
    "edges['target_embedding'] = target_embeddings\n",
    "\n"
   ]
  },
  {
   "cell_type": "code",
   "execution_count": 46,
   "metadata": {},
   "outputs": [
    {
     "name": "stderr",
     "output_type": "stream",
     "text": [
      "<ipython-input-46-2317692fedb8>:1: DeprecationWarning: Call to deprecated `__getitem__` (Method will be removed in 4.0.0, use self.wv.__getitem__() instead).\n",
      "  X = [(model[str(i)]+model[str(j)]) for i,j in zip(edges['source'], edges['target'])]\n"
     ]
    },
    {
     "name": "stdout",
     "output_type": "stream",
     "text": [
      "Mean squared error for linear regression: 100.13\n",
      "Mean squared error for random forest: 82.86\n"
     ]
    }
   ],
   "source": [
    "X = [(model[str(i)]+model[str(j)]) for i,j in zip(edges['source'], edges['target'])]\n",
    "y = edges['speed_kph_mean']\n",
    "\n",
    "X_train, X_test, y_train, y_test = train_test_split(np.array(X), y, \n",
    "                                                test_size = 0.25, \n",
    "                                                random_state = 13)\n",
    "\n",
    "lr = linear_model.LinearRegression().fit(X_train, y_train)\n",
    "y_pred_lr = lr.predict(X_test)\n",
    "\n",
    "rf = RandomForestRegressor(n_estimators = 100, random_state = 0).fit(X_train, y_train)\n",
    "y_pred_rf = rf.predict(X_test)\n",
    "\n",
    "# Mean squared error\n",
    "print('Mean squared error for linear regression: %.2f' % mean_squared_error(y_test, y_pred_lr))\n",
    "print('Mean squared error for random forest: %.2f' % mean_squared_error(y_test, y_pred_rf))\n",
    "\n"
   ]
  },
  {
   "cell_type": "markdown",
   "metadata": {},
   "source": [
    "### Third Run: Flipping the values of Node2Vec parameters p and q"
   ]
  },
  {
   "cell_type": "code",
   "execution_count": 47,
   "metadata": {},
   "outputs": [
    {
     "data": {
      "application/vnd.jupyter.widget-view+json": {
       "model_id": "2f990e6221c14d6d80f4b94659efa4be",
       "version_major": 2,
       "version_minor": 0
      },
      "text/plain": [
       "HBox(children=(HTML(value='Computing transition probabilities'), FloatProgress(value=0.0, max=8292.0), HTML(va…"
      ]
     },
     "metadata": {},
     "output_type": "display_data"
    },
    {
     "name": "stderr",
     "output_type": "stream",
     "text": [
      "\r",
      "Generating walks (CPU: 1):   0%|                                                                                                                                             | 0/50 [00:00<?, ?it/s]"
     ]
    },
    {
     "name": "stdout",
     "output_type": "stream",
     "text": [
      "\n"
     ]
    },
    {
     "name": "stderr",
     "output_type": "stream",
     "text": [
      "Generating walks (CPU: 1): 100%|████████████████████████████████████████████████████████████████████████████████████████████████████████████████████████████████████| 50/50 [02:10<00:00,  2.60s/it]\n"
     ]
    }
   ],
   "source": [
    "node2vec = Node2Vec(G_data, dimensions=30, walk_length=7, num_walks=50, workers = 1, p = 1, q = 10)"
   ]
  },
  {
   "cell_type": "code",
   "execution_count": 48,
   "metadata": {},
   "outputs": [],
   "source": [
    "model = node2vec.fit(window=10, min_count=1)"
   ]
  },
  {
   "cell_type": "code",
   "execution_count": 52,
   "metadata": {},
   "outputs": [
    {
     "name": "stderr",
     "output_type": "stream",
     "text": [
      "<ipython-input-52-3fce5f09b2d3>:8: DeprecationWarning: Call to deprecated `__getitem__` (Method will be removed in 4.0.0, use self.wv.__getitem__() instead).\n",
      "  source_embedding = model[str(node_id)]\n",
      "<ipython-input-52-3fce5f09b2d3>:12: DeprecationWarning: Call to deprecated `__getitem__` (Method will be removed in 4.0.0, use self.wv.__getitem__() instead).\n",
      "  target_embedding = model[str(node_id)]\n"
     ]
    }
   ],
   "source": [
    "node_ids = model.wv.index2word   # list of node IDs\n",
    "node_embeddings = model.wv.vectors\n",
    "\n",
    "source_embeddings = []\n",
    "target_embeddings = []\n",
    "\n",
    "for node_id in list(edges.source.values):\n",
    "    source_embedding = model[str(node_id)]\n",
    "    source_embeddings.append(source_embedding)\n",
    "\n",
    "for node_id in edges.target.values:\n",
    "    target_embedding = model[str(node_id)]\n",
    "    target_embeddings.append(target_embedding)\n",
    "    \n",
    "edges['source_embedding'] = source_embeddings\n",
    "edges['target_embedding'] = target_embeddings"
   ]
  },
  {
   "cell_type": "code",
   "execution_count": 53,
   "metadata": {},
   "outputs": [
    {
     "name": "stderr",
     "output_type": "stream",
     "text": [
      "<ipython-input-53-4fa63f78d992>:1: DeprecationWarning: Call to deprecated `__getitem__` (Method will be removed in 4.0.0, use self.wv.__getitem__() instead).\n",
      "  X = [(model[str(i)]+model[str(j)]) for i,j in zip(edges['source'], edges['target'])]\n"
     ]
    },
    {
     "name": "stdout",
     "output_type": "stream",
     "text": [
      "Mean squared error for linear regression: 99.85\n",
      "Mean squared error for random forest: 82.28\n"
     ]
    }
   ],
   "source": [
    "X = [(model[str(i)]+model[str(j)]) for i,j in zip(edges['source'], edges['target'])]\n",
    "y = edges['speed_kph_mean']\n",
    "\n",
    "X_train, X_test, y_train, y_test = train_test_split(np.array(X), y, \n",
    "                                                test_size = 0.25, \n",
    "                                                random_state = 13)\n",
    "\n",
    "lr = linear_model.LinearRegression().fit(X_train, y_train)\n",
    "y_pred_lr = lr.predict(X_test)\n",
    "\n",
    "rf = RandomForestRegressor(n_estimators = 100, random_state = 0).fit(X_train, y_train)\n",
    "y_pred_rf = rf.predict(X_test)\n",
    "\n",
    "# Mean squared error\n",
    "print('Mean squared error for linear regression: %.2f' % mean_squared_error(y_test, y_pred_lr))\n",
    "print('Mean squared error for random forest: %.2f' % mean_squared_error(y_test, y_pred_rf))\n"
   ]
  },
  {
   "cell_type": "code",
   "execution_count": 54,
   "metadata": {},
   "outputs": [],
   "source": [
    "feature_scaler = StandardScaler()\n",
    "X_train = feature_scaler.fit_transform(X_train)\n",
    "X_test = feature_scaler.transform(X_test)"
   ]
  },
  {
   "cell_type": "code",
   "execution_count": 55,
   "metadata": {},
   "outputs": [
    {
     "name": "stdout",
     "output_type": "stream",
     "text": [
      "Mean squared error for linear regression: 99.85\n",
      "Mean squared error for random forest: 82.34\n"
     ]
    }
   ],
   "source": [
    "lr = linear_model.LinearRegression().fit(X_train, y_train)\n",
    "y_pred_lr = lr.predict(X_test)\n",
    "\n",
    "rf = RandomForestRegressor(n_estimators = 100, random_state = 0).fit(X_train, y_train)\n",
    "y_pred_rf = rf.predict(X_test)\n",
    "\n",
    "# Mean squared error\n",
    "print('Mean squared error for linear regression: %.2f' % mean_squared_error(y_test, y_pred_lr))\n",
    "print('Mean squared error for random forest: %.2f' % mean_squared_error(y_test, y_pred_rf))"
   ]
  }
 ],
 "metadata": {
  "kernelspec": {
   "display_name": "Python 3",
   "language": "python",
   "name": "python3"
  },
  "language_info": {
   "codemirror_mode": {
    "name": "ipython",
    "version": 3
   },
   "file_extension": ".py",
   "mimetype": "text/x-python",
   "name": "python",
   "nbconvert_exporter": "python",
   "pygments_lexer": "ipython3",
   "version": "3.8.10"
  }
 },
 "nbformat": 4,
 "nbformat_minor": 4
}
