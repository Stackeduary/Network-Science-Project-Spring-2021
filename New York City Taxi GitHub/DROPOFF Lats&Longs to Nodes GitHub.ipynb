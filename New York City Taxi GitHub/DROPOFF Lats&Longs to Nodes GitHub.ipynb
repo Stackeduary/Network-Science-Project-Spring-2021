{
 "cells": [
  {
   "cell_type": "markdown",
   "id": "understood-volleyball",
   "metadata": {},
   "source": [
    "### New York\n",
    "latitude = 40\n",
    "<br>\n",
    "longitude = -74"
   ]
  },
  {
   "cell_type": "code",
   "execution_count": 1,
   "id": "handed-sydney",
   "metadata": {},
   "outputs": [
    {
     "data": {
      "text/plain": [
       "'1.1.0'"
      ]
     },
     "execution_count": 1,
     "metadata": {},
     "output_type": "execute_result"
    }
   ],
   "source": [
    "import networkx as nx\n",
    "import osmnx as ox\n",
    "import pandas as pd\n",
    "\n",
    "%matplotlib inline\n",
    "ox.config(log_console=True)\n",
    "ox.__version__"
   ]
  },
  {
   "cell_type": "markdown",
   "id": "consecutive-salmon",
   "metadata": {},
   "source": [
    "### download/model a street network for New York City from OSMnx"
   ]
  },
  {
   "cell_type": "code",
   "execution_count": 2,
   "id": "following-onion",
   "metadata": {},
   "outputs": [
    {
     "data": {
      "text/html": [
       "<div>\n",
       "<style scoped>\n",
       "    .dataframe tbody tr th:only-of-type {\n",
       "        vertical-align: middle;\n",
       "    }\n",
       "\n",
       "    .dataframe tbody tr th {\n",
       "        vertical-align: top;\n",
       "    }\n",
       "\n",
       "    .dataframe thead th {\n",
       "        text-align: right;\n",
       "    }\n",
       "</style>\n",
       "<table border=\"1\" class=\"dataframe\">\n",
       "  <thead>\n",
       "    <tr style=\"text-align: right;\">\n",
       "      <th></th>\n",
       "      <th>latitude</th>\n",
       "      <th>longitude</th>\n",
       "      <th>ref</th>\n",
       "      <th>highway</th>\n",
       "      <th>street_count</th>\n",
       "      <th>geometry</th>\n",
       "    </tr>\n",
       "    <tr>\n",
       "      <th>osmid</th>\n",
       "      <th></th>\n",
       "      <th></th>\n",
       "      <th></th>\n",
       "      <th></th>\n",
       "      <th></th>\n",
       "      <th></th>\n",
       "    </tr>\n",
       "  </thead>\n",
       "  <tbody>\n",
       "    <tr>\n",
       "      <th>39076461</th>\n",
       "      <td>40.786409</td>\n",
       "      <td>-73.794627</td>\n",
       "      <td>33</td>\n",
       "      <td>motorway_junction</td>\n",
       "      <td>3</td>\n",
       "      <td>POINT (-73.79463 40.78641)</td>\n",
       "    </tr>\n",
       "    <tr>\n",
       "      <th>39076490</th>\n",
       "      <td>40.762429</td>\n",
       "      <td>-73.757091</td>\n",
       "      <td>31W</td>\n",
       "      <td>motorway_junction</td>\n",
       "      <td>3</td>\n",
       "      <td>POINT (-73.75709 40.76243)</td>\n",
       "    </tr>\n",
       "    <tr>\n",
       "      <th>39076504</th>\n",
       "      <td>40.753467</td>\n",
       "      <td>-73.744164</td>\n",
       "      <td>30W</td>\n",
       "      <td>motorway_junction</td>\n",
       "      <td>3</td>\n",
       "      <td>POINT (-73.74416 40.75347)</td>\n",
       "    </tr>\n",
       "    <tr>\n",
       "      <th>42421728</th>\n",
       "      <td>40.798048</td>\n",
       "      <td>-73.960044</td>\n",
       "      <td>NaN</td>\n",
       "      <td>traffic_signals</td>\n",
       "      <td>3</td>\n",
       "      <td>POINT (-73.96004 40.79805)</td>\n",
       "    </tr>\n",
       "    <tr>\n",
       "      <th>42421731</th>\n",
       "      <td>40.798645</td>\n",
       "      <td>-73.961474</td>\n",
       "      <td>NaN</td>\n",
       "      <td>traffic_signals</td>\n",
       "      <td>4</td>\n",
       "      <td>POINT (-73.96147 40.79865)</td>\n",
       "    </tr>\n",
       "  </tbody>\n",
       "</table>\n",
       "</div>"
      ],
      "text/plain": [
       "           latitude  longitude  ref            highway  street_count  \\\n",
       "osmid                                                                  \n",
       "39076461  40.786409 -73.794627   33  motorway_junction             3   \n",
       "39076490  40.762429 -73.757091  31W  motorway_junction             3   \n",
       "39076504  40.753467 -73.744164  30W  motorway_junction             3   \n",
       "42421728  40.798048 -73.960044  NaN    traffic_signals             3   \n",
       "42421731  40.798645 -73.961474  NaN    traffic_signals             4   \n",
       "\n",
       "                            geometry  \n",
       "osmid                                 \n",
       "39076461  POINT (-73.79463 40.78641)  \n",
       "39076490  POINT (-73.75709 40.76243)  \n",
       "39076504  POINT (-73.74416 40.75347)  \n",
       "42421728  POINT (-73.96004 40.79805)  \n",
       "42421731  POINT (-73.96147 40.79865)  "
      ]
     },
     "execution_count": 2,
     "metadata": {},
     "output_type": "execute_result"
    }
   ],
   "source": [
    "G = ox.graph_from_place(\"New York, New York, USA\", network_type=\"drive\")\n",
    "gdf_nodes, gdf_edges = ox.graph_to_gdfs(G)\n",
    "\n",
    "gdf_nodes = gdf_nodes.rename(columns = {'y':'latitude', 'x':'longitude'})\n",
    "\n",
    "gdf_nodes.head()"
   ]
  },
  {
   "cell_type": "markdown",
   "id": "straight-stuff",
   "metadata": {},
   "source": [
    "### Create a new dataframe keeping only the columns we care about"
   ]
  },
  {
   "cell_type": "code",
   "execution_count": 3,
   "id": "concerned-business",
   "metadata": {},
   "outputs": [
    {
     "data": {
      "text/html": [
       "<div>\n",
       "<style scoped>\n",
       "    .dataframe tbody tr th:only-of-type {\n",
       "        vertical-align: middle;\n",
       "    }\n",
       "\n",
       "    .dataframe tbody tr th {\n",
       "        vertical-align: top;\n",
       "    }\n",
       "\n",
       "    .dataframe thead th {\n",
       "        text-align: right;\n",
       "    }\n",
       "</style>\n",
       "<table border=\"1\" class=\"dataframe\">\n",
       "  <thead>\n",
       "    <tr style=\"text-align: right;\">\n",
       "      <th></th>\n",
       "      <th>osmid</th>\n",
       "      <th>latitude</th>\n",
       "      <th>longitude</th>\n",
       "    </tr>\n",
       "    <tr>\n",
       "      <th>osmid</th>\n",
       "      <th></th>\n",
       "      <th></th>\n",
       "      <th></th>\n",
       "    </tr>\n",
       "  </thead>\n",
       "  <tbody>\n",
       "    <tr>\n",
       "      <th>39076461</th>\n",
       "      <td>39076461</td>\n",
       "      <td>40.786409</td>\n",
       "      <td>-73.794627</td>\n",
       "    </tr>\n",
       "    <tr>\n",
       "      <th>39076490</th>\n",
       "      <td>39076490</td>\n",
       "      <td>40.762429</td>\n",
       "      <td>-73.757091</td>\n",
       "    </tr>\n",
       "    <tr>\n",
       "      <th>39076504</th>\n",
       "      <td>39076504</td>\n",
       "      <td>40.753467</td>\n",
       "      <td>-73.744164</td>\n",
       "    </tr>\n",
       "    <tr>\n",
       "      <th>42421728</th>\n",
       "      <td>42421728</td>\n",
       "      <td>40.798048</td>\n",
       "      <td>-73.960044</td>\n",
       "    </tr>\n",
       "    <tr>\n",
       "      <th>42421731</th>\n",
       "      <td>42421731</td>\n",
       "      <td>40.798645</td>\n",
       "      <td>-73.961474</td>\n",
       "    </tr>\n",
       "  </tbody>\n",
       "</table>\n",
       "</div>"
      ],
      "text/plain": [
       "             osmid   latitude  longitude\n",
       "osmid                                   \n",
       "39076461  39076461  40.786409 -73.794627\n",
       "39076490  39076490  40.762429 -73.757091\n",
       "39076504  39076504  40.753467 -73.744164\n",
       "42421728  42421728  40.798048 -73.960044\n",
       "42421731  42421731  40.798645 -73.961474"
      ]
     },
     "execution_count": 3,
     "metadata": {},
     "output_type": "execute_result"
    }
   ],
   "source": [
    "gdf_nodes['osmid'] = gdf_nodes.index\n",
    "nodes = gdf_nodes[['osmid', 'latitude', 'longitude']]\n",
    "\n",
    "nodes.head()"
   ]
  },
  {
   "cell_type": "markdown",
   "id": "composite-slope",
   "metadata": {},
   "source": [
    "### Try resetting the index to see if that fixes the merge issue below\n",
    "\n",
    "(it doesn't)"
   ]
  },
  {
   "cell_type": "code",
   "execution_count": 4,
   "id": "included-absorption",
   "metadata": {},
   "outputs": [
    {
     "data": {
      "text/html": [
       "<div>\n",
       "<style scoped>\n",
       "    .dataframe tbody tr th:only-of-type {\n",
       "        vertical-align: middle;\n",
       "    }\n",
       "\n",
       "    .dataframe tbody tr th {\n",
       "        vertical-align: top;\n",
       "    }\n",
       "\n",
       "    .dataframe thead th {\n",
       "        text-align: right;\n",
       "    }\n",
       "</style>\n",
       "<table border=\"1\" class=\"dataframe\">\n",
       "  <thead>\n",
       "    <tr style=\"text-align: right;\">\n",
       "      <th></th>\n",
       "      <th>osmid</th>\n",
       "      <th>latitude</th>\n",
       "      <th>longitude</th>\n",
       "    </tr>\n",
       "  </thead>\n",
       "  <tbody>\n",
       "    <tr>\n",
       "      <th>0</th>\n",
       "      <td>39076461</td>\n",
       "      <td>40.786409</td>\n",
       "      <td>-73.794627</td>\n",
       "    </tr>\n",
       "    <tr>\n",
       "      <th>1</th>\n",
       "      <td>39076490</td>\n",
       "      <td>40.762429</td>\n",
       "      <td>-73.757091</td>\n",
       "    </tr>\n",
       "    <tr>\n",
       "      <th>2</th>\n",
       "      <td>39076504</td>\n",
       "      <td>40.753467</td>\n",
       "      <td>-73.744164</td>\n",
       "    </tr>\n",
       "    <tr>\n",
       "      <th>3</th>\n",
       "      <td>42421728</td>\n",
       "      <td>40.798048</td>\n",
       "      <td>-73.960044</td>\n",
       "    </tr>\n",
       "    <tr>\n",
       "      <th>4</th>\n",
       "      <td>42421731</td>\n",
       "      <td>40.798645</td>\n",
       "      <td>-73.961474</td>\n",
       "    </tr>\n",
       "  </tbody>\n",
       "</table>\n",
       "</div>"
      ],
      "text/plain": [
       "      osmid   latitude  longitude\n",
       "0  39076461  40.786409 -73.794627\n",
       "1  39076490  40.762429 -73.757091\n",
       "2  39076504  40.753467 -73.744164\n",
       "3  42421728  40.798048 -73.960044\n",
       "4  42421731  40.798645 -73.961474"
      ]
     },
     "execution_count": 4,
     "metadata": {},
     "output_type": "execute_result"
    }
   ],
   "source": [
    "nodes.reset_index(drop=True, inplace=True)\n",
    "nodes.head()"
   ]
  },
  {
   "cell_type": "code",
   "execution_count": 5,
   "id": "velvet-china",
   "metadata": {},
   "outputs": [],
   "source": [
    "dataFileName = \"fullnycdata.csv\""
   ]
  },
  {
   "cell_type": "code",
   "execution_count": 6,
   "id": "graduate-storage",
   "metadata": {},
   "outputs": [
    {
     "data": {
      "text/html": [
       "<div>\n",
       "<style scoped>\n",
       "    .dataframe tbody tr th:only-of-type {\n",
       "        vertical-align: middle;\n",
       "    }\n",
       "\n",
       "    .dataframe tbody tr th {\n",
       "        vertical-align: top;\n",
       "    }\n",
       "\n",
       "    .dataframe thead th {\n",
       "        text-align: right;\n",
       "    }\n",
       "</style>\n",
       "<table border=\"1\" class=\"dataframe\">\n",
       "  <thead>\n",
       "    <tr style=\"text-align: right;\">\n",
       "      <th></th>\n",
       "      <th>medallion</th>\n",
       "      <th>hack_license</th>\n",
       "      <th>vendor_id</th>\n",
       "      <th>rate_code</th>\n",
       "      <th>store_and_fwd_flag</th>\n",
       "      <th>pickup_datetime</th>\n",
       "      <th>dropoff_datetime</th>\n",
       "      <th>passenger_count</th>\n",
       "      <th>pickup_longitude</th>\n",
       "      <th>pickup_latitude</th>\n",
       "      <th>dropoff_longitude</th>\n",
       "      <th>dropoff_latitude</th>\n",
       "    </tr>\n",
       "  </thead>\n",
       "  <tbody>\n",
       "    <tr>\n",
       "      <th>0</th>\n",
       "      <td>89D227B655E5C82AECF13C3F540D4CF4</td>\n",
       "      <td>BA96DE419E711691B9445D6A6307C170</td>\n",
       "      <td>CMT</td>\n",
       "      <td>1</td>\n",
       "      <td>N</td>\n",
       "      <td>01-01-13 15:11</td>\n",
       "      <td>01-01-13 15:18</td>\n",
       "      <td>4</td>\n",
       "      <td>-73.978165</td>\n",
       "      <td>40.757977</td>\n",
       "      <td>-73.989838</td>\n",
       "      <td>40.751171</td>\n",
       "    </tr>\n",
       "    <tr>\n",
       "      <th>1</th>\n",
       "      <td>0BD7C8F5BA12B88E0B67BED28BEA73D8</td>\n",
       "      <td>9FD8F69F0804BDB5549F40E9DA1BE472</td>\n",
       "      <td>CMT</td>\n",
       "      <td>1</td>\n",
       "      <td>N</td>\n",
       "      <td>06-01-13 0:18</td>\n",
       "      <td>06-01-13 0:22</td>\n",
       "      <td>1</td>\n",
       "      <td>-74.006683</td>\n",
       "      <td>40.731781</td>\n",
       "      <td>-73.994499</td>\n",
       "      <td>40.750660</td>\n",
       "    </tr>\n",
       "    <tr>\n",
       "      <th>2</th>\n",
       "      <td>0BD7C8F5BA12B88E0B67BED28BEA73D8</td>\n",
       "      <td>9FD8F69F0804BDB5549F40E9DA1BE472</td>\n",
       "      <td>CMT</td>\n",
       "      <td>1</td>\n",
       "      <td>N</td>\n",
       "      <td>05-01-13 18:49</td>\n",
       "      <td>05-01-13 18:54</td>\n",
       "      <td>1</td>\n",
       "      <td>-74.004707</td>\n",
       "      <td>40.737770</td>\n",
       "      <td>-74.009834</td>\n",
       "      <td>40.726002</td>\n",
       "    </tr>\n",
       "    <tr>\n",
       "      <th>3</th>\n",
       "      <td>DFD2202EE08F7A8DC9A57B02ACB81FE2</td>\n",
       "      <td>51EE87E3205C985EF8431D850C786310</td>\n",
       "      <td>CMT</td>\n",
       "      <td>1</td>\n",
       "      <td>N</td>\n",
       "      <td>07-01-13 23:54</td>\n",
       "      <td>07-01-13 23:58</td>\n",
       "      <td>2</td>\n",
       "      <td>-73.974602</td>\n",
       "      <td>40.759945</td>\n",
       "      <td>-73.984734</td>\n",
       "      <td>40.759388</td>\n",
       "    </tr>\n",
       "    <tr>\n",
       "      <th>4</th>\n",
       "      <td>DFD2202EE08F7A8DC9A57B02ACB81FE2</td>\n",
       "      <td>51EE87E3205C985EF8431D850C786310</td>\n",
       "      <td>CMT</td>\n",
       "      <td>1</td>\n",
       "      <td>N</td>\n",
       "      <td>07-01-13 23:25</td>\n",
       "      <td>07-01-13 23:34</td>\n",
       "      <td>1</td>\n",
       "      <td>-73.976250</td>\n",
       "      <td>40.748528</td>\n",
       "      <td>-74.002586</td>\n",
       "      <td>40.747868</td>\n",
       "    </tr>\n",
       "  </tbody>\n",
       "</table>\n",
       "</div>"
      ],
      "text/plain": [
       "                          medallion                      hack_license  \\\n",
       "0  89D227B655E5C82AECF13C3F540D4CF4  BA96DE419E711691B9445D6A6307C170   \n",
       "1  0BD7C8F5BA12B88E0B67BED28BEA73D8  9FD8F69F0804BDB5549F40E9DA1BE472   \n",
       "2  0BD7C8F5BA12B88E0B67BED28BEA73D8  9FD8F69F0804BDB5549F40E9DA1BE472   \n",
       "3  DFD2202EE08F7A8DC9A57B02ACB81FE2  51EE87E3205C985EF8431D850C786310   \n",
       "4  DFD2202EE08F7A8DC9A57B02ACB81FE2  51EE87E3205C985EF8431D850C786310   \n",
       "\n",
       "  vendor_id  rate_code store_and_fwd_flag pickup_datetime dropoff_datetime  \\\n",
       "0       CMT          1                  N  01-01-13 15:11   01-01-13 15:18   \n",
       "1       CMT          1                  N   06-01-13 0:18    06-01-13 0:22   \n",
       "2       CMT          1                  N  05-01-13 18:49   05-01-13 18:54   \n",
       "3       CMT          1                  N  07-01-13 23:54   07-01-13 23:58   \n",
       "4       CMT          1                  N  07-01-13 23:25   07-01-13 23:34   \n",
       "\n",
       "   passenger_count  pickup_longitude  pickup_latitude  dropoff_longitude  \\\n",
       "0                4        -73.978165        40.757977         -73.989838   \n",
       "1                1        -74.006683        40.731781         -73.994499   \n",
       "2                1        -74.004707        40.737770         -74.009834   \n",
       "3                2        -73.974602        40.759945         -73.984734   \n",
       "4                1        -73.976250        40.748528         -74.002586   \n",
       "\n",
       "   dropoff_latitude  \n",
       "0         40.751171  \n",
       "1         40.750660  \n",
       "2         40.726002  \n",
       "3         40.759388  \n",
       "4         40.747868  "
      ]
     },
     "execution_count": 6,
     "metadata": {},
     "output_type": "execute_result"
    }
   ],
   "source": [
    "csvdata = pd.read_csv(dataFileName, sep =\",\")\n",
    "\n",
    "csvdata.head()"
   ]
  },
  {
   "cell_type": "markdown",
   "id": "positive-reduction",
   "metadata": {},
   "source": [
    "### Create a new dataframe keeping only the columns we care about"
   ]
  },
  {
   "cell_type": "code",
   "execution_count": 7,
   "id": "present-dubai",
   "metadata": {},
   "outputs": [
    {
     "data": {
      "text/html": [
       "<div>\n",
       "<style scoped>\n",
       "    .dataframe tbody tr th:only-of-type {\n",
       "        vertical-align: middle;\n",
       "    }\n",
       "\n",
       "    .dataframe tbody tr th {\n",
       "        vertical-align: top;\n",
       "    }\n",
       "\n",
       "    .dataframe thead th {\n",
       "        text-align: right;\n",
       "    }\n",
       "</style>\n",
       "<table border=\"1\" class=\"dataframe\">\n",
       "  <thead>\n",
       "    <tr style=\"text-align: right;\">\n",
       "      <th></th>\n",
       "      <th>hack_license</th>\n",
       "      <th>dropoff_datetime</th>\n",
       "      <th>passenger_count</th>\n",
       "      <th>dropoff_latitude</th>\n",
       "      <th>dropoff_longitude</th>\n",
       "    </tr>\n",
       "  </thead>\n",
       "  <tbody>\n",
       "    <tr>\n",
       "      <th>0</th>\n",
       "      <td>BA96DE419E711691B9445D6A6307C170</td>\n",
       "      <td>01-01-13 15:18</td>\n",
       "      <td>4</td>\n",
       "      <td>40.751171</td>\n",
       "      <td>-73.989838</td>\n",
       "    </tr>\n",
       "    <tr>\n",
       "      <th>1</th>\n",
       "      <td>9FD8F69F0804BDB5549F40E9DA1BE472</td>\n",
       "      <td>06-01-13 0:22</td>\n",
       "      <td>1</td>\n",
       "      <td>40.750660</td>\n",
       "      <td>-73.994499</td>\n",
       "    </tr>\n",
       "    <tr>\n",
       "      <th>2</th>\n",
       "      <td>9FD8F69F0804BDB5549F40E9DA1BE472</td>\n",
       "      <td>05-01-13 18:54</td>\n",
       "      <td>1</td>\n",
       "      <td>40.726002</td>\n",
       "      <td>-74.009834</td>\n",
       "    </tr>\n",
       "    <tr>\n",
       "      <th>3</th>\n",
       "      <td>51EE87E3205C985EF8431D850C786310</td>\n",
       "      <td>07-01-13 23:58</td>\n",
       "      <td>2</td>\n",
       "      <td>40.759388</td>\n",
       "      <td>-73.984734</td>\n",
       "    </tr>\n",
       "    <tr>\n",
       "      <th>4</th>\n",
       "      <td>51EE87E3205C985EF8431D850C786310</td>\n",
       "      <td>07-01-13 23:34</td>\n",
       "      <td>1</td>\n",
       "      <td>40.747868</td>\n",
       "      <td>-74.002586</td>\n",
       "    </tr>\n",
       "  </tbody>\n",
       "</table>\n",
       "</div>"
      ],
      "text/plain": [
       "                       hack_license dropoff_datetime  passenger_count  \\\n",
       "0  BA96DE419E711691B9445D6A6307C170   01-01-13 15:18                4   \n",
       "1  9FD8F69F0804BDB5549F40E9DA1BE472    06-01-13 0:22                1   \n",
       "2  9FD8F69F0804BDB5549F40E9DA1BE472   05-01-13 18:54                1   \n",
       "3  51EE87E3205C985EF8431D850C786310   07-01-13 23:58                2   \n",
       "4  51EE87E3205C985EF8431D850C786310   07-01-13 23:34                1   \n",
       "\n",
       "   dropoff_latitude  dropoff_longitude  \n",
       "0         40.751171         -73.989838  \n",
       "1         40.750660         -73.994499  \n",
       "2         40.726002         -74.009834  \n",
       "3         40.759388         -73.984734  \n",
       "4         40.747868         -74.002586  "
      ]
     },
     "execution_count": 7,
     "metadata": {},
     "output_type": "execute_result"
    }
   ],
   "source": [
    "dropoffdf = csvdata[['hack_license', 'dropoff_datetime','passenger_count','dropoff_latitude', 'dropoff_longitude']]\n",
    "\n",
    "dropoffdf.head()"
   ]
  },
  {
   "cell_type": "code",
   "execution_count": 8,
   "id": "accepted-gamma",
   "metadata": {},
   "outputs": [
    {
     "data": {
      "text/plain": [
       "(55314, 3)"
      ]
     },
     "execution_count": 8,
     "metadata": {},
     "output_type": "execute_result"
    }
   ],
   "source": [
    "nodes.shape"
   ]
  },
  {
   "cell_type": "code",
   "execution_count": 9,
   "id": "closed-ladder",
   "metadata": {},
   "outputs": [
    {
     "name": "stdout",
     "output_type": "stream",
     "text": [
      "261367744\n"
     ]
    }
   ],
   "source": [
    "nodeid = ox.distance.nearest_nodes(G, 40.757977, -73.978165, return_dist=False)\n",
    "print(nodeid)"
   ]
  },
  {
   "cell_type": "code",
   "execution_count": 10,
   "id": "sacred-style",
   "metadata": {},
   "outputs": [],
   "source": [
    "def latlongtonode(latitude, longitude):\n",
    "    return ox.distance.nearest_nodes(G, latitude, longitude, return_dist=False)"
   ]
  },
  {
   "cell_type": "code",
   "execution_count": 11,
   "id": "simple-signal",
   "metadata": {},
   "outputs": [
    {
     "name": "stderr",
     "output_type": "stream",
     "text": [
      "<ipython-input-11-9af73a35d4f0>:1: SettingWithCopyWarning: \n",
      "A value is trying to be set on a copy of a slice from a DataFrame.\n",
      "Try using .loc[row_indexer,col_indexer] = value instead\n",
      "\n",
      "See the caveats in the documentation: https://pandas.pydata.org/pandas-docs/stable/user_guide/indexing.html#returning-a-view-versus-a-copy\n",
      "  dropoffdf['dropoff_node'] = latlongtonode(dropoffdf['dropoff_latitude'], dropoffdf['dropoff_longitude'])\n"
     ]
    },
    {
     "data": {
      "text/html": [
       "<div>\n",
       "<style scoped>\n",
       "    .dataframe tbody tr th:only-of-type {\n",
       "        vertical-align: middle;\n",
       "    }\n",
       "\n",
       "    .dataframe tbody tr th {\n",
       "        vertical-align: top;\n",
       "    }\n",
       "\n",
       "    .dataframe thead th {\n",
       "        text-align: right;\n",
       "    }\n",
       "</style>\n",
       "<table border=\"1\" class=\"dataframe\">\n",
       "  <thead>\n",
       "    <tr style=\"text-align: right;\">\n",
       "      <th></th>\n",
       "      <th>hack_license</th>\n",
       "      <th>dropoff_datetime</th>\n",
       "      <th>passenger_count</th>\n",
       "      <th>dropoff_latitude</th>\n",
       "      <th>dropoff_longitude</th>\n",
       "      <th>dropoff_node</th>\n",
       "    </tr>\n",
       "  </thead>\n",
       "  <tbody>\n",
       "    <tr>\n",
       "      <th>0</th>\n",
       "      <td>BA96DE419E711691B9445D6A6307C170</td>\n",
       "      <td>01-01-13 15:18</td>\n",
       "      <td>4</td>\n",
       "      <td>40.751171</td>\n",
       "      <td>-73.989838</td>\n",
       "      <td>261367744</td>\n",
       "    </tr>\n",
       "    <tr>\n",
       "      <th>1</th>\n",
       "      <td>9FD8F69F0804BDB5549F40E9DA1BE472</td>\n",
       "      <td>06-01-13 0:22</td>\n",
       "      <td>1</td>\n",
       "      <td>40.750660</td>\n",
       "      <td>-73.994499</td>\n",
       "      <td>261367744</td>\n",
       "    </tr>\n",
       "    <tr>\n",
       "      <th>2</th>\n",
       "      <td>9FD8F69F0804BDB5549F40E9DA1BE472</td>\n",
       "      <td>05-01-13 18:54</td>\n",
       "      <td>1</td>\n",
       "      <td>40.726002</td>\n",
       "      <td>-74.009834</td>\n",
       "      <td>261367744</td>\n",
       "    </tr>\n",
       "    <tr>\n",
       "      <th>3</th>\n",
       "      <td>51EE87E3205C985EF8431D850C786310</td>\n",
       "      <td>07-01-13 23:58</td>\n",
       "      <td>2</td>\n",
       "      <td>40.759388</td>\n",
       "      <td>-73.984734</td>\n",
       "      <td>261367744</td>\n",
       "    </tr>\n",
       "    <tr>\n",
       "      <th>4</th>\n",
       "      <td>51EE87E3205C985EF8431D850C786310</td>\n",
       "      <td>07-01-13 23:34</td>\n",
       "      <td>1</td>\n",
       "      <td>40.747868</td>\n",
       "      <td>-74.002586</td>\n",
       "      <td>261367744</td>\n",
       "    </tr>\n",
       "  </tbody>\n",
       "</table>\n",
       "</div>"
      ],
      "text/plain": [
       "                       hack_license dropoff_datetime  passenger_count  \\\n",
       "0  BA96DE419E711691B9445D6A6307C170   01-01-13 15:18                4   \n",
       "1  9FD8F69F0804BDB5549F40E9DA1BE472    06-01-13 0:22                1   \n",
       "2  9FD8F69F0804BDB5549F40E9DA1BE472   05-01-13 18:54                1   \n",
       "3  51EE87E3205C985EF8431D850C786310   07-01-13 23:58                2   \n",
       "4  51EE87E3205C985EF8431D850C786310   07-01-13 23:34                1   \n",
       "\n",
       "   dropoff_latitude  dropoff_longitude  dropoff_node  \n",
       "0         40.751171         -73.989838     261367744  \n",
       "1         40.750660         -73.994499     261367744  \n",
       "2         40.726002         -74.009834     261367744  \n",
       "3         40.759388         -73.984734     261367744  \n",
       "4         40.747868         -74.002586     261367744  "
      ]
     },
     "execution_count": 11,
     "metadata": {},
     "output_type": "execute_result"
    }
   ],
   "source": [
    "dropoffdf['dropoff_node'] = latlongtonode(dropoffdf['dropoff_latitude'], dropoffdf['dropoff_longitude'])\n",
    "dropoffdf.head()"
   ]
  },
  {
   "cell_type": "code",
   "execution_count": 13,
   "id": "advance-occurrence",
   "metadata": {},
   "outputs": [
    {
     "name": "stderr",
     "output_type": "stream",
     "text": [
      "<ipython-input-13-0bcab4768f98>:1: SettingWithCopyWarning: \n",
      "A value is trying to be set on a copy of a slice from a DataFrame.\n",
      "Try using .loc[row_indexer,col_indexer] = value instead\n",
      "\n",
      "See the caveats in the documentation: https://pandas.pydata.org/pandas-docs/stable/user_guide/indexing.html#returning-a-view-versus-a-copy\n",
      "  dropoffdf['dropoff_node'] = ox.distance.nearest_nodes(G,\n"
     ]
    },
    {
     "data": {
      "text/html": [
       "<div>\n",
       "<style scoped>\n",
       "    .dataframe tbody tr th:only-of-type {\n",
       "        vertical-align: middle;\n",
       "    }\n",
       "\n",
       "    .dataframe tbody tr th {\n",
       "        vertical-align: top;\n",
       "    }\n",
       "\n",
       "    .dataframe thead th {\n",
       "        text-align: right;\n",
       "    }\n",
       "</style>\n",
       "<table border=\"1\" class=\"dataframe\">\n",
       "  <thead>\n",
       "    <tr style=\"text-align: right;\">\n",
       "      <th></th>\n",
       "      <th>hack_license</th>\n",
       "      <th>dropoff_datetime</th>\n",
       "      <th>passenger_count</th>\n",
       "      <th>dropoff_latitude</th>\n",
       "      <th>dropoff_longitude</th>\n",
       "      <th>dropoff_node</th>\n",
       "    </tr>\n",
       "  </thead>\n",
       "  <tbody>\n",
       "    <tr>\n",
       "      <th>0</th>\n",
       "      <td>BA96DE419E711691B9445D6A6307C170</td>\n",
       "      <td>01-01-13 15:18</td>\n",
       "      <td>4</td>\n",
       "      <td>40.751171</td>\n",
       "      <td>-73.989838</td>\n",
       "      <td>261367744</td>\n",
       "    </tr>\n",
       "    <tr>\n",
       "      <th>1</th>\n",
       "      <td>9FD8F69F0804BDB5549F40E9DA1BE472</td>\n",
       "      <td>06-01-13 0:22</td>\n",
       "      <td>1</td>\n",
       "      <td>40.750660</td>\n",
       "      <td>-73.994499</td>\n",
       "      <td>261367744</td>\n",
       "    </tr>\n",
       "    <tr>\n",
       "      <th>2</th>\n",
       "      <td>9FD8F69F0804BDB5549F40E9DA1BE472</td>\n",
       "      <td>05-01-13 18:54</td>\n",
       "      <td>1</td>\n",
       "      <td>40.726002</td>\n",
       "      <td>-74.009834</td>\n",
       "      <td>261367744</td>\n",
       "    </tr>\n",
       "    <tr>\n",
       "      <th>3</th>\n",
       "      <td>51EE87E3205C985EF8431D850C786310</td>\n",
       "      <td>07-01-13 23:58</td>\n",
       "      <td>2</td>\n",
       "      <td>40.759388</td>\n",
       "      <td>-73.984734</td>\n",
       "      <td>261367744</td>\n",
       "    </tr>\n",
       "    <tr>\n",
       "      <th>4</th>\n",
       "      <td>51EE87E3205C985EF8431D850C786310</td>\n",
       "      <td>07-01-13 23:34</td>\n",
       "      <td>1</td>\n",
       "      <td>40.747868</td>\n",
       "      <td>-74.002586</td>\n",
       "      <td>261367744</td>\n",
       "    </tr>\n",
       "  </tbody>\n",
       "</table>\n",
       "</div>"
      ],
      "text/plain": [
       "                       hack_license dropoff_datetime  passenger_count  \\\n",
       "0  BA96DE419E711691B9445D6A6307C170   01-01-13 15:18                4   \n",
       "1  9FD8F69F0804BDB5549F40E9DA1BE472    06-01-13 0:22                1   \n",
       "2  9FD8F69F0804BDB5549F40E9DA1BE472   05-01-13 18:54                1   \n",
       "3  51EE87E3205C985EF8431D850C786310   07-01-13 23:58                2   \n",
       "4  51EE87E3205C985EF8431D850C786310   07-01-13 23:34                1   \n",
       "\n",
       "   dropoff_latitude  dropoff_longitude  dropoff_node  \n",
       "0         40.751171         -73.989838     261367744  \n",
       "1         40.750660         -73.994499     261367744  \n",
       "2         40.726002         -74.009834     261367744  \n",
       "3         40.759388         -73.984734     261367744  \n",
       "4         40.747868         -74.002586     261367744  "
      ]
     },
     "execution_count": 13,
     "metadata": {},
     "output_type": "execute_result"
    }
   ],
   "source": [
    "dropoffdf['dropoff_node'] = ox.distance.nearest_nodes(G, \n",
    "                       dropoffdf['dropoff_latitude'], dropoffdf['dropoff_longitude'], return_dist=False)\n",
    "\n",
    "dropoffdf.head()"
   ]
  },
  {
   "cell_type": "code",
   "execution_count": 14,
   "id": "traditional-accused",
   "metadata": {},
   "outputs": [
    {
     "name": "stdout",
     "output_type": "stream",
     "text": [
      "hack_license          9990\n",
      "dropoff_datetime      1546\n",
      "passenger_count          7\n",
      "dropoff_latitude     27936\n",
      "dropoff_longitude    14781\n",
      "dropoff_node             6\n",
      "dtype: int64\n"
     ]
    }
   ],
   "source": [
    "print(dropoffdf.nunique())"
   ]
  },
  {
   "cell_type": "code",
   "execution_count": 15,
   "id": "filled-provider",
   "metadata": {},
   "outputs": [
    {
     "data": {
      "text/plain": [
       "pandas.core.series.Series"
      ]
     },
     "execution_count": 15,
     "metadata": {},
     "output_type": "execute_result"
    }
   ],
   "source": [
    "type(dropoffdf['dropoff_latitude'])"
   ]
  },
  {
   "cell_type": "code",
   "execution_count": 16,
   "id": "premium-september",
   "metadata": {},
   "outputs": [],
   "source": [
    "# dataFileName = \"Sample NYC Data subset rows.csv\"\n",
    "\n",
    "# csvdata = pd.read_csv(dataFileName, sep =\",\")\n",
    "\n",
    "# csvdata.shape"
   ]
  },
  {
   "cell_type": "code",
   "execution_count": 17,
   "id": "happy-style",
   "metadata": {},
   "outputs": [],
   "source": [
    "# pickupdf = csvdata[['hack_license', 'pickup_datetime','passenger_count','pickup_latitude', 'pickup_longitude']]\n",
    "\n",
    "# pickupdf.head()"
   ]
  },
  {
   "cell_type": "code",
   "execution_count": 18,
   "id": "tired-superior",
   "metadata": {},
   "outputs": [
    {
     "data": {
      "text/plain": [
       "(99999, 6)"
      ]
     },
     "execution_count": 18,
     "metadata": {},
     "output_type": "execute_result"
    }
   ],
   "source": [
    "dropoffdf.shape"
   ]
  },
  {
   "cell_type": "code",
   "execution_count": 19,
   "id": "green-courage",
   "metadata": {},
   "outputs": [],
   "source": [
    "lats = dropoffdf['dropoff_latitude'].tolist()\n",
    "longs = dropoffdf['dropoff_longitude'].tolist()"
   ]
  },
  {
   "cell_type": "code",
   "execution_count": 20,
   "id": "complex-copper",
   "metadata": {},
   "outputs": [],
   "source": [
    "def latlongtonode(latitude, longitude):\n",
    "    return ox.distance.nearest_nodes(G, latitude, longitude, return_dist=False)"
   ]
  },
  {
   "cell_type": "code",
   "execution_count": 21,
   "id": "collect-tampa",
   "metadata": {},
   "outputs": [],
   "source": [
    "nodeids = latlongtonode(lats, longs)"
   ]
  },
  {
   "cell_type": "code",
   "execution_count": 22,
   "id": "speaking-tuner",
   "metadata": {},
   "outputs": [
    {
     "name": "stdout",
     "output_type": "stream",
     "text": [
      "{261367744, 42850178, 42956520, 42850190, 42750232, 43018687}\n"
     ]
    }
   ],
   "source": [
    "nodeset = set(nodeids)\n",
    "print(nodeset)"
   ]
  }
 ],
 "metadata": {
  "kernelspec": {
   "display_name": "Python 3",
   "language": "python",
   "name": "python3"
  },
  "language_info": {
   "codemirror_mode": {
    "name": "ipython",
    "version": 3
   },
   "file_extension": ".py",
   "mimetype": "text/x-python",
   "name": "python",
   "nbconvert_exporter": "python",
   "pygments_lexer": "ipython3",
   "version": "3.8.1"
  }
 },
 "nbformat": 4,
 "nbformat_minor": 5
}
