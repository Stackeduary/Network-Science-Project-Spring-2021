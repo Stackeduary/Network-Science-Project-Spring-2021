{
 "cells": [
  {
   "cell_type": "code",
   "execution_count": 1,
   "id": "ongoing-latter",
   "metadata": {},
   "outputs": [],
   "source": [
    "import numpy as np\n",
    "import pandas as pd\n",
    "import networkx as nx\n",
    "from sklearn.model_selection import train_test_split\n",
    "from sklearn.ensemble import RandomForestRegressor\n",
    "import xgboost as xgb\n",
    "import sklearn\n",
    "from sklearn import linear_model\n",
    "from sklearn.metrics import mean_squared_error\n",
    "import matplotlib.pyplot as plt"
   ]
  },
  {
   "cell_type": "code",
   "execution_count": 2,
   "id": "north-beginning",
   "metadata": {},
   "outputs": [],
   "source": [
    "edges = pd.read_csv(\"berlin_digraph_edges.csv\")\n",
    "nodes = pd.read_csv(\"berlin_digraph_nodes.csv\")"
   ]
  },
  {
   "cell_type": "markdown",
   "id": "educated-signal",
   "metadata": {},
   "source": [
    "#### Rename the source and target columns to 'source' and 'target', respectively"
   ]
  },
  {
   "cell_type": "code",
   "execution_count": 3,
   "id": "earlier-conversion",
   "metadata": {},
   "outputs": [],
   "source": [
    "edges = edges.rename(columns = {'Unnamed: 0':'source', 'Unnamed: 1':'target'})"
   ]
  },
  {
   "cell_type": "code",
   "execution_count": 4,
   "id": "running-environment",
   "metadata": {},
   "outputs": [
    {
     "data": {
      "text/plain": [
       "Index(['source', 'target', 'osmid', 'name', 'highway', 'maxspeed', 'oneway',\n",
       "       'length', 'geometry', 'hour_of_day', 'speed_kph_mean',\n",
       "       'speed_kph_stddev', 'est_width'],\n",
       "      dtype='object')"
      ]
     },
     "execution_count": 4,
     "metadata": {},
     "output_type": "execute_result"
    }
   ],
   "source": [
    "edges.columns"
   ]
  },
  {
   "cell_type": "code",
   "execution_count": 5,
   "id": "basic-paradise",
   "metadata": {},
   "outputs": [
    {
     "data": {
      "text/plain": [
       "(9012, 13)"
      ]
     },
     "execution_count": 5,
     "metadata": {},
     "output_type": "execute_result"
    }
   ],
   "source": [
    "edges.shape"
   ]
  },
  {
   "cell_type": "code",
   "execution_count": 6,
   "id": "amateur-fiber",
   "metadata": {},
   "outputs": [
    {
     "data": {
      "text/html": [
       "<div>\n",
       "<style scoped>\n",
       "    .dataframe tbody tr th:only-of-type {\n",
       "        vertical-align: middle;\n",
       "    }\n",
       "\n",
       "    .dataframe tbody tr th {\n",
       "        vertical-align: top;\n",
       "    }\n",
       "\n",
       "    .dataframe thead th {\n",
       "        text-align: right;\n",
       "    }\n",
       "</style>\n",
       "<table border=\"1\" class=\"dataframe\">\n",
       "  <thead>\n",
       "    <tr style=\"text-align: right;\">\n",
       "      <th></th>\n",
       "      <th>source</th>\n",
       "      <th>target</th>\n",
       "      <th>osmid</th>\n",
       "      <th>name</th>\n",
       "      <th>highway</th>\n",
       "      <th>maxspeed</th>\n",
       "      <th>oneway</th>\n",
       "      <th>length</th>\n",
       "      <th>geometry</th>\n",
       "      <th>hour_of_day</th>\n",
       "      <th>speed_kph_mean</th>\n",
       "      <th>speed_kph_stddev</th>\n",
       "      <th>est_width</th>\n",
       "    </tr>\n",
       "  </thead>\n",
       "  <tbody>\n",
       "    <tr>\n",
       "      <th>0</th>\n",
       "      <td>172546</td>\n",
       "      <td>530313</td>\n",
       "      <td>24295532</td>\n",
       "      <td>Emmentaler Straße</td>\n",
       "      <td>secondary</td>\n",
       "      <td>50</td>\n",
       "      <td>False</td>\n",
       "      <td>29.733</td>\n",
       "      <td>LINESTRING (13.3522545 52.567738, 13.3526642 5...</td>\n",
       "      <td>9</td>\n",
       "      <td>45.276</td>\n",
       "      <td>6.04</td>\n",
       "      <td>NaN</td>\n",
       "    </tr>\n",
       "  </tbody>\n",
       "</table>\n",
       "</div>"
      ],
      "text/plain": [
       "   source  target     osmid               name    highway maxspeed  oneway  \\\n",
       "0  172546  530313  24295532  Emmentaler Straße  secondary       50   False   \n",
       "\n",
       "   length                                           geometry  hour_of_day  \\\n",
       "0  29.733  LINESTRING (13.3522545 52.567738, 13.3526642 5...            9   \n",
       "\n",
       "   speed_kph_mean  speed_kph_stddev  est_width  \n",
       "0          45.276              6.04        NaN  "
      ]
     },
     "execution_count": 6,
     "metadata": {},
     "output_type": "execute_result"
    }
   ],
   "source": [
    "edges.head(1)"
   ]
  },
  {
   "cell_type": "markdown",
   "id": "equipped-peeing",
   "metadata": {},
   "source": [
    "#### Drop 'osmid', 'name', 'geometry' columns\n",
    "\n",
    "These columns are not predictive of mean speed"
   ]
  },
  {
   "cell_type": "code",
   "execution_count": 7,
   "id": "distinct-fifty",
   "metadata": {},
   "outputs": [
    {
     "data": {
      "text/html": [
       "<div>\n",
       "<style scoped>\n",
       "    .dataframe tbody tr th:only-of-type {\n",
       "        vertical-align: middle;\n",
       "    }\n",
       "\n",
       "    .dataframe tbody tr th {\n",
       "        vertical-align: top;\n",
       "    }\n",
       "\n",
       "    .dataframe thead th {\n",
       "        text-align: right;\n",
       "    }\n",
       "</style>\n",
       "<table border=\"1\" class=\"dataframe\">\n",
       "  <thead>\n",
       "    <tr style=\"text-align: right;\">\n",
       "      <th></th>\n",
       "      <th>source</th>\n",
       "      <th>target</th>\n",
       "      <th>highway</th>\n",
       "      <th>maxspeed</th>\n",
       "      <th>oneway</th>\n",
       "      <th>length</th>\n",
       "      <th>hour_of_day</th>\n",
       "      <th>speed_kph_mean</th>\n",
       "      <th>speed_kph_stddev</th>\n",
       "      <th>est_width</th>\n",
       "    </tr>\n",
       "  </thead>\n",
       "  <tbody>\n",
       "    <tr>\n",
       "      <th>0</th>\n",
       "      <td>172546</td>\n",
       "      <td>530313</td>\n",
       "      <td>secondary</td>\n",
       "      <td>50</td>\n",
       "      <td>False</td>\n",
       "      <td>29.733</td>\n",
       "      <td>9</td>\n",
       "      <td>45.276</td>\n",
       "      <td>6.040</td>\n",
       "      <td>NaN</td>\n",
       "    </tr>\n",
       "    <tr>\n",
       "      <th>1</th>\n",
       "      <td>172546</td>\n",
       "      <td>28345850</td>\n",
       "      <td>secondary</td>\n",
       "      <td>50</td>\n",
       "      <td>True</td>\n",
       "      <td>64.155</td>\n",
       "      <td>9</td>\n",
       "      <td>14.532</td>\n",
       "      <td>14.245</td>\n",
       "      <td>NaN</td>\n",
       "    </tr>\n",
       "    <tr>\n",
       "      <th>2</th>\n",
       "      <td>530313</td>\n",
       "      <td>172546</td>\n",
       "      <td>secondary</td>\n",
       "      <td>50</td>\n",
       "      <td>False</td>\n",
       "      <td>29.733</td>\n",
       "      <td>7</td>\n",
       "      <td>35.007</td>\n",
       "      <td>11.342</td>\n",
       "      <td>NaN</td>\n",
       "    </tr>\n",
       "    <tr>\n",
       "      <th>3</th>\n",
       "      <td>28345850</td>\n",
       "      <td>35244866</td>\n",
       "      <td>secondary</td>\n",
       "      <td>50</td>\n",
       "      <td>True</td>\n",
       "      <td>19.106</td>\n",
       "      <td>8</td>\n",
       "      <td>35.756</td>\n",
       "      <td>11.516</td>\n",
       "      <td>NaN</td>\n",
       "    </tr>\n",
       "    <tr>\n",
       "      <th>4</th>\n",
       "      <td>28345850</td>\n",
       "      <td>29492967</td>\n",
       "      <td>secondary</td>\n",
       "      <td>50</td>\n",
       "      <td>True</td>\n",
       "      <td>197.683</td>\n",
       "      <td>8</td>\n",
       "      <td>46.770</td>\n",
       "      <td>5.457</td>\n",
       "      <td>NaN</td>\n",
       "    </tr>\n",
       "  </tbody>\n",
       "</table>\n",
       "</div>"
      ],
      "text/plain": [
       "     source    target    highway maxspeed  oneway   length  hour_of_day  \\\n",
       "0    172546    530313  secondary       50   False   29.733            9   \n",
       "1    172546  28345850  secondary       50    True   64.155            9   \n",
       "2    530313    172546  secondary       50   False   29.733            7   \n",
       "3  28345850  35244866  secondary       50    True   19.106            8   \n",
       "4  28345850  29492967  secondary       50    True  197.683            8   \n",
       "\n",
       "   speed_kph_mean  speed_kph_stddev  est_width  \n",
       "0          45.276             6.040        NaN  \n",
       "1          14.532            14.245        NaN  \n",
       "2          35.007            11.342        NaN  \n",
       "3          35.756            11.516        NaN  \n",
       "4          46.770             5.457        NaN  "
      ]
     },
     "execution_count": 7,
     "metadata": {},
     "output_type": "execute_result"
    }
   ],
   "source": [
    "edges = edges[['source', 'target', 'highway', 'maxspeed', 'oneway', 'length', 'hour_of_day', 'speed_kph_mean', 'speed_kph_stddev', 'est_width']]\n",
    "edges.head()"
   ]
  },
  {
   "cell_type": "markdown",
   "id": "stylish-miniature",
   "metadata": {},
   "source": [
    "#### All but two values in the 'est_width' column are null, so drop that column too"
   ]
  },
  {
   "cell_type": "code",
   "execution_count": 8,
   "id": "chicken-command",
   "metadata": {},
   "outputs": [
    {
     "data": {
      "text/plain": [
       "9010"
      ]
     },
     "execution_count": 8,
     "metadata": {},
     "output_type": "execute_result"
    }
   ],
   "source": [
    "edges['est_width'].isnull().sum()"
   ]
  },
  {
   "cell_type": "code",
   "execution_count": 9,
   "id": "psychological-matter",
   "metadata": {},
   "outputs": [
    {
     "data": {
      "text/html": [
       "<div>\n",
       "<style scoped>\n",
       "    .dataframe tbody tr th:only-of-type {\n",
       "        vertical-align: middle;\n",
       "    }\n",
       "\n",
       "    .dataframe tbody tr th {\n",
       "        vertical-align: top;\n",
       "    }\n",
       "\n",
       "    .dataframe thead th {\n",
       "        text-align: right;\n",
       "    }\n",
       "</style>\n",
       "<table border=\"1\" class=\"dataframe\">\n",
       "  <thead>\n",
       "    <tr style=\"text-align: right;\">\n",
       "      <th></th>\n",
       "      <th>source</th>\n",
       "      <th>target</th>\n",
       "      <th>highway</th>\n",
       "      <th>maxspeed</th>\n",
       "      <th>oneway</th>\n",
       "      <th>length</th>\n",
       "      <th>hour_of_day</th>\n",
       "      <th>speed_kph_mean</th>\n",
       "      <th>speed_kph_stddev</th>\n",
       "    </tr>\n",
       "  </thead>\n",
       "  <tbody>\n",
       "    <tr>\n",
       "      <th>0</th>\n",
       "      <td>172546</td>\n",
       "      <td>530313</td>\n",
       "      <td>secondary</td>\n",
       "      <td>50</td>\n",
       "      <td>False</td>\n",
       "      <td>29.733</td>\n",
       "      <td>9</td>\n",
       "      <td>45.276</td>\n",
       "      <td>6.040</td>\n",
       "    </tr>\n",
       "    <tr>\n",
       "      <th>1</th>\n",
       "      <td>172546</td>\n",
       "      <td>28345850</td>\n",
       "      <td>secondary</td>\n",
       "      <td>50</td>\n",
       "      <td>True</td>\n",
       "      <td>64.155</td>\n",
       "      <td>9</td>\n",
       "      <td>14.532</td>\n",
       "      <td>14.245</td>\n",
       "    </tr>\n",
       "    <tr>\n",
       "      <th>2</th>\n",
       "      <td>530313</td>\n",
       "      <td>172546</td>\n",
       "      <td>secondary</td>\n",
       "      <td>50</td>\n",
       "      <td>False</td>\n",
       "      <td>29.733</td>\n",
       "      <td>7</td>\n",
       "      <td>35.007</td>\n",
       "      <td>11.342</td>\n",
       "    </tr>\n",
       "    <tr>\n",
       "      <th>3</th>\n",
       "      <td>28345850</td>\n",
       "      <td>35244866</td>\n",
       "      <td>secondary</td>\n",
       "      <td>50</td>\n",
       "      <td>True</td>\n",
       "      <td>19.106</td>\n",
       "      <td>8</td>\n",
       "      <td>35.756</td>\n",
       "      <td>11.516</td>\n",
       "    </tr>\n",
       "    <tr>\n",
       "      <th>4</th>\n",
       "      <td>28345850</td>\n",
       "      <td>29492967</td>\n",
       "      <td>secondary</td>\n",
       "      <td>50</td>\n",
       "      <td>True</td>\n",
       "      <td>197.683</td>\n",
       "      <td>8</td>\n",
       "      <td>46.770</td>\n",
       "      <td>5.457</td>\n",
       "    </tr>\n",
       "  </tbody>\n",
       "</table>\n",
       "</div>"
      ],
      "text/plain": [
       "     source    target    highway maxspeed  oneway   length  hour_of_day  \\\n",
       "0    172546    530313  secondary       50   False   29.733            9   \n",
       "1    172546  28345850  secondary       50    True   64.155            9   \n",
       "2    530313    172546  secondary       50   False   29.733            7   \n",
       "3  28345850  35244866  secondary       50    True   19.106            8   \n",
       "4  28345850  29492967  secondary       50    True  197.683            8   \n",
       "\n",
       "   speed_kph_mean  speed_kph_stddev  \n",
       "0          45.276             6.040  \n",
       "1          14.532            14.245  \n",
       "2          35.007            11.342  \n",
       "3          35.756            11.516  \n",
       "4          46.770             5.457  "
      ]
     },
     "execution_count": 9,
     "metadata": {},
     "output_type": "execute_result"
    }
   ],
   "source": [
    "edges = edges[['source', 'target', 'highway', 'maxspeed', 'oneway', 'length', 'hour_of_day', 'speed_kph_mean', 'speed_kph_stddev']]\n",
    "edges.head()"
   ]
  },
  {
   "cell_type": "code",
   "execution_count": 10,
   "id": "motivated-rings",
   "metadata": {},
   "outputs": [
    {
     "data": {
      "text/plain": [
       "source                int64\n",
       "target                int64\n",
       "highway              object\n",
       "maxspeed             object\n",
       "oneway                 bool\n",
       "length              float64\n",
       "hour_of_day           int64\n",
       "speed_kph_mean      float64\n",
       "speed_kph_stddev    float64\n",
       "dtype: object"
      ]
     },
     "execution_count": 10,
     "metadata": {},
     "output_type": "execute_result"
    }
   ],
   "source": [
    "edges.dtypes"
   ]
  },
  {
   "cell_type": "markdown",
   "id": "suited-august",
   "metadata": {},
   "source": [
    "#### 250 rows have a null 'maxspeed' value"
   ]
  },
  {
   "cell_type": "code",
   "execution_count": 11,
   "id": "located-jackson",
   "metadata": {},
   "outputs": [
    {
     "data": {
      "text/plain": [
       "250"
      ]
     },
     "execution_count": 11,
     "metadata": {},
     "output_type": "execute_result"
    }
   ],
   "source": [
    "edges['maxspeed'].isnull().sum()"
   ]
  },
  {
   "cell_type": "code",
   "execution_count": 12,
   "id": "handled-partner",
   "metadata": {},
   "outputs": [
    {
     "data": {
      "text/plain": [
       "50              6120\n",
       "30              2444\n",
       "60               101\n",
       "10                43\n",
       "80                32\n",
       "20                18\n",
       "['50', '30']       2\n",
       "40                 1\n",
       "70                 1\n",
       "Name: maxspeed, dtype: int64"
      ]
     },
     "execution_count": 12,
     "metadata": {},
     "output_type": "execute_result"
    }
   ],
   "source": [
    "edges['maxspeed'].value_counts()"
   ]
  },
  {
   "cell_type": "markdown",
   "id": "daily-granny",
   "metadata": {},
   "source": [
    "#### Replace nulls with the mode 'maxspeed' value"
   ]
  },
  {
   "cell_type": "code",
   "execution_count": 13,
   "id": "french-monkey",
   "metadata": {},
   "outputs": [],
   "source": [
    "edges['maxspeed'].fillna(edges['maxspeed'].mode()[0], inplace=True)"
   ]
  },
  {
   "cell_type": "code",
   "execution_count": 14,
   "id": "adapted-display",
   "metadata": {},
   "outputs": [
    {
     "data": {
      "text/plain": [
       "0"
      ]
     },
     "execution_count": 14,
     "metadata": {},
     "output_type": "execute_result"
    }
   ],
   "source": [
    "edges['maxspeed'].isnull().sum()"
   ]
  },
  {
   "cell_type": "code",
   "execution_count": 15,
   "id": "foster-controversy",
   "metadata": {},
   "outputs": [
    {
     "data": {
      "text/plain": [
       "source                int64\n",
       "target                int64\n",
       "highway              object\n",
       "maxspeed             object\n",
       "oneway                 bool\n",
       "length              float64\n",
       "hour_of_day           int64\n",
       "speed_kph_mean      float64\n",
       "speed_kph_stddev    float64\n",
       "dtype: object"
      ]
     },
     "execution_count": 15,
     "metadata": {},
     "output_type": "execute_result"
    }
   ],
   "source": [
    "edges.dtypes"
   ]
  },
  {
   "cell_type": "code",
   "execution_count": 16,
   "id": "generous-bolivia",
   "metadata": {},
   "outputs": [
    {
     "data": {
      "text/plain": [
       "50              6370\n",
       "30              2444\n",
       "60               101\n",
       "10                43\n",
       "80                32\n",
       "20                18\n",
       "['50', '30']       2\n",
       "40                 1\n",
       "70                 1\n",
       "Name: maxspeed, dtype: int64"
      ]
     },
     "execution_count": 16,
     "metadata": {},
     "output_type": "execute_result"
    }
   ],
   "source": [
    "edges['maxspeed'].value_counts()"
   ]
  },
  {
   "cell_type": "markdown",
   "id": "likely-purpose",
   "metadata": {},
   "source": [
    "#### Get rid of the two annoying '['50', '30']' values and replace them with '50'"
   ]
  },
  {
   "cell_type": "code",
   "execution_count": 17,
   "id": "careful-ukraine",
   "metadata": {},
   "outputs": [],
   "source": [
    "edges['maxspeed'] = edges['maxspeed'].replace(\"['50', '30']\", '50')"
   ]
  },
  {
   "cell_type": "code",
   "execution_count": 18,
   "id": "sixth-aruba",
   "metadata": {},
   "outputs": [
    {
     "data": {
      "text/plain": [
       "50    6372\n",
       "30    2444\n",
       "60     101\n",
       "10      43\n",
       "80      32\n",
       "20      18\n",
       "40       1\n",
       "70       1\n",
       "Name: maxspeed, dtype: int64"
      ]
     },
     "execution_count": 18,
     "metadata": {},
     "output_type": "execute_result"
    }
   ],
   "source": [
    "edges['maxspeed'].value_counts()"
   ]
  },
  {
   "cell_type": "markdown",
   "id": "alike-machinery",
   "metadata": {},
   "source": [
    "#### Convert the 'maxspeed' column from categorical to integer"
   ]
  },
  {
   "cell_type": "code",
   "execution_count": 19,
   "id": "powered-yemen",
   "metadata": {},
   "outputs": [],
   "source": [
    "edges['maxspeed'] = edges['maxspeed'].astype(str).astype(int)"
   ]
  },
  {
   "cell_type": "code",
   "execution_count": 20,
   "id": "printable-dinner",
   "metadata": {},
   "outputs": [
    {
     "data": {
      "text/plain": [
       "source                int64\n",
       "target                int64\n",
       "highway              object\n",
       "maxspeed              int32\n",
       "oneway                 bool\n",
       "length              float64\n",
       "hour_of_day           int64\n",
       "speed_kph_mean      float64\n",
       "speed_kph_stddev    float64\n",
       "dtype: object"
      ]
     },
     "execution_count": 20,
     "metadata": {},
     "output_type": "execute_result"
    }
   ],
   "source": [
    "edges.dtypes"
   ]
  },
  {
   "cell_type": "markdown",
   "id": "right-relation",
   "metadata": {},
   "source": [
    "#### One-hot encode the 'highway' categorical column"
   ]
  },
  {
   "cell_type": "code",
   "execution_count": 21,
   "id": "latest-supervisor",
   "metadata": {},
   "outputs": [
    {
     "data": {
      "text/html": [
       "<div>\n",
       "<style scoped>\n",
       "    .dataframe tbody tr th:only-of-type {\n",
       "        vertical-align: middle;\n",
       "    }\n",
       "\n",
       "    .dataframe tbody tr th {\n",
       "        vertical-align: top;\n",
       "    }\n",
       "\n",
       "    .dataframe thead th {\n",
       "        text-align: right;\n",
       "    }\n",
       "</style>\n",
       "<table border=\"1\" class=\"dataframe\">\n",
       "  <thead>\n",
       "    <tr style=\"text-align: right;\">\n",
       "      <th></th>\n",
       "      <th>source</th>\n",
       "      <th>target</th>\n",
       "      <th>maxspeed</th>\n",
       "      <th>oneway</th>\n",
       "      <th>length</th>\n",
       "      <th>hour_of_day</th>\n",
       "      <th>speed_kph_mean</th>\n",
       "      <th>speed_kph_stddev</th>\n",
       "      <th>highway_['residential', 'living_street']</th>\n",
       "      <th>highway_living_street</th>\n",
       "      <th>...</th>\n",
       "      <th>highway_motorway_link</th>\n",
       "      <th>highway_primary</th>\n",
       "      <th>highway_primary_link</th>\n",
       "      <th>highway_residential</th>\n",
       "      <th>highway_secondary</th>\n",
       "      <th>highway_secondary_link</th>\n",
       "      <th>highway_tertiary</th>\n",
       "      <th>highway_tertiary_link</th>\n",
       "      <th>highway_trunk_link</th>\n",
       "      <th>highway_unclassified</th>\n",
       "    </tr>\n",
       "  </thead>\n",
       "  <tbody>\n",
       "    <tr>\n",
       "      <th>0</th>\n",
       "      <td>172546</td>\n",
       "      <td>530313</td>\n",
       "      <td>50</td>\n",
       "      <td>False</td>\n",
       "      <td>29.733</td>\n",
       "      <td>9</td>\n",
       "      <td>45.276</td>\n",
       "      <td>6.040</td>\n",
       "      <td>0</td>\n",
       "      <td>0</td>\n",
       "      <td>...</td>\n",
       "      <td>0</td>\n",
       "      <td>0</td>\n",
       "      <td>0</td>\n",
       "      <td>0</td>\n",
       "      <td>1</td>\n",
       "      <td>0</td>\n",
       "      <td>0</td>\n",
       "      <td>0</td>\n",
       "      <td>0</td>\n",
       "      <td>0</td>\n",
       "    </tr>\n",
       "    <tr>\n",
       "      <th>1</th>\n",
       "      <td>172546</td>\n",
       "      <td>28345850</td>\n",
       "      <td>50</td>\n",
       "      <td>True</td>\n",
       "      <td>64.155</td>\n",
       "      <td>9</td>\n",
       "      <td>14.532</td>\n",
       "      <td>14.245</td>\n",
       "      <td>0</td>\n",
       "      <td>0</td>\n",
       "      <td>...</td>\n",
       "      <td>0</td>\n",
       "      <td>0</td>\n",
       "      <td>0</td>\n",
       "      <td>0</td>\n",
       "      <td>1</td>\n",
       "      <td>0</td>\n",
       "      <td>0</td>\n",
       "      <td>0</td>\n",
       "      <td>0</td>\n",
       "      <td>0</td>\n",
       "    </tr>\n",
       "    <tr>\n",
       "      <th>2</th>\n",
       "      <td>530313</td>\n",
       "      <td>172546</td>\n",
       "      <td>50</td>\n",
       "      <td>False</td>\n",
       "      <td>29.733</td>\n",
       "      <td>7</td>\n",
       "      <td>35.007</td>\n",
       "      <td>11.342</td>\n",
       "      <td>0</td>\n",
       "      <td>0</td>\n",
       "      <td>...</td>\n",
       "      <td>0</td>\n",
       "      <td>0</td>\n",
       "      <td>0</td>\n",
       "      <td>0</td>\n",
       "      <td>1</td>\n",
       "      <td>0</td>\n",
       "      <td>0</td>\n",
       "      <td>0</td>\n",
       "      <td>0</td>\n",
       "      <td>0</td>\n",
       "    </tr>\n",
       "    <tr>\n",
       "      <th>3</th>\n",
       "      <td>28345850</td>\n",
       "      <td>35244866</td>\n",
       "      <td>50</td>\n",
       "      <td>True</td>\n",
       "      <td>19.106</td>\n",
       "      <td>8</td>\n",
       "      <td>35.756</td>\n",
       "      <td>11.516</td>\n",
       "      <td>0</td>\n",
       "      <td>0</td>\n",
       "      <td>...</td>\n",
       "      <td>0</td>\n",
       "      <td>0</td>\n",
       "      <td>0</td>\n",
       "      <td>0</td>\n",
       "      <td>1</td>\n",
       "      <td>0</td>\n",
       "      <td>0</td>\n",
       "      <td>0</td>\n",
       "      <td>0</td>\n",
       "      <td>0</td>\n",
       "    </tr>\n",
       "    <tr>\n",
       "      <th>4</th>\n",
       "      <td>28345850</td>\n",
       "      <td>29492967</td>\n",
       "      <td>50</td>\n",
       "      <td>True</td>\n",
       "      <td>197.683</td>\n",
       "      <td>8</td>\n",
       "      <td>46.770</td>\n",
       "      <td>5.457</td>\n",
       "      <td>0</td>\n",
       "      <td>0</td>\n",
       "      <td>...</td>\n",
       "      <td>0</td>\n",
       "      <td>0</td>\n",
       "      <td>0</td>\n",
       "      <td>0</td>\n",
       "      <td>1</td>\n",
       "      <td>0</td>\n",
       "      <td>0</td>\n",
       "      <td>0</td>\n",
       "      <td>0</td>\n",
       "      <td>0</td>\n",
       "    </tr>\n",
       "  </tbody>\n",
       "</table>\n",
       "<p>5 rows × 21 columns</p>\n",
       "</div>"
      ],
      "text/plain": [
       "     source    target  maxspeed  oneway   length  hour_of_day  speed_kph_mean  \\\n",
       "0    172546    530313        50   False   29.733            9          45.276   \n",
       "1    172546  28345850        50    True   64.155            9          14.532   \n",
       "2    530313    172546        50   False   29.733            7          35.007   \n",
       "3  28345850  35244866        50    True   19.106            8          35.756   \n",
       "4  28345850  29492967        50    True  197.683            8          46.770   \n",
       "\n",
       "   speed_kph_stddev  highway_['residential', 'living_street']  \\\n",
       "0             6.040                                         0   \n",
       "1            14.245                                         0   \n",
       "2            11.342                                         0   \n",
       "3            11.516                                         0   \n",
       "4             5.457                                         0   \n",
       "\n",
       "   highway_living_street  ...  highway_motorway_link  highway_primary  \\\n",
       "0                      0  ...                      0                0   \n",
       "1                      0  ...                      0                0   \n",
       "2                      0  ...                      0                0   \n",
       "3                      0  ...                      0                0   \n",
       "4                      0  ...                      0                0   \n",
       "\n",
       "   highway_primary_link  highway_residential  highway_secondary  \\\n",
       "0                     0                    0                  1   \n",
       "1                     0                    0                  1   \n",
       "2                     0                    0                  1   \n",
       "3                     0                    0                  1   \n",
       "4                     0                    0                  1   \n",
       "\n",
       "   highway_secondary_link  highway_tertiary  highway_tertiary_link  \\\n",
       "0                       0                 0                      0   \n",
       "1                       0                 0                      0   \n",
       "2                       0                 0                      0   \n",
       "3                       0                 0                      0   \n",
       "4                       0                 0                      0   \n",
       "\n",
       "   highway_trunk_link  highway_unclassified  \n",
       "0                   0                     0  \n",
       "1                   0                     0  \n",
       "2                   0                     0  \n",
       "3                   0                     0  \n",
       "4                   0                     0  \n",
       "\n",
       "[5 rows x 21 columns]"
      ]
     },
     "execution_count": 21,
     "metadata": {},
     "output_type": "execute_result"
    }
   ],
   "source": [
    "modeldf = pd.get_dummies(edges)\n",
    "modeldf.head()"
   ]
  },
  {
   "cell_type": "code",
   "execution_count": 22,
   "id": "coordinate-russia",
   "metadata": {},
   "outputs": [
    {
     "data": {
      "text/plain": [
       "source                                        int64\n",
       "target                                        int64\n",
       "maxspeed                                      int32\n",
       "oneway                                         bool\n",
       "length                                      float64\n",
       "hour_of_day                                   int64\n",
       "speed_kph_mean                              float64\n",
       "speed_kph_stddev                            float64\n",
       "highway_['residential', 'living_street']      uint8\n",
       "highway_living_street                         uint8\n",
       "highway_motorway                              uint8\n",
       "highway_motorway_link                         uint8\n",
       "highway_primary                               uint8\n",
       "highway_primary_link                          uint8\n",
       "highway_residential                           uint8\n",
       "highway_secondary                             uint8\n",
       "highway_secondary_link                        uint8\n",
       "highway_tertiary                              uint8\n",
       "highway_tertiary_link                         uint8\n",
       "highway_trunk_link                            uint8\n",
       "highway_unclassified                          uint8\n",
       "dtype: object"
      ]
     },
     "execution_count": 22,
     "metadata": {},
     "output_type": "execute_result"
    }
   ],
   "source": [
    "modeldf.dtypes"
   ]
  },
  {
   "cell_type": "markdown",
   "id": "weighted-india",
   "metadata": {},
   "source": [
    "#### Drop the 'speed_kph_stddev' column because it's a function of 'speed_kph_mean'"
   ]
  },
  {
   "cell_type": "code",
   "execution_count": 23,
   "id": "fitted-threshold",
   "metadata": {},
   "outputs": [],
   "source": [
    "modeldf = modeldf.drop(['speed_kph_stddev'], axis=1)"
   ]
  },
  {
   "cell_type": "code",
   "execution_count": 24,
   "id": "heard-camcorder",
   "metadata": {},
   "outputs": [
    {
     "data": {
      "text/plain": [
       "source                                        int64\n",
       "target                                        int64\n",
       "maxspeed                                      int32\n",
       "oneway                                         bool\n",
       "length                                      float64\n",
       "hour_of_day                                   int64\n",
       "speed_kph_mean                              float64\n",
       "highway_['residential', 'living_street']      uint8\n",
       "highway_living_street                         uint8\n",
       "highway_motorway                              uint8\n",
       "highway_motorway_link                         uint8\n",
       "highway_primary                               uint8\n",
       "highway_primary_link                          uint8\n",
       "highway_residential                           uint8\n",
       "highway_secondary                             uint8\n",
       "highway_secondary_link                        uint8\n",
       "highway_tertiary                              uint8\n",
       "highway_tertiary_link                         uint8\n",
       "highway_trunk_link                            uint8\n",
       "highway_unclassified                          uint8\n",
       "dtype: object"
      ]
     },
     "execution_count": 24,
     "metadata": {},
     "output_type": "execute_result"
    }
   ],
   "source": [
    "modeldf.dtypes"
   ]
  },
  {
   "cell_type": "code",
   "execution_count": 25,
   "id": "egyptian-shock",
   "metadata": {},
   "outputs": [],
   "source": [
    "y = modeldf['speed_kph_mean']"
   ]
  },
  {
   "cell_type": "code",
   "execution_count": 26,
   "id": "round-junction",
   "metadata": {},
   "outputs": [],
   "source": [
    "X = modeldf.drop(['speed_kph_mean'], axis=1)"
   ]
  },
  {
   "cell_type": "code",
   "execution_count": 27,
   "id": "decent-finder",
   "metadata": {},
   "outputs": [
    {
     "data": {
      "text/html": [
       "<div>\n",
       "<style scoped>\n",
       "    .dataframe tbody tr th:only-of-type {\n",
       "        vertical-align: middle;\n",
       "    }\n",
       "\n",
       "    .dataframe tbody tr th {\n",
       "        vertical-align: top;\n",
       "    }\n",
       "\n",
       "    .dataframe thead th {\n",
       "        text-align: right;\n",
       "    }\n",
       "</style>\n",
       "<table border=\"1\" class=\"dataframe\">\n",
       "  <thead>\n",
       "    <tr style=\"text-align: right;\">\n",
       "      <th></th>\n",
       "      <th>source</th>\n",
       "      <th>target</th>\n",
       "      <th>maxspeed</th>\n",
       "      <th>oneway</th>\n",
       "      <th>length</th>\n",
       "      <th>hour_of_day</th>\n",
       "      <th>highway_['residential', 'living_street']</th>\n",
       "      <th>highway_living_street</th>\n",
       "      <th>highway_motorway</th>\n",
       "      <th>highway_motorway_link</th>\n",
       "      <th>highway_primary</th>\n",
       "      <th>highway_primary_link</th>\n",
       "      <th>highway_residential</th>\n",
       "      <th>highway_secondary</th>\n",
       "      <th>highway_secondary_link</th>\n",
       "      <th>highway_tertiary</th>\n",
       "      <th>highway_tertiary_link</th>\n",
       "      <th>highway_trunk_link</th>\n",
       "      <th>highway_unclassified</th>\n",
       "    </tr>\n",
       "  </thead>\n",
       "  <tbody>\n",
       "    <tr>\n",
       "      <th>0</th>\n",
       "      <td>172546</td>\n",
       "      <td>530313</td>\n",
       "      <td>50</td>\n",
       "      <td>False</td>\n",
       "      <td>29.733</td>\n",
       "      <td>9</td>\n",
       "      <td>0</td>\n",
       "      <td>0</td>\n",
       "      <td>0</td>\n",
       "      <td>0</td>\n",
       "      <td>0</td>\n",
       "      <td>0</td>\n",
       "      <td>0</td>\n",
       "      <td>1</td>\n",
       "      <td>0</td>\n",
       "      <td>0</td>\n",
       "      <td>0</td>\n",
       "      <td>0</td>\n",
       "      <td>0</td>\n",
       "    </tr>\n",
       "    <tr>\n",
       "      <th>1</th>\n",
       "      <td>172546</td>\n",
       "      <td>28345850</td>\n",
       "      <td>50</td>\n",
       "      <td>True</td>\n",
       "      <td>64.155</td>\n",
       "      <td>9</td>\n",
       "      <td>0</td>\n",
       "      <td>0</td>\n",
       "      <td>0</td>\n",
       "      <td>0</td>\n",
       "      <td>0</td>\n",
       "      <td>0</td>\n",
       "      <td>0</td>\n",
       "      <td>1</td>\n",
       "      <td>0</td>\n",
       "      <td>0</td>\n",
       "      <td>0</td>\n",
       "      <td>0</td>\n",
       "      <td>0</td>\n",
       "    </tr>\n",
       "    <tr>\n",
       "      <th>2</th>\n",
       "      <td>530313</td>\n",
       "      <td>172546</td>\n",
       "      <td>50</td>\n",
       "      <td>False</td>\n",
       "      <td>29.733</td>\n",
       "      <td>7</td>\n",
       "      <td>0</td>\n",
       "      <td>0</td>\n",
       "      <td>0</td>\n",
       "      <td>0</td>\n",
       "      <td>0</td>\n",
       "      <td>0</td>\n",
       "      <td>0</td>\n",
       "      <td>1</td>\n",
       "      <td>0</td>\n",
       "      <td>0</td>\n",
       "      <td>0</td>\n",
       "      <td>0</td>\n",
       "      <td>0</td>\n",
       "    </tr>\n",
       "    <tr>\n",
       "      <th>3</th>\n",
       "      <td>28345850</td>\n",
       "      <td>35244866</td>\n",
       "      <td>50</td>\n",
       "      <td>True</td>\n",
       "      <td>19.106</td>\n",
       "      <td>8</td>\n",
       "      <td>0</td>\n",
       "      <td>0</td>\n",
       "      <td>0</td>\n",
       "      <td>0</td>\n",
       "      <td>0</td>\n",
       "      <td>0</td>\n",
       "      <td>0</td>\n",
       "      <td>1</td>\n",
       "      <td>0</td>\n",
       "      <td>0</td>\n",
       "      <td>0</td>\n",
       "      <td>0</td>\n",
       "      <td>0</td>\n",
       "    </tr>\n",
       "    <tr>\n",
       "      <th>4</th>\n",
       "      <td>28345850</td>\n",
       "      <td>29492967</td>\n",
       "      <td>50</td>\n",
       "      <td>True</td>\n",
       "      <td>197.683</td>\n",
       "      <td>8</td>\n",
       "      <td>0</td>\n",
       "      <td>0</td>\n",
       "      <td>0</td>\n",
       "      <td>0</td>\n",
       "      <td>0</td>\n",
       "      <td>0</td>\n",
       "      <td>0</td>\n",
       "      <td>1</td>\n",
       "      <td>0</td>\n",
       "      <td>0</td>\n",
       "      <td>0</td>\n",
       "      <td>0</td>\n",
       "      <td>0</td>\n",
       "    </tr>\n",
       "  </tbody>\n",
       "</table>\n",
       "</div>"
      ],
      "text/plain": [
       "     source    target  maxspeed  oneway   length  hour_of_day  \\\n",
       "0    172546    530313        50   False   29.733            9   \n",
       "1    172546  28345850        50    True   64.155            9   \n",
       "2    530313    172546        50   False   29.733            7   \n",
       "3  28345850  35244866        50    True   19.106            8   \n",
       "4  28345850  29492967        50    True  197.683            8   \n",
       "\n",
       "   highway_['residential', 'living_street']  highway_living_street  \\\n",
       "0                                         0                      0   \n",
       "1                                         0                      0   \n",
       "2                                         0                      0   \n",
       "3                                         0                      0   \n",
       "4                                         0                      0   \n",
       "\n",
       "   highway_motorway  highway_motorway_link  highway_primary  \\\n",
       "0                 0                      0                0   \n",
       "1                 0                      0                0   \n",
       "2                 0                      0                0   \n",
       "3                 0                      0                0   \n",
       "4                 0                      0                0   \n",
       "\n",
       "   highway_primary_link  highway_residential  highway_secondary  \\\n",
       "0                     0                    0                  1   \n",
       "1                     0                    0                  1   \n",
       "2                     0                    0                  1   \n",
       "3                     0                    0                  1   \n",
       "4                     0                    0                  1   \n",
       "\n",
       "   highway_secondary_link  highway_tertiary  highway_tertiary_link  \\\n",
       "0                       0                 0                      0   \n",
       "1                       0                 0                      0   \n",
       "2                       0                 0                      0   \n",
       "3                       0                 0                      0   \n",
       "4                       0                 0                      0   \n",
       "\n",
       "   highway_trunk_link  highway_unclassified  \n",
       "0                   0                     0  \n",
       "1                   0                     0  \n",
       "2                   0                     0  \n",
       "3                   0                     0  \n",
       "4                   0                     0  "
      ]
     },
     "execution_count": 27,
     "metadata": {},
     "output_type": "execute_result"
    }
   ],
   "source": [
    "X.head()"
   ]
  },
  {
   "cell_type": "markdown",
   "id": "domestic-greeting",
   "metadata": {},
   "source": [
    "#### Split the dataframe into train, test and split"
   ]
  },
  {
   "cell_type": "code",
   "execution_count": 28,
   "id": "worst-compression",
   "metadata": {},
   "outputs": [],
   "source": [
    "X_train, X_test, y_train, y_test = train_test_split(X, y, test_size=0.25, random_state=13)"
   ]
  },
  {
   "cell_type": "markdown",
   "id": "destroyed-application",
   "metadata": {},
   "source": [
    "#### Fit a linear regression model"
   ]
  },
  {
   "cell_type": "code",
   "execution_count": 29,
   "id": "aboriginal-proxy",
   "metadata": {},
   "outputs": [],
   "source": [
    "regr = linear_model.LinearRegression().fit(X_train, y_train)\n",
    "y_pred = regr.predict(X_test)"
   ]
  },
  {
   "cell_type": "code",
   "execution_count": 30,
   "id": "patient-paragraph",
   "metadata": {},
   "outputs": [
    {
     "name": "stdout",
     "output_type": "stream",
     "text": [
      "Coefficients: \n",
      " [ 1.41098388e-11  5.87522070e-10  1.87031664e-01  5.45055685e-02\n",
      "  2.76504646e-02 -5.71075869e-01 -5.82693157e+00 -1.30350125e+01\n",
      "  2.56613358e+01  4.80637404e+00  5.47530823e+00 -3.51180273e+00\n",
      " -4.60293786e+00  3.29265596e+00 -5.32159858e+00  6.47695984e-01\n",
      " -6.72361728e+00  0.00000000e+00 -8.61469436e-01]\n"
     ]
    }
   ],
   "source": [
    "# The coefficients\n",
    "# carried over from a homework notebook; not super crucial\n",
    "print('Coefficients: \\n', regr.coef_)"
   ]
  },
  {
   "cell_type": "code",
   "execution_count": 31,
   "id": "small-warehouse",
   "metadata": {},
   "outputs": [
    {
     "name": "stdout",
     "output_type": "stream",
     "text": [
      "Mean squared error: 72.89\n"
     ]
    }
   ],
   "source": [
    "# Mean squared error\n",
    "print('Mean squared error: %.2f'\n",
    "      % mean_squared_error(y_test, y_pred))"
   ]
  },
  {
   "cell_type": "markdown",
   "id": "sophisticated-there",
   "metadata": {},
   "source": [
    "#### Can't get the plot to work, but not super important"
   ]
  },
  {
   "cell_type": "code",
   "execution_count": 32,
   "id": "overhead-orientation",
   "metadata": {},
   "outputs": [],
   "source": [
    "# # Plot outputs\n",
    "# plt.scatter(X_test, y_test, color='black')\n",
    "# plt.plot(X_test, y_pred, color='blue', linewidth=3)\n",
    "\n",
    "# plt.xticks(())\n",
    "# plt.yticks(())\n",
    "\n",
    "# plt.show()"
   ]
  },
  {
   "cell_type": "code",
   "execution_count": 33,
   "id": "vertical-bacon",
   "metadata": {},
   "outputs": [
    {
     "name": "stdout",
     "output_type": "stream",
     "text": [
      "(2253, 19) (2253,) (2253,)\n"
     ]
    }
   ],
   "source": [
    "print(X_test.shape, y_test.shape, y_pred.shape)"
   ]
  },
  {
   "cell_type": "markdown",
   "id": "precise-dance",
   "metadata": {},
   "source": [
    "#### Fit a random forest regression model"
   ]
  },
  {
   "cell_type": "code",
   "execution_count": 34,
   "id": "assisted-flashing",
   "metadata": {},
   "outputs": [],
   "source": [
    "RFregressor = RandomForestRegressor(n_estimators = 100, random_state = 0).fit(X_train, y_train)\n",
    "y_pred = RFregressor.predict(X_test)"
   ]
  },
  {
   "cell_type": "code",
   "execution_count": 35,
   "id": "dimensional-dryer",
   "metadata": {},
   "outputs": [
    {
     "name": "stdout",
     "output_type": "stream",
     "text": [
      "Mean squared error: 68.52\n"
     ]
    }
   ],
   "source": [
    "# Mean squared error\n",
    "print('Mean squared error: %.2f'\n",
    "      % mean_squared_error(y_test, y_pred))"
   ]
  },
  {
   "cell_type": "markdown",
   "id": "worse-church",
   "metadata": {},
   "source": [
    "## Now I'll try dropping the two node columns (source, target) to see if the MSE improves"
   ]
  },
  {
   "cell_type": "code",
   "execution_count": 36,
   "id": "equal-priest",
   "metadata": {},
   "outputs": [],
   "source": [
    "modeldf = pd.get_dummies(edges)\n",
    "modeldf.head()\n",
    "modeldf = modeldf.drop(['speed_kph_stddev', 'source', 'target'], axis=1)\n",
    "y = modeldf['speed_kph_mean']\n",
    "X = modeldf.drop(['speed_kph_mean'], axis=1)\n",
    "X_train, X_test, y_train, y_test = train_test_split(X, y, test_size=0.25, random_state=13)"
   ]
  },
  {
   "cell_type": "code",
   "execution_count": 37,
   "id": "collectible-synthesis",
   "metadata": {},
   "outputs": [
    {
     "data": {
      "text/html": [
       "<div>\n",
       "<style scoped>\n",
       "    .dataframe tbody tr th:only-of-type {\n",
       "        vertical-align: middle;\n",
       "    }\n",
       "\n",
       "    .dataframe tbody tr th {\n",
       "        vertical-align: top;\n",
       "    }\n",
       "\n",
       "    .dataframe thead th {\n",
       "        text-align: right;\n",
       "    }\n",
       "</style>\n",
       "<table border=\"1\" class=\"dataframe\">\n",
       "  <thead>\n",
       "    <tr style=\"text-align: right;\">\n",
       "      <th></th>\n",
       "      <th>maxspeed</th>\n",
       "      <th>oneway</th>\n",
       "      <th>length</th>\n",
       "      <th>hour_of_day</th>\n",
       "      <th>highway_['residential', 'living_street']</th>\n",
       "      <th>highway_living_street</th>\n",
       "      <th>highway_motorway</th>\n",
       "      <th>highway_motorway_link</th>\n",
       "      <th>highway_primary</th>\n",
       "      <th>highway_primary_link</th>\n",
       "      <th>highway_residential</th>\n",
       "      <th>highway_secondary</th>\n",
       "      <th>highway_secondary_link</th>\n",
       "      <th>highway_tertiary</th>\n",
       "      <th>highway_tertiary_link</th>\n",
       "      <th>highway_trunk_link</th>\n",
       "      <th>highway_unclassified</th>\n",
       "    </tr>\n",
       "  </thead>\n",
       "  <tbody>\n",
       "    <tr>\n",
       "      <th>0</th>\n",
       "      <td>50</td>\n",
       "      <td>False</td>\n",
       "      <td>29.733</td>\n",
       "      <td>9</td>\n",
       "      <td>0</td>\n",
       "      <td>0</td>\n",
       "      <td>0</td>\n",
       "      <td>0</td>\n",
       "      <td>0</td>\n",
       "      <td>0</td>\n",
       "      <td>0</td>\n",
       "      <td>1</td>\n",
       "      <td>0</td>\n",
       "      <td>0</td>\n",
       "      <td>0</td>\n",
       "      <td>0</td>\n",
       "      <td>0</td>\n",
       "    </tr>\n",
       "    <tr>\n",
       "      <th>1</th>\n",
       "      <td>50</td>\n",
       "      <td>True</td>\n",
       "      <td>64.155</td>\n",
       "      <td>9</td>\n",
       "      <td>0</td>\n",
       "      <td>0</td>\n",
       "      <td>0</td>\n",
       "      <td>0</td>\n",
       "      <td>0</td>\n",
       "      <td>0</td>\n",
       "      <td>0</td>\n",
       "      <td>1</td>\n",
       "      <td>0</td>\n",
       "      <td>0</td>\n",
       "      <td>0</td>\n",
       "      <td>0</td>\n",
       "      <td>0</td>\n",
       "    </tr>\n",
       "    <tr>\n",
       "      <th>2</th>\n",
       "      <td>50</td>\n",
       "      <td>False</td>\n",
       "      <td>29.733</td>\n",
       "      <td>7</td>\n",
       "      <td>0</td>\n",
       "      <td>0</td>\n",
       "      <td>0</td>\n",
       "      <td>0</td>\n",
       "      <td>0</td>\n",
       "      <td>0</td>\n",
       "      <td>0</td>\n",
       "      <td>1</td>\n",
       "      <td>0</td>\n",
       "      <td>0</td>\n",
       "      <td>0</td>\n",
       "      <td>0</td>\n",
       "      <td>0</td>\n",
       "    </tr>\n",
       "    <tr>\n",
       "      <th>3</th>\n",
       "      <td>50</td>\n",
       "      <td>True</td>\n",
       "      <td>19.106</td>\n",
       "      <td>8</td>\n",
       "      <td>0</td>\n",
       "      <td>0</td>\n",
       "      <td>0</td>\n",
       "      <td>0</td>\n",
       "      <td>0</td>\n",
       "      <td>0</td>\n",
       "      <td>0</td>\n",
       "      <td>1</td>\n",
       "      <td>0</td>\n",
       "      <td>0</td>\n",
       "      <td>0</td>\n",
       "      <td>0</td>\n",
       "      <td>0</td>\n",
       "    </tr>\n",
       "    <tr>\n",
       "      <th>4</th>\n",
       "      <td>50</td>\n",
       "      <td>True</td>\n",
       "      <td>197.683</td>\n",
       "      <td>8</td>\n",
       "      <td>0</td>\n",
       "      <td>0</td>\n",
       "      <td>0</td>\n",
       "      <td>0</td>\n",
       "      <td>0</td>\n",
       "      <td>0</td>\n",
       "      <td>0</td>\n",
       "      <td>1</td>\n",
       "      <td>0</td>\n",
       "      <td>0</td>\n",
       "      <td>0</td>\n",
       "      <td>0</td>\n",
       "      <td>0</td>\n",
       "    </tr>\n",
       "  </tbody>\n",
       "</table>\n",
       "</div>"
      ],
      "text/plain": [
       "   maxspeed  oneway   length  hour_of_day  \\\n",
       "0        50   False   29.733            9   \n",
       "1        50    True   64.155            9   \n",
       "2        50   False   29.733            7   \n",
       "3        50    True   19.106            8   \n",
       "4        50    True  197.683            8   \n",
       "\n",
       "   highway_['residential', 'living_street']  highway_living_street  \\\n",
       "0                                         0                      0   \n",
       "1                                         0                      0   \n",
       "2                                         0                      0   \n",
       "3                                         0                      0   \n",
       "4                                         0                      0   \n",
       "\n",
       "   highway_motorway  highway_motorway_link  highway_primary  \\\n",
       "0                 0                      0                0   \n",
       "1                 0                      0                0   \n",
       "2                 0                      0                0   \n",
       "3                 0                      0                0   \n",
       "4                 0                      0                0   \n",
       "\n",
       "   highway_primary_link  highway_residential  highway_secondary  \\\n",
       "0                     0                    0                  1   \n",
       "1                     0                    0                  1   \n",
       "2                     0                    0                  1   \n",
       "3                     0                    0                  1   \n",
       "4                     0                    0                  1   \n",
       "\n",
       "   highway_secondary_link  highway_tertiary  highway_tertiary_link  \\\n",
       "0                       0                 0                      0   \n",
       "1                       0                 0                      0   \n",
       "2                       0                 0                      0   \n",
       "3                       0                 0                      0   \n",
       "4                       0                 0                      0   \n",
       "\n",
       "   highway_trunk_link  highway_unclassified  \n",
       "0                   0                     0  \n",
       "1                   0                     0  \n",
       "2                   0                     0  \n",
       "3                   0                     0  \n",
       "4                   0                     0  "
      ]
     },
     "execution_count": 37,
     "metadata": {},
     "output_type": "execute_result"
    }
   ],
   "source": [
    "X.head()"
   ]
  },
  {
   "cell_type": "markdown",
   "id": "extraordinary-remains",
   "metadata": {},
   "source": [
    "#### Fit a linear regression model"
   ]
  },
  {
   "cell_type": "code",
   "execution_count": 38,
   "id": "welcome-jesus",
   "metadata": {},
   "outputs": [],
   "source": [
    "regr = linear_model.LinearRegression().fit(X_train, y_train)\n",
    "y_pred = regr.predict(X_test)"
   ]
  },
  {
   "cell_type": "code",
   "execution_count": 39,
   "id": "speaking-broad",
   "metadata": {},
   "outputs": [
    {
     "name": "stdout",
     "output_type": "stream",
     "text": [
      "Mean squared error: 73.37\n"
     ]
    }
   ],
   "source": [
    "# Mean squared error\n",
    "print('Mean squared error: %.2f'\n",
    "      % mean_squared_error(y_test, y_pred))"
   ]
  },
  {
   "cell_type": "markdown",
   "id": "orange-friday",
   "metadata": {},
   "source": [
    "#### Fit a random forest regression model"
   ]
  },
  {
   "cell_type": "code",
   "execution_count": 40,
   "id": "individual-condition",
   "metadata": {},
   "outputs": [],
   "source": [
    "RFregressor = RandomForestRegressor(n_estimators = 100, random_state = 0).fit(X_train, y_train)\n",
    "y_pred = RFregressor.predict(X_test)"
   ]
  },
  {
   "cell_type": "code",
   "execution_count": 41,
   "id": "acknowledged-tuesday",
   "metadata": {},
   "outputs": [
    {
     "name": "stdout",
     "output_type": "stream",
     "text": [
      "Mean squared error: 86.69\n"
     ]
    }
   ],
   "source": [
    "# Mean squared error\n",
    "print('Mean squared error: %.2f'\n",
    "      % mean_squared_error(y_test, y_pred))"
   ]
  },
  {
   "cell_type": "code",
   "execution_count": null,
   "id": "hollow-still",
   "metadata": {},
   "outputs": [],
   "source": []
  },
  {
   "cell_type": "code",
   "execution_count": null,
   "id": "unusual-dining",
   "metadata": {},
   "outputs": [],
   "source": []
  },
  {
   "cell_type": "code",
   "execution_count": null,
   "id": "chief-inquiry",
   "metadata": {},
   "outputs": [],
   "source": []
  },
  {
   "cell_type": "code",
   "execution_count": null,
   "id": "round-archive",
   "metadata": {},
   "outputs": [],
   "source": []
  },
  {
   "cell_type": "code",
   "execution_count": null,
   "id": "statutory-label",
   "metadata": {},
   "outputs": [],
   "source": []
  },
  {
   "cell_type": "code",
   "execution_count": null,
   "id": "solid-convertible",
   "metadata": {},
   "outputs": [],
   "source": []
  },
  {
   "cell_type": "code",
   "execution_count": null,
   "id": "single-andorra",
   "metadata": {},
   "outputs": [],
   "source": []
  },
  {
   "cell_type": "code",
   "execution_count": null,
   "id": "literary-potential",
   "metadata": {},
   "outputs": [],
   "source": []
  },
  {
   "cell_type": "code",
   "execution_count": null,
   "id": "adaptive-perfume",
   "metadata": {},
   "outputs": [],
   "source": []
  },
  {
   "cell_type": "code",
   "execution_count": null,
   "id": "mature-yesterday",
   "metadata": {},
   "outputs": [],
   "source": []
  },
  {
   "cell_type": "code",
   "execution_count": null,
   "id": "colored-tuner",
   "metadata": {},
   "outputs": [],
   "source": []
  },
  {
   "cell_type": "code",
   "execution_count": null,
   "id": "underlying-dollar",
   "metadata": {},
   "outputs": [],
   "source": []
  }
 ],
 "metadata": {
  "kernelspec": {
   "display_name": "Python 3",
   "language": "python",
   "name": "python3"
  },
  "language_info": {
   "codemirror_mode": {
    "name": "ipython",
    "version": 3
   },
   "file_extension": ".py",
   "mimetype": "text/x-python",
   "name": "python",
   "nbconvert_exporter": "python",
   "pygments_lexer": "ipython3",
   "version": "3.8.1"
  }
 },
 "nbformat": 4,
 "nbformat_minor": 5
}
